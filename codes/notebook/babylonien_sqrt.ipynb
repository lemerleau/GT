{
 "cells": [
  {
   "cell_type": "code",
   "execution_count": 1,
   "id": "fa29f239-1220-4ef3-8b22-8c920e5e99c7",
   "metadata": {},
   "outputs": [
    {
     "data": {
      "text/plain": [
       "15"
      ]
     },
     "execution_count": 1,
     "metadata": {},
     "output_type": "execute_result"
    }
   ],
   "source": [
    "7 + 8 "
   ]
  },
  {
   "cell_type": "code",
   "execution_count": 1,
   "id": "4471651f-23d5-4de9-b5e6-e2521110dc91",
   "metadata": {},
   "outputs": [],
   "source": [
    "r = range(6)"
   ]
  },
  {
   "cell_type": "code",
   "execution_count": 2,
   "id": "b235e084-35bc-4db9-b97d-2d7874170980",
   "metadata": {},
   "outputs": [
    {
     "data": {
      "text/plain": [
       "[0, 1, 2, 3, 4, 5]"
      ]
     },
     "execution_count": 2,
     "metadata": {},
     "output_type": "execute_result"
    }
   ],
   "source": [
    "list(r)"
   ]
  },
  {
   "cell_type": "code",
   "execution_count": 3,
   "id": "d36c6b70-e642-4dd1-ad3d-dab96e79a1e2",
   "metadata": {},
   "outputs": [
    {
     "name": "stdout",
     "output_type": "stream",
     "text": [
      "iter 0 avec x = 1.0\n",
      "iter 1 avec x = 2.5\n",
      "iter 2 avec x = 2.05\n",
      "iter 3 avec x = 2.0006097560975613\n",
      "iter 4 avec x = 2.0000000929222947\n",
      "iter 5 avec x = 2.000000000000002\n",
      "iter 6 avec x = 2.0\n",
      "La racine carrée de 4 est 2.0\n"
     ]
    }
   ],
   "source": [
    "nombre_iter = 10 \n",
    "x = 1.\n",
    "s = 4 \n",
    "for i in range(nombre_iter):\n",
    "    y = (x*x +s)/(2*x)\n",
    "    print(f\"iter {i} avec x = {x}\")\n",
    "    if (y==x): \n",
    "        break\n",
    "    else : \n",
    "        x = y \n",
    "print(f\"La racine carrée de {s} est {x}\")"
   ]
  },
  {
   "cell_type": "code",
   "execution_count": 4,
   "id": "1c125cae-75af-4cfd-adcf-21f4486c460a",
   "metadata": {},
   "outputs": [
    {
     "data": {
      "text/plain": [
       "6"
      ]
     },
     "execution_count": 4,
     "metadata": {},
     "output_type": "execute_result"
    }
   ],
   "source": [
    "i "
   ]
  },
  {
   "cell_type": "code",
   "execution_count": 8,
   "id": "95e9a02f-ef91-4b44-8ccf-81a42b2d4cba",
   "metadata": {},
   "outputs": [
    {
     "name": "stdout",
     "output_type": "stream",
     "text": [
      "iter 0 avec x = 2.5\n",
      "iter 1 avec x = 2.05\n",
      "iter 2 avec x = 2.0006097560975613\n",
      "iter 3 avec x = 2.0000000929222947\n",
      "iter 4 avec x = 2.000000000000002\n",
      "iter 5 avec x = 2.0\n",
      "iter 6 avec x = 2.0\n",
      "La racine carrée de 4 est 2.0\n"
     ]
    }
   ],
   "source": [
    "nombre_iter = 10 \n",
    "x = 1.\n",
    "s = 4 \n",
    "y = (x*x +s)/(2*x)\n",
    "i = 0 \n",
    "print(f\"iter {i} avec x = {y}\")\n",
    "while y != x and i < nombre_iter:\n",
    "    i +=1\n",
    "    x = y\n",
    "    y = (x*x +s)/(2*x)\n",
    "    print(f\"iter {i} avec x = {y}\")\n",
    "print(f\"La racine carrée de {s} est {x}\")"
   ]
  },
  {
   "cell_type": "code",
   "execution_count": 10,
   "id": "de24593b-4088-472e-8406-316e2436fab1",
   "metadata": {},
   "outputs": [
    {
     "name": "stdout",
     "output_type": "stream",
     "text": [
      "Object `while` not found.\n"
     ]
    }
   ],
   "source": [
    "while?"
   ]
  },
  {
   "cell_type": "code",
   "execution_count": 11,
   "id": "3c7f9edd-de0a-49d0-a60e-18fda1f8b6fe",
   "metadata": {},
   "outputs": [],
   "source": []
  },
  {
   "cell_type": "code",
   "execution_count": null,
   "id": "5c3f1ef5-564a-4978-950a-4d4367f53194",
   "metadata": {},
   "outputs": [],
   "source": []
  }
 ],
 "metadata": {
  "kernelspec": {
   "display_name": "sage",
   "language": "python",
   "name": "sage"
  },
  "language_info": {
   "codemirror_mode": {
    "name": "ipython",
    "version": 3
   },
   "file_extension": ".py",
   "mimetype": "text/x-python",
   "name": "python",
   "nbconvert_exporter": "python",
   "pygments_lexer": "ipython3",
   "version": "3.11.13"
  }
 },
 "nbformat": 4,
 "nbformat_minor": 5
}
