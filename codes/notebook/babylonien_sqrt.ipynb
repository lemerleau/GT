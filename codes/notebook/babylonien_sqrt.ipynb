{
 "cells": [
  {
   "cell_type": "code",
   "execution_count": 1,
   "id": "fa29f239-1220-4ef3-8b22-8c920e5e99c7",
   "metadata": {},
   "outputs": [
    {
     "data": {
      "text/plain": [
       "15"
      ]
     },
     "execution_count": 1,
     "metadata": {},
     "output_type": "execute_result"
    }
   ],
   "source": [
    "7 + 8 "
   ]
  },
  {
   "cell_type": "code",
   "execution_count": 1,
   "id": "4471651f-23d5-4de9-b5e6-e2521110dc91",
   "metadata": {},
   "outputs": [],
   "source": [
    "r = range(6)"
   ]
  },
  {
   "cell_type": "code",
   "execution_count": 2,
   "id": "b235e084-35bc-4db9-b97d-2d7874170980",
   "metadata": {},
   "outputs": [
    {
     "data": {
      "text/plain": [
       "[0, 1, 2, 3, 4, 5]"
      ]
     },
     "execution_count": 2,
     "metadata": {},
     "output_type": "execute_result"
    }
   ],
   "source": [
    "list(r)"
   ]
  },
  {
   "cell_type": "code",
   "execution_count": 3,
   "id": "d36c6b70-e642-4dd1-ad3d-dab96e79a1e2",
   "metadata": {},
   "outputs": [
    {
     "name": "stdout",
     "output_type": "stream",
     "text": [
      "iter 0 avec x = 1.0\n",
      "iter 1 avec x = 2.5\n",
      "iter 2 avec x = 2.05\n",
      "iter 3 avec x = 2.0006097560975613\n",
      "iter 4 avec x = 2.0000000929222947\n",
      "iter 5 avec x = 2.000000000000002\n",
      "iter 6 avec x = 2.0\n",
      "La racine carrée de 4 est 2.0\n"
     ]
    }
   ],
   "source": [
    "nombre_iter = 10 \n",
    "x = 1.\n",
    "s = 4 \n",
    "for i in range(nombre_iter):\n",
    "    y = (x*x +s)/(2*x)\n",
    "    print(f\"iter {i} avec x = {x}\")\n",
    "    if (y==x): \n",
    "        break\n",
    "    else : \n",
    "        x = y \n",
    "print(f\"La racine carrée de {s} est {x}\")"
   ]
  },
  {
   "cell_type": "code",
   "execution_count": 4,
   "id": "1c125cae-75af-4cfd-adcf-21f4486c460a",
   "metadata": {},
   "outputs": [
    {
     "data": {
      "text/plain": [
       "6"
      ]
     },
     "execution_count": 4,
     "metadata": {},
     "output_type": "execute_result"
    }
   ],
   "source": [
    "i "
   ]
  },
  {
   "cell_type": "code",
   "execution_count": 8,
   "id": "95e9a02f-ef91-4b44-8ccf-81a42b2d4cba",
   "metadata": {},
   "outputs": [
    {
     "name": "stdout",
     "output_type": "stream",
     "text": [
      "iter 0 avec x = 2.5\n",
      "iter 1 avec x = 2.05\n",
      "iter 2 avec x = 2.0006097560975613\n",
      "iter 3 avec x = 2.0000000929222947\n",
      "iter 4 avec x = 2.000000000000002\n",
      "iter 5 avec x = 2.0\n",
      "iter 6 avec x = 2.0\n",
      "La racine carrée de 4 est 2.0\n"
     ]
    }
   ],
   "source": [
    "nombre_iter = 10 \n",
    "x = 1.\n",
    "s = 4 \n",
    "y = (x*x +s)/(2*x)\n",
    "i = 0 \n",
    "print(f\"iter {i} avec x = {y}\")\n",
    "while y != x and i < nombre_iter:\n",
    "    i +=1\n",
    "    x = y\n",
    "    y = (x*x +s)/(2*x)\n",
    "    print(f\"iter {i} avec x = {y}\")\n",
    "print(f\"La racine carrée de {s} est {x}\")"
   ]
  },
  {
   "cell_type": "code",
   "execution_count": 10,
   "id": "de24593b-4088-472e-8406-316e2436fab1",
   "metadata": {},
   "outputs": [
    {
     "name": "stdout",
     "output_type": "stream",
     "text": [
      "Object `while` not found.\n"
     ]
    }
   ],
   "source": [
    "while?"
   ]
  },
  {
   "cell_type": "code",
   "execution_count": 12,
   "id": "3c7f9edd-de0a-49d0-a60e-18fda1f8b6fe",
   "metadata": {},
   "outputs": [],
   "source": [
    "l = [2, 2,3,5]"
   ]
  },
  {
   "cell_type": "code",
   "execution_count": 13,
   "id": "5c3f1ef5-564a-4978-950a-4d4367f53194",
   "metadata": {},
   "outputs": [
    {
     "data": {
      "text/plain": [
       "[2, 2, 3, 5]"
      ]
     },
     "execution_count": 13,
     "metadata": {},
     "output_type": "execute_result"
    }
   ],
   "source": [
    "l"
   ]
  },
  {
   "cell_type": "code",
   "execution_count": 14,
   "id": "9d28be26-f485-407d-8c38-f51530877f9e",
   "metadata": {},
   "outputs": [
    {
     "data": {
      "text/plain": [
       "list"
      ]
     },
     "execution_count": 14,
     "metadata": {},
     "output_type": "execute_result"
    }
   ],
   "source": [
    "type(l)"
   ]
  },
  {
   "cell_type": "code",
   "execution_count": 15,
   "id": "eccd8f7f-ef51-4c69-b859-d5414a4319ff",
   "metadata": {},
   "outputs": [],
   "source": [
    "t = (2, 2,3,5)"
   ]
  },
  {
   "cell_type": "code",
   "execution_count": 16,
   "id": "35f3f742-5a15-4f46-9634-247d278ff169",
   "metadata": {},
   "outputs": [
    {
     "data": {
      "text/plain": [
       "2"
      ]
     },
     "execution_count": 16,
     "metadata": {},
     "output_type": "execute_result"
    }
   ],
   "source": [
    "l[1]"
   ]
  },
  {
   "cell_type": "code",
   "execution_count": 17,
   "id": "057f48da-a4eb-44b8-a9ff-1b9decf0173d",
   "metadata": {},
   "outputs": [
    {
     "data": {
      "text/plain": [
       "[2, 7, 3, 5]"
      ]
     },
     "execution_count": 17,
     "metadata": {},
     "output_type": "execute_result"
    }
   ],
   "source": [
    "l[1] = 7\n",
    "l "
   ]
  },
  {
   "cell_type": "code",
   "execution_count": 18,
   "id": "693ddeb4-83d9-41cb-8e88-402ce41794a3",
   "metadata": {},
   "outputs": [
    {
     "ename": "TypeError",
     "evalue": "'tuple' object does not support item assignment",
     "output_type": "error",
     "traceback": [
      "\u001b[0;31m---------------------------------------------------------------------------\u001b[0m",
      "\u001b[0;31mTypeError\u001b[0m                                 Traceback (most recent call last)",
      "Cell \u001b[0;32mIn[18], line 1\u001b[0m\n\u001b[0;32m----> 1\u001b[0m \u001b[43mt\u001b[49m\u001b[43m[\u001b[49m\u001b[38;5;241;43m2\u001b[39;49m\u001b[43m]\u001b[49m \u001b[38;5;241m=\u001b[39m \u001b[38;5;241m7\u001b[39m\n",
      "\u001b[0;31mTypeError\u001b[0m: 'tuple' object does not support item assignment"
     ]
    }
   ],
   "source": [
    "t[2] = 7"
   ]
  },
  {
   "cell_type": "code",
   "execution_count": 22,
   "id": "04e1812f-4ee0-456f-aba0-aff71d490fbd",
   "metadata": {},
   "outputs": [],
   "source": [
    "s = {2,3,5, 5}"
   ]
  },
  {
   "cell_type": "code",
   "execution_count": 30,
   "id": "aa22fceb-bba1-4716-90e5-7def3c4a4830",
   "metadata": {},
   "outputs": [
    {
     "ename": "SyntaxError",
     "evalue": "invalid syntax (2942501517.py, line 1)",
     "output_type": "error",
     "traceback": [
      "\u001b[0;36m  Cell \u001b[0;32mIn[30], line 1\u001b[0;36m\u001b[0m\n\u001b[0;31m    s{0}\u001b[0m\n\u001b[0m     ^\u001b[0m\n\u001b[0;31mSyntaxError\u001b[0m\u001b[0;31m:\u001b[0m invalid syntax\n"
     ]
    }
   ],
   "source": [
    "s"
   ]
  },
  {
   "cell_type": "code",
   "execution_count": 28,
   "id": "2ca5dc61-79df-403e-a09b-273432254831",
   "metadata": {},
   "outputs": [
    {
     "data": {
      "text/plain": [
       "{2, 5}"
      ]
     },
     "execution_count": 28,
     "metadata": {},
     "output_type": "execute_result"
    }
   ],
   "source": [
    "s - {3}"
   ]
  },
  {
   "cell_type": "code",
   "execution_count": 26,
   "id": "fc59b0e6-df19-407a-b629-214145dee4d9",
   "metadata": {},
   "outputs": [
    {
     "data": {
      "text/plain": [
       "{2, 3, 5}"
      ]
     },
     "execution_count": 26,
     "metadata": {},
     "output_type": "execute_result"
    }
   ],
   "source": [
    "s.union({2,3})"
   ]
  },
  {
   "cell_type": "code",
   "execution_count": null,
   "id": "323094d4-8e72-4de7-b0f8-31779dac598b",
   "metadata": {},
   "outputs": [],
   "source": []
  }
 ],
 "metadata": {
  "kernelspec": {
   "display_name": "sage",
   "language": "python",
   "name": "sage"
  },
  "language_info": {
   "codemirror_mode": {
    "name": "ipython",
    "version": 3
   },
   "file_extension": ".py",
   "mimetype": "text/x-python",
   "name": "python",
   "nbconvert_exporter": "python",
   "pygments_lexer": "ipython3",
   "version": "3.11.13"
  }
 },
 "nbformat": 4,
 "nbformat_minor": 5
}
