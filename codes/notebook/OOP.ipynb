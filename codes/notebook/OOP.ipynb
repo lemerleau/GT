{
 "cells": [
  {
   "cell_type": "markdown",
   "id": "4af6f6bc",
   "metadata": {},
   "source": [
    "# Part1: OOP in Python"
   ]
  },
  {
   "cell_type": "code",
   "execution_count": 15,
   "id": "03e4297a",
   "metadata": {},
   "outputs": [],
   "source": [
    "#import the necessary libraries\n",
    "import abc\n",
    "import itertools "
   ]
  },
  {
   "cell_type": "markdown",
   "id": "5253c53c",
   "metadata": {},
   "source": [
    "## Classes and objects"
   ]
  },
  {
   "cell_type": "code",
   "execution_count": 20,
   "id": "5dc93905",
   "metadata": {},
   "outputs": [],
   "source": [
    "class Rectangle(object): \n",
    "    \"\"\"An abtract representation of a rectangle\"\"\"\n",
    "    \n",
    "    #Attributes \n",
    "    p1 = (0, 0)\n",
    "    p2 = (1,2)\n",
    "    \n",
    "    #Methods \n",
    "    def area(self) : \n",
    "        return abs(self.p1[0] - self.p2[0])* abs(self.p1[1] - self.p2[1])\n",
    "    def __iter__(self) : \n",
    "        return iter([self.p1, self.p2])\n",
    "    #Setters like Java \n",
    "    def setP1(self, p1) : \n",
    "        self.p1 = p1 \n",
    "        \n",
    "    def setP2(self, p2) : \n",
    "        self.p2 = p2 \n",
    "    "
   ]
  },
  {
   "cell_type": "code",
   "execution_count": 21,
   "id": "36fa2344",
   "metadata": {},
   "outputs": [
    {
     "data": {
      "text/plain": [
       "['__doc__',\n",
       " '__loader__',\n",
       " '__name__',\n",
       " '__package__',\n",
       " '__spec__',\n",
       " '_grouper',\n",
       " '_tee',\n",
       " '_tee_dataobject',\n",
       " 'accumulate',\n",
       " 'chain',\n",
       " 'combinations',\n",
       " 'combinations_with_replacement',\n",
       " 'compress',\n",
       " 'count',\n",
       " 'cycle',\n",
       " 'dropwhile',\n",
       " 'filterfalse',\n",
       " 'groupby',\n",
       " 'islice',\n",
       " 'pairwise',\n",
       " 'permutations',\n",
       " 'product',\n",
       " 'repeat',\n",
       " 'starmap',\n",
       " 'takewhile',\n",
       " 'tee',\n",
       " 'zip_longest']"
      ]
     },
     "execution_count": 21,
     "metadata": {},
     "output_type": "execute_result"
    }
   ],
   "source": [
    "dir(itertools)"
   ]
  },
  {
   "cell_type": "code",
   "execution_count": null,
   "id": "bd03f59a",
   "metadata": {},
   "outputs": [],
   "source": []
  },
  {
   "cell_type": "code",
   "execution_count": 23,
   "id": "7c74fed4-bee2-4a23-a8aa-e7ef5729dbf3",
   "metadata": {},
   "outputs": [
    {
     "data": {
      "text/plain": [
       "[(0, 0), (1, 2)]"
      ]
     },
     "execution_count": 23,
     "metadata": {},
     "output_type": "execute_result"
    }
   ],
   "source": [
    "rect= Rectangle()\n",
    "list(rect)"
   ]
  },
  {
   "cell_type": "code",
   "execution_count": 19,
   "id": "9c44f1d5-6c43-45a7-bd80-f5dbc62827dc",
   "metadata": {},
   "outputs": [
    {
     "data": {
      "text/plain": [
       "\u001b[0;31mDocstring:\u001b[0m\n",
       "iter(iterable) -> iterator\n",
       "iter(callable, sentinel) -> iterator\n",
       "\n",
       "Get an iterator from an object.  In the first form, the argument must\n",
       "supply its own iterator, or be a sequence.\n",
       "In the second form, the callable is called until it returns the sentinel.\n",
       "\u001b[0;31mType:\u001b[0m      builtin_function_or_method"
      ]
     },
     "metadata": {},
     "output_type": "display_data"
    }
   ],
   "source": [
    "iter?"
   ]
  },
  {
   "cell_type": "code",
   "execution_count": null,
   "id": "c6b7a0be-1df3-4b76-9710-1e99781f15f6",
   "metadata": {},
   "outputs": [],
   "source": []
  },
  {
   "cell_type": "code",
   "execution_count": null,
   "id": "71fd8c0f-452f-4c7a-85b8-0d6e97fe226a",
   "metadata": {},
   "outputs": [],
   "source": []
  },
  {
   "cell_type": "code",
   "execution_count": 5,
   "id": "1771fd46",
   "metadata": {},
   "outputs": [
    {
     "data": {
      "text/plain": [
       "2"
      ]
     },
     "execution_count": 5,
     "metadata": {},
     "output_type": "execute_result"
    }
   ],
   "source": [
    "rectangle = Rectangle()\n",
    "rectangle.area()"
   ]
  },
  {
   "cell_type": "code",
   "execution_count": 6,
   "id": "94267e40",
   "metadata": {},
   "outputs": [
    {
     "data": {
      "text/plain": [
       "['__class__',\n",
       " '__delattr__',\n",
       " '__dict__',\n",
       " '__dir__',\n",
       " '__doc__',\n",
       " '__eq__',\n",
       " '__format__',\n",
       " '__ge__',\n",
       " '__getattribute__',\n",
       " '__getstate__',\n",
       " '__gt__',\n",
       " '__hash__',\n",
       " '__init__',\n",
       " '__init_subclass__',\n",
       " '__le__',\n",
       " '__lt__',\n",
       " '__module__',\n",
       " '__ne__',\n",
       " '__new__',\n",
       " '__reduce__',\n",
       " '__reduce_ex__',\n",
       " '__repr__',\n",
       " '__setattr__',\n",
       " '__sizeof__',\n",
       " '__str__',\n",
       " '__subclasshook__',\n",
       " '__weakref__',\n",
       " 'area',\n",
       " 'p1',\n",
       " 'p2',\n",
       " 'setP1',\n",
       " 'setP2']"
      ]
     },
     "execution_count": 6,
     "metadata": {},
     "output_type": "execute_result"
    }
   ],
   "source": [
    "dir(rectangle)"
   ]
  },
  {
   "cell_type": "code",
   "execution_count": 7,
   "id": "32fc2aad",
   "metadata": {},
   "outputs": [
    {
     "data": {
      "text/plain": [
       "((0, 0), (1, 2))"
      ]
     },
     "execution_count": 7,
     "metadata": {},
     "output_type": "execute_result"
    }
   ],
   "source": [
    "(rectangle.p1, rectangle.p2 )"
   ]
  },
  {
   "cell_type": "code",
   "execution_count": 8,
   "id": "e54f087f",
   "metadata": {},
   "outputs": [],
   "source": [
    "rectangle.p1 = (2,1)"
   ]
  },
  {
   "cell_type": "code",
   "execution_count": 9,
   "id": "c64bef85",
   "metadata": {},
   "outputs": [
    {
     "data": {
      "text/plain": [
       "1"
      ]
     },
     "execution_count": 9,
     "metadata": {},
     "output_type": "execute_result"
    }
   ],
   "source": [
    "rectangle.area()"
   ]
  },
  {
   "cell_type": "code",
   "execution_count": 10,
   "id": "55bcb380",
   "metadata": {},
   "outputs": [
    {
     "data": {
      "text/plain": [
       "2"
      ]
     },
     "execution_count": 10,
     "metadata": {},
     "output_type": "execute_result"
    }
   ],
   "source": [
    "rectangle.setP1((0,0))\n",
    "rectangle.area()"
   ]
  },
  {
   "cell_type": "code",
   "execution_count": 11,
   "id": "99c2c26b",
   "metadata": {},
   "outputs": [],
   "source": [
    "class Rectangle: \n",
    "    \"\"\"An abtract representation of a rectangle\"\"\"\n",
    "    \n",
    "    #Constructor\n",
    "    def __init__(self, p1=[0,0], p2=[1,2]) : \n",
    "        \n",
    "        self.p1 =  p1\n",
    "        self.p2 = p2\n",
    "    \n",
    "    #Methods \n",
    "    def area(self) : \n",
    "        return abs(self.p1[0] - self.p2[0])* abs(self.p1[1] - self.p2[1])\n",
    "    \n",
    "    #Setters like Java \n",
    "    def setP1(self, p1) : \n",
    "        self.p1 = p1 \n",
    "        \n",
    "    def setP2(self, p2) : \n",
    "        self.p2 = p2 \n",
    "    "
   ]
  },
  {
   "cell_type": "code",
   "execution_count": 12,
   "id": "1a1bef84",
   "metadata": {},
   "outputs": [
    {
     "data": {
      "text/plain": [
       "2"
      ]
     },
     "execution_count": 12,
     "metadata": {},
     "output_type": "execute_result"
    }
   ],
   "source": [
    "rectangle = Rectangle()\n",
    "rectangle.area()"
   ]
  },
  {
   "cell_type": "code",
   "execution_count": 13,
   "id": "ef71662e",
   "metadata": {},
   "outputs": [],
   "source": [
    "x = Rectangle()\n",
    "y = Rectangle()"
   ]
  },
  {
   "cell_type": "code",
   "execution_count": 14,
   "id": "fdecda7f",
   "metadata": {},
   "outputs": [],
   "source": [
    "x.p1[0] = 3"
   ]
  },
  {
   "cell_type": "code",
   "execution_count": 15,
   "id": "9e8f49f1",
   "metadata": {},
   "outputs": [
    {
     "data": {
      "text/plain": [
       "[3, 0]"
      ]
     },
     "execution_count": 15,
     "metadata": {},
     "output_type": "execute_result"
    }
   ],
   "source": [
    "y.p1"
   ]
  },
  {
   "cell_type": "code",
   "execution_count": 16,
   "id": "f854c095",
   "metadata": {},
   "outputs": [],
   "source": [
    "class Rectangle: \n",
    "    \"\"\"An abtract representation of a rectangle\"\"\"\n",
    "    \n",
    "    #Constructor\n",
    "    def __init__(self, p1=None, p2=None) : \n",
    "        \n",
    "        self.p1 =  list([0,0])\n",
    "        self.p2 = list([1,2])\n",
    "    \n",
    "    #Methods \n",
    "    def area(self) : \n",
    "        return abs(self.p1[0] - self.p2[0])* abs(self.p1[1] - self.p2[1])\n",
    "    \n",
    "    #Setters like Java \n",
    "    def setP1(self, p1) : \n",
    "        self.p1 = p1\n",
    "        return self \n",
    "        \n",
    "    def setP2(self, p2) : \n",
    "        self.p2 = p2 \n",
    "        return self \n",
    "    "
   ]
  },
  {
   "cell_type": "code",
   "execution_count": 17,
   "id": "b249b4a1",
   "metadata": {},
   "outputs": [],
   "source": [
    "rect1 = Rectangle().setP1((1,1))"
   ]
  },
  {
   "cell_type": "code",
   "execution_count": 18,
   "id": "995c1a1c",
   "metadata": {},
   "outputs": [
    {
     "data": {
      "text/plain": [
       "0"
      ]
     },
     "execution_count": 18,
     "metadata": {},
     "output_type": "execute_result"
    }
   ],
   "source": [
    "rect1.area()"
   ]
  },
  {
   "cell_type": "code",
   "execution_count": 19,
   "id": "c7de0cbb",
   "metadata": {},
   "outputs": [
    {
     "data": {
      "text/plain": [
       "(1, 1)"
      ]
     },
     "execution_count": 19,
     "metadata": {},
     "output_type": "execute_result"
    }
   ],
   "source": [
    "rect1.p1"
   ]
  },
  {
   "cell_type": "code",
   "execution_count": 20,
   "id": "a1782989",
   "metadata": {},
   "outputs": [
    {
     "data": {
      "text/plain": [
       "0"
      ]
     },
     "execution_count": 20,
     "metadata": {},
     "output_type": "execute_result"
    }
   ],
   "source": [
    "Rectangle().setP1((1,1)).area()"
   ]
  },
  {
   "cell_type": "code",
   "execution_count": 21,
   "id": "fb85b91a",
   "metadata": {},
   "outputs": [
    {
     "data": {
      "text/plain": [
       "[3, 0]"
      ]
     },
     "execution_count": 21,
     "metadata": {},
     "output_type": "execute_result"
    }
   ],
   "source": [
    "x.p1"
   ]
  },
  {
   "cell_type": "code",
   "execution_count": 22,
   "id": "b90fb8c9",
   "metadata": {},
   "outputs": [
    {
     "data": {
      "text/plain": [
       "['__class__',\n",
       " '__delattr__',\n",
       " '__dict__',\n",
       " '__dir__',\n",
       " '__doc__',\n",
       " '__eq__',\n",
       " '__format__',\n",
       " '__ge__',\n",
       " '__getattribute__',\n",
       " '__getstate__',\n",
       " '__gt__',\n",
       " '__hash__',\n",
       " '__init__',\n",
       " '__init_subclass__',\n",
       " '__le__',\n",
       " '__lt__',\n",
       " '__module__',\n",
       " '__ne__',\n",
       " '__new__',\n",
       " '__reduce__',\n",
       " '__reduce_ex__',\n",
       " '__repr__',\n",
       " '__setattr__',\n",
       " '__sizeof__',\n",
       " '__str__',\n",
       " '__subclasshook__',\n",
       " '__weakref__',\n",
       " 'area',\n",
       " 'setP1',\n",
       " 'setP2']"
      ]
     },
     "execution_count": 22,
     "metadata": {},
     "output_type": "execute_result"
    }
   ],
   "source": [
    "dir(Rectangle)"
   ]
  },
  {
   "cell_type": "code",
   "execution_count": 23,
   "id": "9b7032d2",
   "metadata": {},
   "outputs": [],
   "source": [
    "rectangle.p2 = (2,2)"
   ]
  },
  {
   "cell_type": "code",
   "execution_count": 24,
   "id": "063815e3",
   "metadata": {},
   "outputs": [
    {
     "data": {
      "text/plain": [
       "2"
      ]
     },
     "execution_count": 24,
     "metadata": {},
     "output_type": "execute_result"
    }
   ],
   "source": [
    "rectangle.area()"
   ]
  },
  {
   "cell_type": "code",
   "execution_count": 25,
   "id": "bb92cd76",
   "metadata": {},
   "outputs": [],
   "source": [
    "class RectanglePrivate: \n",
    "    \"\"\"An abtract representation of a rectangle\"\"\"\n",
    "    \n",
    "    #Constructor\n",
    "    def __init__(self, p1=(0,0), p2=(1,2)) : \n",
    "\n",
    "        self.__p1 = p1 #private\n",
    "        self.p2 = p2 #public \n",
    "    \n",
    "    #Methods \n",
    "    def area(self) : \n",
    "        return abs(self.__p1[0] - self.p2[0])* abs(self.__p1[1] - self.p2[1])\n",
    "    \n",
    "    #Setters like Java \n",
    "    def setP2(self, p2) : \n",
    "        self.p2 = p2 \n",
    "        return self "
   ]
  },
  {
   "cell_type": "code",
   "execution_count": 26,
   "id": "5870066c",
   "metadata": {},
   "outputs": [
    {
     "data": {
      "text/plain": [
       "2"
      ]
     },
     "execution_count": 26,
     "metadata": {},
     "output_type": "execute_result"
    }
   ],
   "source": [
    "rectangle = RectanglePrivate()\n",
    "rectangle.area()"
   ]
  },
  {
   "cell_type": "code",
   "execution_count": 27,
   "id": "036e50cc",
   "metadata": {},
   "outputs": [
    {
     "ename": "AttributeError",
     "evalue": "'RectanglePrivate' object has no attribute '__p1'",
     "output_type": "error",
     "traceback": [
      "\u001b[0;31m---------------------------------------------------------------------------\u001b[0m",
      "\u001b[0;31mAttributeError\u001b[0m                            Traceback (most recent call last)",
      "Cell \u001b[0;32mIn[27], line 1\u001b[0m\n\u001b[0;32m----> 1\u001b[0m \u001b[43mrectangle\u001b[49m\u001b[38;5;241;43m.\u001b[39;49m\u001b[43m__p1\u001b[49m\n",
      "\u001b[0;31mAttributeError\u001b[0m: 'RectanglePrivate' object has no attribute '__p1'"
     ]
    }
   ],
   "source": [
    "rectangle.__p1"
   ]
  },
  {
   "cell_type": "code",
   "execution_count": 28,
   "id": "04b47d95",
   "metadata": {},
   "outputs": [
    {
     "data": {
      "text/plain": [
       "['_RectanglePrivate__p1',\n",
       " '__class__',\n",
       " '__delattr__',\n",
       " '__dict__',\n",
       " '__dir__',\n",
       " '__doc__',\n",
       " '__eq__',\n",
       " '__format__',\n",
       " '__ge__',\n",
       " '__getattribute__',\n",
       " '__getstate__',\n",
       " '__gt__',\n",
       " '__hash__',\n",
       " '__init__',\n",
       " '__init_subclass__',\n",
       " '__le__',\n",
       " '__lt__',\n",
       " '__module__',\n",
       " '__ne__',\n",
       " '__new__',\n",
       " '__reduce__',\n",
       " '__reduce_ex__',\n",
       " '__repr__',\n",
       " '__setattr__',\n",
       " '__sizeof__',\n",
       " '__str__',\n",
       " '__subclasshook__',\n",
       " '__weakref__',\n",
       " 'area',\n",
       " 'p2',\n",
       " 'setP2']"
      ]
     },
     "execution_count": 28,
     "metadata": {},
     "output_type": "execute_result"
    }
   ],
   "source": [
    "dir(rectangle)"
   ]
  },
  {
   "cell_type": "code",
   "execution_count": 29,
   "id": "7d0a17c8",
   "metadata": {},
   "outputs": [
    {
     "data": {
      "text/plain": [
       "'An abtract representation of a rectangle'"
      ]
     },
     "execution_count": 29,
     "metadata": {},
     "output_type": "execute_result"
    }
   ],
   "source": [
    "rectangle.__doc__"
   ]
  },
  {
   "cell_type": "code",
   "execution_count": 30,
   "id": "2f944992",
   "metadata": {},
   "outputs": [],
   "source": [
    "rectangle._RectanglePrivate__p1 = (2,2)"
   ]
  },
  {
   "cell_type": "code",
   "execution_count": 31,
   "id": "8c90ebb2",
   "metadata": {},
   "outputs": [
    {
     "data": {
      "text/plain": [
       "0"
      ]
     },
     "execution_count": 31,
     "metadata": {},
     "output_type": "execute_result"
    }
   ],
   "source": [
    "rectangle.area()"
   ]
  },
  {
   "cell_type": "markdown",
   "id": "67718221",
   "metadata": {},
   "source": [
    "# Method chaining"
   ]
  },
  {
   "cell_type": "code",
   "execution_count": 137,
   "id": "9d7627e3",
   "metadata": {},
   "outputs": [],
   "source": [
    "class Rectangle:\n",
    "    \"\"\"An object representation of a rectangle\"\"\"\n",
    "    # Constructor\n",
    "    def __init__(self, p1 = (0,0), p2 = (1,1)):\n",
    "        self.p1 = p1\n",
    "        self.p2 = p2\n",
    "    \n",
    "    # Methods\n",
    "    def area(self):\n",
    "        return abs(self.p1[0] - self.p2[0]) * abs(self.p1[1] - self.p2[1])\n",
    "    \n",
    "    # Setters\n",
    "    def setP1(self, p1):\n",
    "        self.p1 = p1\n",
    "        return self\n",
    "    \n",
    "    def setP2(self, p2):\n",
    "        self.p2 = p2\n",
    "        return self\n"
   ]
  },
  {
   "cell_type": "code",
   "execution_count": 132,
   "id": "d2150de5",
   "metadata": {},
   "outputs": [],
   "source": [
    "rectangle = Rectangle()"
   ]
  },
  {
   "cell_type": "code",
   "execution_count": 133,
   "id": "9b910b9b",
   "metadata": {},
   "outputs": [
    {
     "data": {
      "text/plain": [
       "['__class__',\n",
       " '__delattr__',\n",
       " '__dict__',\n",
       " '__dir__',\n",
       " '__doc__',\n",
       " '__eq__',\n",
       " '__format__',\n",
       " '__ge__',\n",
       " '__getattribute__',\n",
       " '__getstate__',\n",
       " '__gt__',\n",
       " '__hash__',\n",
       " '__init__',\n",
       " '__init_subclass__',\n",
       " '__le__',\n",
       " '__lt__',\n",
       " '__module__',\n",
       " '__ne__',\n",
       " '__new__',\n",
       " '__reduce__',\n",
       " '__reduce_ex__',\n",
       " '__repr__',\n",
       " '__setattr__',\n",
       " '__sizeof__',\n",
       " '__str__',\n",
       " '__subclasshook__',\n",
       " '__weakref__',\n",
       " 'area',\n",
       " 'p1',\n",
       " 'p2',\n",
       " 'setP1',\n",
       " 'setP2']"
      ]
     },
     "execution_count": 133,
     "metadata": {},
     "output_type": "execute_result"
    }
   ],
   "source": [
    "dir(rectangle)"
   ]
  },
  {
   "cell_type": "code",
   "execution_count": 134,
   "id": "c1552dc5",
   "metadata": {},
   "outputs": [
    {
     "ename": "TypeError",
     "evalue": "__str__ returned non-string (type NoneType)",
     "output_type": "error",
     "traceback": [
      "\u001b[0;31m---------------------------------------------------------------------------\u001b[0m",
      "\u001b[0;31mTypeError\u001b[0m                                 Traceback (most recent call last)",
      "Cell \u001b[0;32mIn[134], line 1\u001b[0m\n\u001b[0;32m----> 1\u001b[0m \u001b[38;5;28;43mprint\u001b[39;49m\u001b[43m(\u001b[49m\u001b[43mrectangle\u001b[49m\u001b[43m)\u001b[49m\n",
      "\u001b[0;31mTypeError\u001b[0m: __str__ returned non-string (type NoneType)"
     ]
    }
   ],
   "source": [
    "print(rectangle)"
   ]
  },
  {
   "cell_type": "code",
   "execution_count": 129,
   "id": "c9758363",
   "metadata": {},
   "outputs": [
    {
     "data": {
      "text/plain": [
       "'<__main__.Rectangle object at 0x108702850>'"
      ]
     },
     "execution_count": 129,
     "metadata": {},
     "output_type": "execute_result"
    }
   ],
   "source": [
    "str(rectangle)"
   ]
  },
  {
   "cell_type": "code",
   "execution_count": 130,
   "id": "2b7f04ba",
   "metadata": {},
   "outputs": [
    {
     "data": {
      "text/plain": [
       "<slot wrapper '__str__' of 'object' objects>"
      ]
     },
     "execution_count": 130,
     "metadata": {},
     "output_type": "execute_result"
    }
   ],
   "source": [
    "Rectangle.__str__"
   ]
  },
  {
   "cell_type": "code",
   "execution_count": null,
   "id": "56adc54c",
   "metadata": {},
   "outputs": [],
   "source": []
  },
  {
   "cell_type": "code",
   "execution_count": null,
   "id": "3e1f0a15",
   "metadata": {},
   "outputs": [],
   "source": []
  },
  {
   "cell_type": "code",
   "execution_count": 34,
   "id": "a1eb53ec",
   "metadata": {},
   "outputs": [
    {
     "data": {
      "text/plain": [
       "4"
      ]
     },
     "execution_count": 34,
     "metadata": {},
     "output_type": "execute_result"
    }
   ],
   "source": [
    "Rectangle().setP1((-1,-1)).area()"
   ]
  },
  {
   "cell_type": "markdown",
   "id": "1badb0b3",
   "metadata": {},
   "source": [
    "## Class object string formating"
   ]
  },
  {
   "cell_type": "code",
   "execution_count": 35,
   "id": "3cdb7257",
   "metadata": {},
   "outputs": [],
   "source": [
    "def rect_str(self):\n",
    "    return f\"Rectangle[{self.p1}, {self.p2}] => area={self.area()}\"\n",
    "Rectangle.__str__ = rect_str"
   ]
  },
  {
   "cell_type": "code",
   "execution_count": 36,
   "id": "d264c5c0",
   "metadata": {},
   "outputs": [
    {
     "name": "stdout",
     "output_type": "stream",
     "text": [
      "Rectangle[(0, 0), (1, 1)] => area=1\n"
     ]
    }
   ],
   "source": [
    "print(Rectangle())"
   ]
  },
  {
   "cell_type": "code",
   "execution_count": 37,
   "id": "a880dd10",
   "metadata": {},
   "outputs": [
    {
     "data": {
      "text/plain": [
       "<__main__.Rectangle at 0x10877c6d0>"
      ]
     },
     "execution_count": 37,
     "metadata": {},
     "output_type": "execute_result"
    }
   ],
   "source": [
    "Rectangle()"
   ]
  },
  {
   "cell_type": "code",
   "execution_count": 38,
   "id": "6fa8eb39",
   "metadata": {},
   "outputs": [
    {
     "data": {
      "text/plain": [
       "'Rectangle[(0, 0), (1, 1)] => area=1'"
      ]
     },
     "execution_count": 38,
     "metadata": {},
     "output_type": "execute_result"
    }
   ],
   "source": [
    "str(Rectangle())"
   ]
  },
  {
   "cell_type": "code",
   "execution_count": 39,
   "id": "3cfb749d",
   "metadata": {},
   "outputs": [],
   "source": [
    "def rect_repr(self):\n",
    "    return f\"Rectangle({self.p1}, {self.p2})\"\n",
    "Rectangle.__repr__ = rect_repr"
   ]
  },
  {
   "cell_type": "code",
   "execution_count": 141,
   "id": "a7ad893e",
   "metadata": {},
   "outputs": [],
   "source": [
    "class Rectangle:\n",
    "    \"\"\"An object representation of a rectangle\"\"\"\n",
    "    # Constructor\n",
    "    def __init__(self, p1 = (0,0), p2 = (1,1)):\n",
    "        self.p1 = p1\n",
    "        self.p2 = p2\n",
    "        \n",
    "    def __str__(self): \n",
    "        return \"Rectangle[\"+str(self.p1)+\", \"+str(self.p2)+ \"]=>area=\" + str(self.area())+\"}\"\n",
    "        \n",
    "    # Methods\n",
    "    def area(self):\n",
    "        return abs(self.p1[0] - self.p2[0]) * abs(self.p1[1] - self.p2[1])\n",
    "    \n",
    "    # Setters\n",
    "    def setP1(self, p1):\n",
    "        self.p1 = p1\n",
    "        return self\n",
    "    \n",
    "    def setP2(self, p2):\n",
    "        self.p2 = p2\n",
    "        return self"
   ]
  },
  {
   "cell_type": "code",
   "execution_count": 142,
   "id": "5fe2de8d",
   "metadata": {},
   "outputs": [],
   "source": [
    "rectangle = Rectangle()"
   ]
  },
  {
   "cell_type": "code",
   "execution_count": 143,
   "id": "1861201f",
   "metadata": {},
   "outputs": [
    {
     "data": {
      "text/plain": [
       "'Rectangle[(0, 0), (1, 1)]=>area=1}'"
      ]
     },
     "execution_count": 143,
     "metadata": {},
     "output_type": "execute_result"
    }
   ],
   "source": [
    "str(rectangle)"
   ]
  },
  {
   "cell_type": "code",
   "execution_count": 40,
   "id": "a2661dd3",
   "metadata": {},
   "outputs": [
    {
     "data": {
      "text/plain": [
       "'Rectangle((0, 0), (1, 1))'"
      ]
     },
     "execution_count": 40,
     "metadata": {},
     "output_type": "execute_result"
    }
   ],
   "source": [
    "repr(Rectangle())"
   ]
  },
  {
   "cell_type": "code",
   "execution_count": 41,
   "id": "7ec93982",
   "metadata": {},
   "outputs": [
    {
     "name": "stdout",
     "output_type": "stream",
     "text": [
      "Rectangle[(0, 0), (1, 1)] => area=1\n"
     ]
    }
   ],
   "source": [
    "print(Rectangle())"
   ]
  },
  {
   "cell_type": "code",
   "execution_count": 42,
   "id": "28cfe8b4",
   "metadata": {},
   "outputs": [
    {
     "data": {
      "text/plain": [
       "Rectangle((0, 0), (1, 1))"
      ]
     },
     "execution_count": 42,
     "metadata": {},
     "output_type": "execute_result"
    }
   ],
   "source": [
    "Rectangle()"
   ]
  },
  {
   "cell_type": "markdown",
   "id": "f2c814a6",
   "metadata": {},
   "source": [
    "## Interfaces and abstract classes"
   ]
  },
  {
   "cell_type": "code",
   "execution_count": 43,
   "id": "8ef28981",
   "metadata": {},
   "outputs": [],
   "source": [
    "class IRectangle(abc.ABC) :   \n",
    "\n",
    "    @abc.abstractmethod\n",
    "    def area(self): \n",
    "        pass \n",
    "    \n",
    "    @abc.abstractmethod\n",
    "    def perimeter(self): \n",
    "        pass \n"
   ]
  },
  {
   "cell_type": "code",
   "execution_count": 44,
   "id": "9e49d55e",
   "metadata": {},
   "outputs": [
    {
     "data": {
      "text/plain": [
       "(__main__.IRectangle, abc.ABC, object)"
      ]
     },
     "execution_count": 44,
     "metadata": {},
     "output_type": "execute_result"
    }
   ],
   "source": [
    "IRectangle.__mro__"
   ]
  },
  {
   "cell_type": "code",
   "execution_count": 45,
   "id": "92fa8e6b",
   "metadata": {},
   "outputs": [],
   "source": [
    "class Rectangle(IRectangle) :\n",
    "    pass"
   ]
  },
  {
   "cell_type": "code",
   "execution_count": 46,
   "id": "2ba159b8",
   "metadata": {},
   "outputs": [
    {
     "ename": "TypeError",
     "evalue": "Can't instantiate abstract class Rectangle with abstract methods area, perimeter",
     "output_type": "error",
     "traceback": [
      "\u001b[0;31m---------------------------------------------------------------------------\u001b[0m",
      "\u001b[0;31mTypeError\u001b[0m                                 Traceback (most recent call last)",
      "Cell \u001b[0;32mIn[46], line 1\u001b[0m\n\u001b[0;32m----> 1\u001b[0m rect \u001b[38;5;241m=\u001b[39m \u001b[43mRectangle\u001b[49m\u001b[43m(\u001b[49m\u001b[43m)\u001b[49m\n",
      "\u001b[0;31mTypeError\u001b[0m: Can't instantiate abstract class Rectangle with abstract methods area, perimeter"
     ]
    }
   ],
   "source": [
    "rect = Rectangle()"
   ]
  },
  {
   "cell_type": "code",
   "execution_count": 47,
   "id": "257ed554",
   "metadata": {},
   "outputs": [
    {
     "data": {
      "text/plain": [
       "(__main__.IRectangle, abc.ABC, object)"
      ]
     },
     "execution_count": 47,
     "metadata": {},
     "output_type": "execute_result"
    }
   ],
   "source": [
    "IRectangle.__mro__"
   ]
  },
  {
   "cell_type": "code",
   "execution_count": 48,
   "id": "3a036be1",
   "metadata": {},
   "outputs": [],
   "source": [
    "class Rectangle(IRectangle) :\n",
    "    \n",
    "    #Constructor\n",
    "    def __init__(self, p1=(0,0), p2=(1,2)) :         \n",
    "        self.p1 = p1\n",
    "        self.p2 = p2\n",
    "        \n",
    "    def area(self): \n",
    "        return abs(self.p1[0] - self.p2[0])* abs(self.p1[1] - self.p2[1]) \n",
    "    \n",
    "    def perimeter(self) : \n",
    "        return (abs(self.p1[0] - self.p2[0]) + abs(self.p1[1] - self.p2[1]) )*2 "
   ]
  },
  {
   "cell_type": "code",
   "execution_count": 49,
   "id": "13994da6",
   "metadata": {},
   "outputs": [],
   "source": [
    "rect = Rectangle()"
   ]
  },
  {
   "cell_type": "code",
   "execution_count": 50,
   "id": "1e483821",
   "metadata": {},
   "outputs": [
    {
     "data": {
      "text/plain": [
       "2"
      ]
     },
     "execution_count": 50,
     "metadata": {},
     "output_type": "execute_result"
    }
   ],
   "source": [
    "rect.area()"
   ]
  },
  {
   "cell_type": "code",
   "execution_count": 51,
   "id": "ef1c0def",
   "metadata": {},
   "outputs": [],
   "source": [
    "def call_area(rect: IRectangle) : \n",
    "    return rect.area()"
   ]
  },
  {
   "cell_type": "code",
   "execution_count": 52,
   "id": "e8eb67bc",
   "metadata": {},
   "outputs": [
    {
     "data": {
      "text/plain": [
       "2"
      ]
     },
     "execution_count": 52,
     "metadata": {},
     "output_type": "execute_result"
    }
   ],
   "source": [
    "call_area(rect)"
   ]
  },
  {
   "cell_type": "code",
   "execution_count": 53,
   "id": "a065be4b",
   "metadata": {},
   "outputs": [],
   "source": [
    "rect: IRectangle = Rectangle()"
   ]
  },
  {
   "cell_type": "code",
   "execution_count": 54,
   "id": "1e70e1f4",
   "metadata": {},
   "outputs": [
    {
     "data": {
      "text/plain": [
       "2"
      ]
     },
     "execution_count": 54,
     "metadata": {},
     "output_type": "execute_result"
    }
   ],
   "source": [
    "rect.area()"
   ]
  },
  {
   "cell_type": "code",
   "execution_count": 55,
   "id": "00705d10",
   "metadata": {},
   "outputs": [
    {
     "data": {
      "text/plain": [
       "__main__.Rectangle"
      ]
     },
     "execution_count": 55,
     "metadata": {},
     "output_type": "execute_result"
    }
   ],
   "source": [
    "type(rect)"
   ]
  },
  {
   "cell_type": "code",
   "execution_count": 56,
   "id": "a704b959",
   "metadata": {},
   "outputs": [],
   "source": [
    "class AbstractRectangle(abc.ABC) :   \n",
    "    \n",
    "    #Constructor\n",
    "    def __init__(self, p1=(0,0), p2=(1,2)) :         \n",
    "        self.p1 = p1\n",
    "        self.p2 = p2\n",
    "\n",
    "    @abc.abstractmethod\n",
    "    def area(self): \n",
    "        pass \n",
    "    \n",
    "    def perimeter(self) : \n",
    "        return (abs(self.p1[0] - self.p2[0]) + abs(self.p1[1] - self.p2[1]) )*2 "
   ]
  },
  {
   "cell_type": "code",
   "execution_count": 57,
   "id": "7af65cff",
   "metadata": {},
   "outputs": [
    {
     "ename": "TypeError",
     "evalue": "Can't instantiate abstract class AbstractRectangle with abstract method area",
     "output_type": "error",
     "traceback": [
      "\u001b[0;31m---------------------------------------------------------------------------\u001b[0m",
      "\u001b[0;31mTypeError\u001b[0m                                 Traceback (most recent call last)",
      "Cell \u001b[0;32mIn[57], line 1\u001b[0m\n\u001b[0;32m----> 1\u001b[0m rect \u001b[38;5;241m=\u001b[39m \u001b[43mAbstractRectangle\u001b[49m\u001b[43m(\u001b[49m\u001b[43m)\u001b[49m\n",
      "\u001b[0;31mTypeError\u001b[0m: Can't instantiate abstract class AbstractRectangle with abstract method area"
     ]
    }
   ],
   "source": [
    "rect = AbstractRectangle()"
   ]
  },
  {
   "cell_type": "code",
   "execution_count": 58,
   "id": "ec8b9697",
   "metadata": {},
   "outputs": [],
   "source": [
    "class Rectangle(AbstractRectangle) :\n",
    "    \n",
    "    def area(self): \n",
    "        return abs(self.p1[0] - self.p2[0])* abs(self.p1[1] - self.p2[1]) "
   ]
  },
  {
   "cell_type": "code",
   "execution_count": 59,
   "id": "ee34ba35",
   "metadata": {},
   "outputs": [
    {
     "data": {
      "text/plain": [
       "6"
      ]
     },
     "execution_count": 59,
     "metadata": {},
     "output_type": "execute_result"
    }
   ],
   "source": [
    "rect = Rectangle()\n",
    "rect.area()\n",
    "rect.perimeter()"
   ]
  },
  {
   "cell_type": "markdown",
   "id": "0b707f5c",
   "metadata": {},
   "source": [
    "## Inheratance in Python\n"
   ]
  },
  {
   "cell_type": "code",
   "execution_count": 60,
   "id": "6b868453",
   "metadata": {},
   "outputs": [],
   "source": [
    "class Square(Rectangle):\n",
    "    pass"
   ]
  },
  {
   "cell_type": "code",
   "execution_count": 61,
   "id": "c0a3118b",
   "metadata": {},
   "outputs": [
    {
     "data": {
      "text/plain": [
       "2"
      ]
     },
     "execution_count": 61,
     "metadata": {},
     "output_type": "execute_result"
    }
   ],
   "source": [
    "square = Square()\n",
    "square.area()"
   ]
  },
  {
   "cell_type": "markdown",
   "id": "06bd612f",
   "metadata": {},
   "source": [
    "## Overriding methods during inheritance"
   ]
  },
  {
   "cell_type": "code",
   "execution_count": 62,
   "id": "c67a3603",
   "metadata": {},
   "outputs": [],
   "source": [
    "class Square(Rectangle):\n",
    "    def __init__(self, p1=(0,0), l=1):\n",
    "        assert isinstance(l, (float, int)), \"l must be a number\"\n",
    "        p2 = (p1[0]+l, p1[1]+l)\n",
    "        self.l  = l\n",
    "        super().__init__(p1, p2)\n",
    "    \n",
    "    def setP1(self, p1):\n",
    "        self.p1 = p1\n",
    "        self.p2 = (self.p1[0]+self.l, self.p1[1]+self.l)\n",
    "        return self\n",
    "    \n",
    "    def setP2(self, p2):\n",
    "        raise RuntimeError(\"Squares take l not p2\")\n",
    "    \n",
    "    def setL(self, l):\n",
    "        assert isinstance(l, (float, int)), \"l must be a number\"\n",
    "        self.l  = l\n",
    "        self.p2 = (self.p1[0]+l, self.p1[1]+l)\n",
    "        return self\n",
    "    \n",
    "    def __repr__(self):\n",
    "        return f\"square({self.p1}, {self.l})\"\n"
   ]
  },
  {
   "cell_type": "code",
   "execution_count": 63,
   "id": "da92027b",
   "metadata": {},
   "outputs": [
    {
     "data": {
      "text/plain": [
       "square((0, 0), 1)"
      ]
     },
     "execution_count": 63,
     "metadata": {},
     "output_type": "execute_result"
    }
   ],
   "source": [
    "square = Square()\n",
    "square"
   ]
  },
  {
   "cell_type": "code",
   "execution_count": 64,
   "id": "7df7fdcf",
   "metadata": {},
   "outputs": [
    {
     "data": {
      "text/plain": [
       "1"
      ]
     },
     "execution_count": 64,
     "metadata": {},
     "output_type": "execute_result"
    }
   ],
   "source": [
    "Square().area()"
   ]
  },
  {
   "cell_type": "code",
   "execution_count": 65,
   "id": "b5acfdee",
   "metadata": {},
   "outputs": [
    {
     "data": {
      "text/plain": [
       "1"
      ]
     },
     "execution_count": 65,
     "metadata": {},
     "output_type": "execute_result"
    }
   ],
   "source": [
    "Square().setP1((-1,-1)).area()"
   ]
  },
  {
   "cell_type": "code",
   "execution_count": 66,
   "id": "13e74bcc",
   "metadata": {},
   "outputs": [
    {
     "data": {
      "text/plain": [
       "4"
      ]
     },
     "execution_count": 66,
     "metadata": {},
     "output_type": "execute_result"
    }
   ],
   "source": [
    "Square().setL(2).area()"
   ]
  },
  {
   "cell_type": "code",
   "execution_count": 67,
   "id": "9a328483",
   "metadata": {},
   "outputs": [
    {
     "ename": "AssertionError",
     "evalue": "l must be a number",
     "output_type": "error",
     "traceback": [
      "\u001b[0;31m---------------------------------------------------------------------------\u001b[0m",
      "\u001b[0;31mAssertionError\u001b[0m                            Traceback (most recent call last)",
      "Cell \u001b[0;32mIn[67], line 1\u001b[0m\n\u001b[0;32m----> 1\u001b[0m \u001b[43mSquare\u001b[49m\u001b[43m(\u001b[49m\u001b[43m(\u001b[49m\u001b[38;5;241;43m0\u001b[39;49m\u001b[43m,\u001b[49m\u001b[38;5;241;43m0\u001b[39;49m\u001b[43m)\u001b[49m\u001b[43m,\u001b[49m\u001b[43m \u001b[49m\u001b[43m(\u001b[49m\u001b[38;5;241;43m1\u001b[39;49m\u001b[43m,\u001b[49m\u001b[38;5;241;43m1\u001b[39;49m\u001b[43m)\u001b[49m\u001b[43m)\u001b[49m\n",
      "Cell \u001b[0;32mIn[62], line 3\u001b[0m, in \u001b[0;36mSquare.__init__\u001b[0;34m(self, p1, l)\u001b[0m\n\u001b[1;32m      2\u001b[0m \u001b[38;5;28;01mdef\u001b[39;00m \u001b[38;5;21m__init__\u001b[39m(\u001b[38;5;28mself\u001b[39m, p1\u001b[38;5;241m=\u001b[39m(\u001b[38;5;241m0\u001b[39m,\u001b[38;5;241m0\u001b[39m), l\u001b[38;5;241m=\u001b[39m\u001b[38;5;241m1\u001b[39m):\n\u001b[0;32m----> 3\u001b[0m     \u001b[38;5;28;01massert\u001b[39;00m \u001b[38;5;28misinstance\u001b[39m(l, (\u001b[38;5;28mfloat\u001b[39m, \u001b[38;5;28mint\u001b[39m)), \u001b[38;5;124m\"\u001b[39m\u001b[38;5;124ml must be a number\u001b[39m\u001b[38;5;124m\"\u001b[39m\n\u001b[1;32m      4\u001b[0m     p2 \u001b[38;5;241m=\u001b[39m (p1[\u001b[38;5;241m0\u001b[39m]\u001b[38;5;241m+\u001b[39ml, p1[\u001b[38;5;241m1\u001b[39m]\u001b[38;5;241m+\u001b[39ml)\n\u001b[1;32m      5\u001b[0m     \u001b[38;5;28mself\u001b[39m\u001b[38;5;241m.\u001b[39ml  \u001b[38;5;241m=\u001b[39m l\n",
      "\u001b[0;31mAssertionError\u001b[0m: l must be a number"
     ]
    }
   ],
   "source": [
    "Square((0,0), (1,1))"
   ]
  },
  {
   "cell_type": "code",
   "execution_count": 68,
   "id": "1401f627",
   "metadata": {},
   "outputs": [
    {
     "ename": "AssertionError",
     "evalue": "l must be a number",
     "output_type": "error",
     "traceback": [
      "\u001b[0;31m---------------------------------------------------------------------------\u001b[0m",
      "\u001b[0;31mAssertionError\u001b[0m                            Traceback (most recent call last)",
      "Cell \u001b[0;32mIn[68], line 1\u001b[0m\n\u001b[0;32m----> 1\u001b[0m \u001b[43mSquare\u001b[49m\u001b[43m(\u001b[49m\u001b[43m)\u001b[49m\u001b[38;5;241;43m.\u001b[39;49m\u001b[43msetL\u001b[49m\u001b[43m(\u001b[49m\u001b[43m(\u001b[49m\u001b[38;5;241;43m0\u001b[39;49m\u001b[43m,\u001b[49m\u001b[38;5;241;43m0\u001b[39;49m\u001b[43m)\u001b[49m\u001b[43m)\u001b[49m\n",
      "Cell \u001b[0;32mIn[62], line 17\u001b[0m, in \u001b[0;36mSquare.setL\u001b[0;34m(self, l)\u001b[0m\n\u001b[1;32m     16\u001b[0m \u001b[38;5;28;01mdef\u001b[39;00m \u001b[38;5;21msetL\u001b[39m(\u001b[38;5;28mself\u001b[39m, l):\n\u001b[0;32m---> 17\u001b[0m     \u001b[38;5;28;01massert\u001b[39;00m \u001b[38;5;28misinstance\u001b[39m(l, (\u001b[38;5;28mfloat\u001b[39m, \u001b[38;5;28mint\u001b[39m)), \u001b[38;5;124m\"\u001b[39m\u001b[38;5;124ml must be a number\u001b[39m\u001b[38;5;124m\"\u001b[39m\n\u001b[1;32m     18\u001b[0m     \u001b[38;5;28mself\u001b[39m\u001b[38;5;241m.\u001b[39ml  \u001b[38;5;241m=\u001b[39m l\n\u001b[1;32m     19\u001b[0m     \u001b[38;5;28mself\u001b[39m\u001b[38;5;241m.\u001b[39mp2 \u001b[38;5;241m=\u001b[39m (\u001b[38;5;28mself\u001b[39m\u001b[38;5;241m.\u001b[39mp1[\u001b[38;5;241m0\u001b[39m]\u001b[38;5;241m+\u001b[39ml, \u001b[38;5;28mself\u001b[39m\u001b[38;5;241m.\u001b[39mp1[\u001b[38;5;241m1\u001b[39m]\u001b[38;5;241m+\u001b[39ml)\n",
      "\u001b[0;31mAssertionError\u001b[0m: l must be a number"
     ]
    }
   ],
   "source": [
    "Square().setL((0,0))"
   ]
  },
  {
   "cell_type": "code",
   "execution_count": 69,
   "id": "6496f911",
   "metadata": {},
   "outputs": [
    {
     "ename": "RuntimeError",
     "evalue": "Squares take l not p2",
     "output_type": "error",
     "traceback": [
      "\u001b[0;31m---------------------------------------------------------------------------\u001b[0m",
      "\u001b[0;31mRuntimeError\u001b[0m                              Traceback (most recent call last)",
      "Cell \u001b[0;32mIn[69], line 1\u001b[0m\n\u001b[0;32m----> 1\u001b[0m \u001b[43mSquare\u001b[49m\u001b[43m(\u001b[49m\u001b[43m)\u001b[49m\u001b[38;5;241;43m.\u001b[39;49m\u001b[43msetP2\u001b[49m\u001b[43m(\u001b[49m\u001b[43m(\u001b[49m\u001b[38;5;241;43m0\u001b[39;49m\u001b[43m,\u001b[49m\u001b[38;5;241;43m0\u001b[39;49m\u001b[43m)\u001b[49m\u001b[43m)\u001b[49m\n",
      "Cell \u001b[0;32mIn[62], line 14\u001b[0m, in \u001b[0;36mSquare.setP2\u001b[0;34m(self, p2)\u001b[0m\n\u001b[1;32m     13\u001b[0m \u001b[38;5;28;01mdef\u001b[39;00m \u001b[38;5;21msetP2\u001b[39m(\u001b[38;5;28mself\u001b[39m, p2):\n\u001b[0;32m---> 14\u001b[0m     \u001b[38;5;28;01mraise\u001b[39;00m \u001b[38;5;167;01mRuntimeError\u001b[39;00m(\u001b[38;5;124m\"\u001b[39m\u001b[38;5;124mSquares take l not p2\u001b[39m\u001b[38;5;124m\"\u001b[39m)\n",
      "\u001b[0;31mRuntimeError\u001b[0m: Squares take l not p2"
     ]
    }
   ],
   "source": [
    "Square().setP2((0,0))"
   ]
  },
  {
   "cell_type": "markdown",
   "id": "3ede15c6",
   "metadata": {},
   "source": [
    "## Making an object iterable"
   ]
  },
  {
   "cell_type": "code",
   "execution_count": 70,
   "id": "c0d7c85f",
   "metadata": {},
   "outputs": [],
   "source": [
    "class Rectangle:\n",
    "    \"\"\"An object representation of a rectangle\"\"\"\n",
    "    # Constructor\n",
    "    def __init__(self, p1 = (0,0), p2 = (1,1)):\n",
    "        self.p1 = p1\n",
    "        self.p2 = p2\n",
    "    \n",
    "    # Methods\n",
    "    def area(self):\n",
    "        return abs(self.p1[0] - self.p2[0]) * abs(self.p1[1] - self.p2[1])\n",
    "    \n",
    "    # implemented methods\n",
    "    def __iter__(self):\n",
    "        return iter([self.p1, (self.p1[0], self.p2[1]), self.p2, (self.p2[0], self.p1[1])])\n",
    "\n",
    "    # Setters\n",
    "    def setP1(self, p1):\n",
    "        self.p1 = p1\n",
    "        return self\n",
    "    \n",
    "    def setP2(self, p2):\n",
    "        self.p2 = p2\n",
    "        return self\n"
   ]
  },
  {
   "cell_type": "code",
   "execution_count": 71,
   "id": "098b81f2",
   "metadata": {},
   "outputs": [
    {
     "name": "stdout",
     "output_type": "stream",
     "text": [
      "(0, 0)\n",
      "(0, 1)\n",
      "(1, 1)\n",
      "(1, 0)\n"
     ]
    }
   ],
   "source": [
    "for pt in Rectangle():\n",
    "    print(pt)"
   ]
  },
  {
   "cell_type": "code",
   "execution_count": 72,
   "id": "fa175e01",
   "metadata": {},
   "outputs": [],
   "source": [
    "class Rectangle:\n",
    "    def __init__(self, p1 = (0,0), p2 = (1,1)):\n",
    "        self.p1 = p1\n",
    "        self.p2 = p2\n",
    "        self.vertices = [self.p1, (self.p1[0], self.p2[1]),\n",
    "                         self.p2, (self.p2[0], self.p1[1]) ]\n",
    "        self.index = 0\n",
    "  \n",
    "    # Methods\n",
    "    def area(self):\n",
    "        return abs(self.p1[0] - self.p2[0]) * abs(self.p1[1] - self.p2[1])\n",
    "    \n",
    "    def __iter__(self):\n",
    "        return self\n",
    "    def __next__(self):\n",
    "        if self.index == len(self.vertices):\n",
    "            self.index = 0\n",
    "            raise StopIteration\n",
    "        v = self.vertices[self.index]\n",
    "        self.index += 1\n",
    "        return v\n",
    "    \n",
    "    def __repr__(self):\n",
    "        return f\"Rectangle({self.p1}, {self.p2})\"\n",
    "    \n",
    "    def __str__(self) : \n",
    "        return f\"Rectangle[{self.p1}, {self.p2}] => area={self.area()}\"\n",
    "    # Setters\n",
    "    def setP1(self, p1):\n",
    "        self.p1 = p1\n",
    "        return self\n",
    "    \n",
    "    def setP2(self, p2):\n",
    "        self.p2 = p2\n",
    "        return self\n",
    "    "
   ]
  },
  {
   "cell_type": "code",
   "execution_count": 73,
   "id": "ddfaf463",
   "metadata": {},
   "outputs": [
    {
     "name": "stdout",
     "output_type": "stream",
     "text": [
      "(0, 0)\n",
      "(0, 1)\n",
      "(1, 1)\n",
      "(1, 0)\n"
     ]
    }
   ],
   "source": [
    "r = Rectangle()\n",
    "for pt in r:\n",
    "    print(pt)"
   ]
  },
  {
   "cell_type": "code",
   "execution_count": 74,
   "id": "799a8152",
   "metadata": {},
   "outputs": [
    {
     "data": {
      "text/plain": [
       "1"
      ]
     },
     "execution_count": 74,
     "metadata": {},
     "output_type": "execute_result"
    }
   ],
   "source": [
    "r.area()"
   ]
  },
  {
   "cell_type": "code",
   "execution_count": 75,
   "id": "327d3f20",
   "metadata": {},
   "outputs": [
    {
     "data": {
      "text/plain": [
       "Rectangle((0, 0), (1, 1))"
      ]
     },
     "execution_count": 75,
     "metadata": {},
     "output_type": "execute_result"
    }
   ],
   "source": [
    "r"
   ]
  },
  {
   "cell_type": "code",
   "execution_count": 76,
   "id": "d52393d9",
   "metadata": {},
   "outputs": [
    {
     "data": {
      "text/plain": [
       "['__class__',\n",
       " '__delattr__',\n",
       " '__dict__',\n",
       " '__dir__',\n",
       " '__doc__',\n",
       " '__eq__',\n",
       " '__format__',\n",
       " '__ge__',\n",
       " '__getattribute__',\n",
       " '__getstate__',\n",
       " '__gt__',\n",
       " '__hash__',\n",
       " '__init__',\n",
       " '__init_subclass__',\n",
       " '__iter__',\n",
       " '__le__',\n",
       " '__lt__',\n",
       " '__module__',\n",
       " '__ne__',\n",
       " '__new__',\n",
       " '__next__',\n",
       " '__reduce__',\n",
       " '__reduce_ex__',\n",
       " '__repr__',\n",
       " '__setattr__',\n",
       " '__sizeof__',\n",
       " '__str__',\n",
       " '__subclasshook__',\n",
       " '__weakref__',\n",
       " 'area',\n",
       " 'index',\n",
       " 'p1',\n",
       " 'p2',\n",
       " 'setP1',\n",
       " 'setP2',\n",
       " 'vertices']"
      ]
     },
     "execution_count": 76,
     "metadata": {},
     "output_type": "execute_result"
    }
   ],
   "source": [
    "dir(r)"
   ]
  },
  {
   "cell_type": "code",
   "execution_count": null,
   "id": "4799bf9f",
   "metadata": {},
   "outputs": [],
   "source": []
  },
  {
   "cell_type": "code",
   "execution_count": null,
   "id": "0ada06c0",
   "metadata": {},
   "outputs": [],
   "source": []
  },
  {
   "cell_type": "markdown",
   "id": "494e1926",
   "metadata": {},
   "source": [
    "## Some problems with multi-heritage "
   ]
  },
  {
   "cell_type": "code",
   "execution_count": 77,
   "id": "f774d36e",
   "metadata": {},
   "outputs": [],
   "source": [
    "class Worm:\n",
    "    def __init__ (self, name) : \n",
    "        self.name = name\n",
    "        \n",
    "    def eat(self): \n",
    "        print(self.name +\" swallows\")\n",
    "        \n",
    "class Fly:\n",
    "    \n",
    "    def __init__ (self, name) : \n",
    "        self.name = name\n",
    "        \n",
    "    def move(self): \n",
    "        print(\"I'm flying\")\n",
    "    \n",
    "    def eat(self): \n",
    "        print(self.name +\" is nibbling...\")\n"
   ]
  },
  {
   "cell_type": "code",
   "execution_count": 78,
   "id": "70ba5dab",
   "metadata": {},
   "outputs": [],
   "source": [
    "class ButterFly(Fly, Worm ): \n",
    "    def __init__(self, name):\n",
    "        self.name = name"
   ]
  },
  {
   "cell_type": "code",
   "execution_count": 79,
   "id": "719eb0f2",
   "metadata": {},
   "outputs": [],
   "source": [
    "butterfly = ButterFly(\"BoBo\")"
   ]
  },
  {
   "cell_type": "code",
   "execution_count": 80,
   "id": "bea823e9",
   "metadata": {},
   "outputs": [
    {
     "name": "stdout",
     "output_type": "stream",
     "text": [
      "BoBo is nibbling...\n"
     ]
    }
   ],
   "source": [
    "butterfly.eat()"
   ]
  },
  {
   "cell_type": "code",
   "execution_count": 81,
   "id": "fec9fb46",
   "metadata": {},
   "outputs": [
    {
     "name": "stdout",
     "output_type": "stream",
     "text": [
      "BoBo is nibbling...\n"
     ]
    }
   ],
   "source": [
    "class ButterFly(Fly, Worm): \n",
    "    def __init__(self, name):\n",
    "        self.name = name\n",
    "        \n",
    "butterfly = ButterFly(\"BoBo\")\n",
    "butterfly.eat()"
   ]
  },
  {
   "cell_type": "markdown",
   "id": "e582db76",
   "metadata": {},
   "source": [
    "## what is going on here? \n",
    "Method Resolution Order\n",
    "\n",
    "The method resolution order (or MRO) tells Python how to search for inherited methods. This comes in handy when you’re using super() because the MRO tells you exactly where Python will look for a method you’re calling with super() and in what order.\n",
    "\n",
    "Every class has an \\_\\_mro\\_\\_ attribute that allows us to inspect the order, so let’s do that:"
   ]
  },
  {
   "cell_type": "code",
   "execution_count": 82,
   "id": "eabfcb99",
   "metadata": {},
   "outputs": [
    {
     "ename": "NameError",
     "evalue": "name 'FlyingReptile' is not defined",
     "output_type": "error",
     "traceback": [
      "\u001b[0;31m---------------------------------------------------------------------------\u001b[0m",
      "\u001b[0;31mNameError\u001b[0m                                 Traceback (most recent call last)",
      "Cell \u001b[0;32mIn[82], line 1\u001b[0m\n\u001b[0;32m----> 1\u001b[0m \u001b[38;5;28mdir\u001b[39m(\u001b[43mFlyingReptile\u001b[49m)\n",
      "\u001b[0;31mNameError\u001b[0m: name 'FlyingReptile' is not defined"
     ]
    }
   ],
   "source": [
    "dir(FlyingReptile)"
   ]
  },
  {
   "cell_type": "code",
   "execution_count": 83,
   "id": "54cffb20",
   "metadata": {},
   "outputs": [
    {
     "ename": "NameError",
     "evalue": "name 'FlyingReptile' is not defined",
     "output_type": "error",
     "traceback": [
      "\u001b[0;31m---------------------------------------------------------------------------\u001b[0m",
      "\u001b[0;31mNameError\u001b[0m                                 Traceback (most recent call last)",
      "Cell \u001b[0;32mIn[83], line 1\u001b[0m\n\u001b[0;32m----> 1\u001b[0m \u001b[43mFlyingReptile\u001b[49m\u001b[38;5;241m.\u001b[39m\u001b[38;5;18m__mro__\u001b[39m\n",
      "\u001b[0;31mNameError\u001b[0m: name 'FlyingReptile' is not defined"
     ]
    }
   ],
   "source": [
    "FlyingReptile.__mro__"
   ]
  },
  {
   "cell_type": "code",
   "execution_count": 84,
   "id": "a59f0235",
   "metadata": {},
   "outputs": [
    {
     "data": {
      "text/plain": [
       "(__main__.Rectangle, object)"
      ]
     },
     "execution_count": 84,
     "metadata": {},
     "output_type": "execute_result"
    }
   ],
   "source": [
    "Rectangle.__mro__"
   ]
  },
  {
   "cell_type": "code",
   "execution_count": null,
   "id": "6748f7ff",
   "metadata": {},
   "outputs": [],
   "source": []
  },
  {
   "cell_type": "markdown",
   "id": "6009512a",
   "metadata": {},
   "source": [
    "## how to avoid that? "
   ]
  },
  {
   "cell_type": "code",
   "execution_count": 85,
   "id": "6ff39658",
   "metadata": {},
   "outputs": [],
   "source": [
    "class ButterFly(Worm, Fly): \n",
    "    def __init__(self, name):\n",
    "        self.name = name\n",
    "    def eat_likefly(self): \n",
    "        return Fly.eat(self) ## or super(Worm, self).eat() in some cases"
   ]
  },
  {
   "cell_type": "code",
   "execution_count": 86,
   "id": "231d00e7",
   "metadata": {},
   "outputs": [],
   "source": [
    "butterfly = ButterFly(\"Butterfly\")"
   ]
  },
  {
   "cell_type": "code",
   "execution_count": 87,
   "id": "8bb19a41",
   "metadata": {},
   "outputs": [
    {
     "name": "stdout",
     "output_type": "stream",
     "text": [
      "Butterfly is nibbling...\n"
     ]
    }
   ],
   "source": [
    "butterfly.eat_likefly()"
   ]
  },
  {
   "cell_type": "code",
   "execution_count": 88,
   "id": "ee800262",
   "metadata": {},
   "outputs": [
    {
     "name": "stdout",
     "output_type": "stream",
     "text": [
      "Fly is nibbling...\n"
     ]
    }
   ],
   "source": [
    "fly = Fly(\"Fly\")\n",
    "fly.eat()"
   ]
  },
  {
   "cell_type": "code",
   "execution_count": 89,
   "id": "c0b055f5",
   "metadata": {},
   "outputs": [
    {
     "ename": "NameError",
     "evalue": "name 'FlyingReptile' is not defined",
     "output_type": "error",
     "traceback": [
      "\u001b[0;31m---------------------------------------------------------------------------\u001b[0m",
      "\u001b[0;31mNameError\u001b[0m                                 Traceback (most recent call last)",
      "Cell \u001b[0;32mIn[89], line 1\u001b[0m\n\u001b[0;32m----> 1\u001b[0m \u001b[43mFlyingReptile\u001b[49m\u001b[38;5;241m.\u001b[39m\u001b[38;5;18m__mro__\u001b[39m\n",
      "\u001b[0;31mNameError\u001b[0m: name 'FlyingReptile' is not defined"
     ]
    }
   ],
   "source": [
    "FlyingReptile.__mro__"
   ]
  },
  {
   "cell_type": "code",
   "execution_count": 90,
   "id": "662e10c5",
   "metadata": {},
   "outputs": [
    {
     "name": "stdout",
     "output_type": "stream",
     "text": [
      "Butterfly swallows\n"
     ]
    }
   ],
   "source": [
    "butterfly.eat()"
   ]
  },
  {
   "cell_type": "code",
   "execution_count": 91,
   "id": "d14ce6bc",
   "metadata": {},
   "outputs": [],
   "source": [
    "class AbstractWorm(abc.ABC):\n",
    "    def __init__ (self, name) : \n",
    "        self.name = name\n",
    "    \n",
    "    @abc.abstractmethod\n",
    "    def eat(self, food): \n",
    "        pass\n",
    "        \n",
    "class AbstractFly(abc.ABC):\n",
    "    \n",
    "    def __init__ (self, name) : \n",
    "        self.name = name\n",
    "    \n",
    "    @abc.abstractmethod\n",
    "    def fly(self): \n",
    "        pass \n",
    "    \n",
    "    @abc.abstractmethod\n",
    "    def eat(self): \n",
    "        pass\n"
   ]
  },
  {
   "cell_type": "code",
   "execution_count": 92,
   "id": "210eeb10",
   "metadata": {},
   "outputs": [
    {
     "ename": "TypeError",
     "evalue": "Can't instantiate abstract class AbstractButterFly with abstract methods eat, fly",
     "output_type": "error",
     "traceback": [
      "\u001b[0;31m---------------------------------------------------------------------------\u001b[0m",
      "\u001b[0;31mTypeError\u001b[0m                                 Traceback (most recent call last)",
      "Cell \u001b[0;32mIn[92], line 4\u001b[0m\n\u001b[1;32m      1\u001b[0m \u001b[38;5;28;01mclass\u001b[39;00m \u001b[38;5;21;01mAbstractButterFly\u001b[39;00m(AbstractFly, AbstractWorm): \n\u001b[1;32m      2\u001b[0m     \u001b[38;5;28;01mpass\u001b[39;00m \n\u001b[0;32m----> 4\u001b[0m butterfly \u001b[38;5;241m=\u001b[39m \u001b[43mAbstractButterFly\u001b[49m\u001b[43m(\u001b[49m\u001b[38;5;124;43m\"\u001b[39;49m\u001b[38;5;124;43mBoBo\u001b[39;49m\u001b[38;5;124;43m\"\u001b[39;49m\u001b[43m)\u001b[49m\n",
      "\u001b[0;31mTypeError\u001b[0m: Can't instantiate abstract class AbstractButterFly with abstract methods eat, fly"
     ]
    }
   ],
   "source": [
    "class AbstractButterFly(AbstractFly, AbstractWorm): \n",
    "    pass \n",
    "\n",
    "butterfly = AbstractButterFly(\"BoBo\")"
   ]
  },
  {
   "cell_type": "code",
   "execution_count": 93,
   "id": "1a9f33ad",
   "metadata": {},
   "outputs": [],
   "source": [
    "class AbstractButterFly(AbstractFly, AbstractWorm): \n",
    "    def eat(self) : \n",
    "        pass \n",
    "    \n",
    "    def fly(self): \n",
    "        pass \n",
    "\n",
    "butterfly = AbstractButterFly(\"BoBo\")\n",
    "butterfly.eat()"
   ]
  },
  {
   "cell_type": "code",
   "execution_count": 94,
   "id": "76ba0529",
   "metadata": {},
   "outputs": [],
   "source": [
    "class AbstractButterFly(AbstractFly, AbstractWorm): \n",
    "    def eat(self) : \n",
    "        print(self.name +\" is nibbling\")\n",
    "    def fly(self): \n",
    "        print(self.name + \"is flying... goodbye..\" )"
   ]
  },
  {
   "cell_type": "code",
   "execution_count": 95,
   "id": "28f99c4f",
   "metadata": {},
   "outputs": [],
   "source": [
    "butterfly = AbstractButterFly(\"BoBo\")"
   ]
  },
  {
   "cell_type": "code",
   "execution_count": 96,
   "id": "7a428bad",
   "metadata": {},
   "outputs": [
    {
     "name": "stdout",
     "output_type": "stream",
     "text": [
      "BoBo is nibbling\n"
     ]
    }
   ],
   "source": [
    "butterfly.eat()"
   ]
  },
  {
   "cell_type": "code",
   "execution_count": 97,
   "id": "a787995a",
   "metadata": {},
   "outputs": [],
   "source": [
    "class AbstractWorm(abc.ABC):\n",
    "    def __init__ (self, name) : \n",
    "        self.name = name\n",
    "    \n",
    "    @abc.abstractmethod\n",
    "    def eat(self): \n",
    "        pass\n",
    "        \n",
    "class AbstractFly(abc.ABC):\n",
    "    \n",
    "    def __init__ (self, name) : \n",
    "        self.name = name\n",
    "    \n",
    "    @abc.abstractmethod\n",
    "    def fly(self): \n",
    "        pass \n",
    "    \n",
    "    def eat(self): \n",
    "        print(\"Bird \"+self.name + \" is nibbling\")"
   ]
  },
  {
   "cell_type": "code",
   "execution_count": 98,
   "id": "b5efa2d4",
   "metadata": {},
   "outputs": [
    {
     "ename": "TypeError",
     "evalue": "Can't instantiate abstract class AbstractWorm with abstract method eat",
     "output_type": "error",
     "traceback": [
      "\u001b[0;31m---------------------------------------------------------------------------\u001b[0m",
      "\u001b[0;31mTypeError\u001b[0m                                 Traceback (most recent call last)",
      "Cell \u001b[0;32mIn[98], line 1\u001b[0m\n\u001b[0;32m----> 1\u001b[0m \u001b[43mAbstractWorm\u001b[49m\u001b[43m(\u001b[49m\u001b[43m)\u001b[49m\n",
      "\u001b[0;31mTypeError\u001b[0m: Can't instantiate abstract class AbstractWorm with abstract method eat"
     ]
    }
   ],
   "source": [
    "AbstractWorm()"
   ]
  },
  {
   "cell_type": "code",
   "execution_count": 99,
   "id": "42d8357a",
   "metadata": {},
   "outputs": [],
   "source": [
    "class AbstractButterFly(AbstractFly, AbstractWorm): \n",
    "    def fly(self): \n",
    "        print(self.name + \"is flying... goodbye..\" )\n",
    "butterfly = AbstractButterFly(\"BoBo\")"
   ]
  },
  {
   "cell_type": "code",
   "execution_count": 100,
   "id": "600299ef",
   "metadata": {},
   "outputs": [
    {
     "name": "stdout",
     "output_type": "stream",
     "text": [
      "Bird BoBo is nibbling\n"
     ]
    }
   ],
   "source": [
    "butterfly.eat()"
   ]
  },
  {
   "cell_type": "code",
   "execution_count": 101,
   "id": "9ec0c95c",
   "metadata": {},
   "outputs": [
    {
     "ename": "TypeError",
     "evalue": "Can't instantiate abstract class AbstractButterFly with abstract method eat",
     "output_type": "error",
     "traceback": [
      "\u001b[0;31m---------------------------------------------------------------------------\u001b[0m",
      "\u001b[0;31mTypeError\u001b[0m                                 Traceback (most recent call last)",
      "Cell \u001b[0;32mIn[101], line 4\u001b[0m\n\u001b[1;32m      2\u001b[0m     \u001b[38;5;28;01mdef\u001b[39;00m \u001b[38;5;21mfly\u001b[39m(\u001b[38;5;28mself\u001b[39m): \n\u001b[1;32m      3\u001b[0m         \u001b[38;5;28mprint\u001b[39m(\u001b[38;5;28mself\u001b[39m\u001b[38;5;241m.\u001b[39mname \u001b[38;5;241m+\u001b[39m \u001b[38;5;124m\"\u001b[39m\u001b[38;5;124mis flying... goodbye..\u001b[39m\u001b[38;5;124m\"\u001b[39m )\n\u001b[0;32m----> 4\u001b[0m butterfly \u001b[38;5;241m=\u001b[39m \u001b[43mAbstractButterFly\u001b[49m\u001b[43m(\u001b[49m\u001b[38;5;124;43m\"\u001b[39;49m\u001b[38;5;124;43mBoBo\u001b[39;49m\u001b[38;5;124;43m\"\u001b[39;49m\u001b[43m)\u001b[49m\n",
      "\u001b[0;31mTypeError\u001b[0m: Can't instantiate abstract class AbstractButterFly with abstract method eat"
     ]
    }
   ],
   "source": [
    "class AbstractButterFly(AbstractWorm, AbstractFly): \n",
    "    def fly(self): \n",
    "        print(self.name + \"is flying... goodbye..\" )\n",
    "butterfly = AbstractButterFly(\"BoBo\")"
   ]
  },
  {
   "cell_type": "code",
   "execution_count": 102,
   "id": "b564fba6",
   "metadata": {},
   "outputs": [],
   "source": [
    "class Animal: \n",
    "    \n",
    "    def display(self) : \n",
    "        print(\"I'm a cute animal\")\n",
    "        \n",
    "class Dog(Animal) : \n",
    "    \n",
    "    def display(self) : \n",
    "        print(\"I'm a cute dog animal\")"
   ]
  },
  {
   "cell_type": "code",
   "execution_count": 103,
   "id": "df50910b",
   "metadata": {},
   "outputs": [
    {
     "name": "stdout",
     "output_type": "stream",
     "text": [
      "I'm a cute dog animal\n"
     ]
    }
   ],
   "source": [
    "dog = Dog() \n",
    "dog.display()"
   ]
  },
  {
   "cell_type": "code",
   "execution_count": 104,
   "id": "5daf12ed",
   "metadata": {},
   "outputs": [
    {
     "data": {
      "text/plain": [
       "(__main__.Dog, __main__.Animal, object)"
      ]
     },
     "execution_count": 104,
     "metadata": {},
     "output_type": "execute_result"
    }
   ],
   "source": [
    "Dog.__mro__"
   ]
  },
  {
   "cell_type": "code",
   "execution_count": 105,
   "id": "7c625758",
   "metadata": {},
   "outputs": [
    {
     "data": {
      "text/plain": [
       "['__class__',\n",
       " '__delattr__',\n",
       " '__dict__',\n",
       " '__dir__',\n",
       " '__doc__',\n",
       " '__eq__',\n",
       " '__format__',\n",
       " '__ge__',\n",
       " '__getattribute__',\n",
       " '__getstate__',\n",
       " '__gt__',\n",
       " '__hash__',\n",
       " '__init__',\n",
       " '__init_subclass__',\n",
       " '__le__',\n",
       " '__lt__',\n",
       " '__module__',\n",
       " '__ne__',\n",
       " '__new__',\n",
       " '__reduce__',\n",
       " '__reduce_ex__',\n",
       " '__repr__',\n",
       " '__setattr__',\n",
       " '__sizeof__',\n",
       " '__str__',\n",
       " '__subclasshook__',\n",
       " '__weakref__',\n",
       " 'display']"
      ]
     },
     "execution_count": 105,
     "metadata": {},
     "output_type": "execute_result"
    }
   ],
   "source": [
    "dir(Dog)"
   ]
  },
  {
   "cell_type": "markdown",
   "id": "5424b155",
   "metadata": {},
   "source": [
    "# Polymorphism "
   ]
  },
  {
   "cell_type": "code",
   "execution_count": 106,
   "id": "71422361",
   "metadata": {},
   "outputs": [],
   "source": [
    "list_ = [0,1,2]\n",
    "dict_ = {\"a\": 1}\n",
    "tuple_ = (1,2)"
   ]
  },
  {
   "cell_type": "code",
   "execution_count": 107,
   "id": "820be3ab",
   "metadata": {},
   "outputs": [
    {
     "data": {
      "text/plain": [
       "3"
      ]
     },
     "execution_count": 107,
     "metadata": {},
     "output_type": "execute_result"
    }
   ],
   "source": [
    "len(list_)"
   ]
  },
  {
   "cell_type": "code",
   "execution_count": 108,
   "id": "5400f5b0",
   "metadata": {},
   "outputs": [
    {
     "data": {
      "text/plain": [
       "1"
      ]
     },
     "execution_count": 108,
     "metadata": {},
     "output_type": "execute_result"
    }
   ],
   "source": [
    "len(dict_)"
   ]
  },
  {
   "cell_type": "code",
   "execution_count": 109,
   "id": "a66d802c",
   "metadata": {},
   "outputs": [
    {
     "data": {
      "text/plain": [
       "2"
      ]
     },
     "execution_count": 109,
     "metadata": {},
     "output_type": "execute_result"
    }
   ],
   "source": [
    "len(tuple_)"
   ]
  },
  {
   "cell_type": "code",
   "execution_count": 110,
   "id": "a23231b3",
   "metadata": {},
   "outputs": [
    {
     "data": {
      "text/plain": [
       "['__add__',\n",
       " '__class__',\n",
       " '__class_getitem__',\n",
       " '__contains__',\n",
       " '__delattr__',\n",
       " '__dir__',\n",
       " '__doc__',\n",
       " '__eq__',\n",
       " '__format__',\n",
       " '__ge__',\n",
       " '__getattribute__',\n",
       " '__getitem__',\n",
       " '__getnewargs__',\n",
       " '__getstate__',\n",
       " '__gt__',\n",
       " '__hash__',\n",
       " '__init__',\n",
       " '__init_subclass__',\n",
       " '__iter__',\n",
       " '__le__',\n",
       " '__len__',\n",
       " '__lt__',\n",
       " '__mul__',\n",
       " '__ne__',\n",
       " '__new__',\n",
       " '__reduce__',\n",
       " '__reduce_ex__',\n",
       " '__repr__',\n",
       " '__rmul__',\n",
       " '__setattr__',\n",
       " '__sizeof__',\n",
       " '__str__',\n",
       " '__subclasshook__',\n",
       " 'count',\n",
       " 'index']"
      ]
     },
     "execution_count": 110,
     "metadata": {},
     "output_type": "execute_result"
    }
   ],
   "source": [
    "dir (tuple_)"
   ]
  },
  {
   "cell_type": "code",
   "execution_count": 111,
   "id": "08473faf",
   "metadata": {},
   "outputs": [],
   "source": [
    "l = [1,0,2]"
   ]
  },
  {
   "cell_type": "code",
   "execution_count": 112,
   "id": "31cb7e37",
   "metadata": {},
   "outputs": [
    {
     "data": {
      "text/plain": [
       "[1, 0, 2]"
      ]
     },
     "execution_count": 112,
     "metadata": {},
     "output_type": "execute_result"
    }
   ],
   "source": [
    "l "
   ]
  },
  {
   "cell_type": "code",
   "execution_count": 121,
   "id": "b5c1ac84",
   "metadata": {},
   "outputs": [],
   "source": [
    "s = set([1,2,3,3])"
   ]
  },
  {
   "cell_type": "code",
   "execution_count": 122,
   "id": "ebf8a0de",
   "metadata": {},
   "outputs": [
    {
     "data": {
      "text/plain": [
       "{1, 2, 3}"
      ]
     },
     "execution_count": 122,
     "metadata": {},
     "output_type": "execute_result"
    }
   ],
   "source": [
    "s "
   ]
  },
  {
   "cell_type": "code",
   "execution_count": 116,
   "id": "2b1dc1ac",
   "metadata": {},
   "outputs": [],
   "source": [
    "d = {'a': 1, 'b':2 }"
   ]
  },
  {
   "cell_type": "code",
   "execution_count": 117,
   "id": "b28c8f09",
   "metadata": {},
   "outputs": [
    {
     "data": {
      "text/plain": [
       "{'a': 1, 'b': 2}"
      ]
     },
     "execution_count": 117,
     "metadata": {},
     "output_type": "execute_result"
    }
   ],
   "source": [
    "d "
   ]
  },
  {
   "cell_type": "code",
   "execution_count": 118,
   "id": "11f75449",
   "metadata": {},
   "outputs": [
    {
     "name": "stdout",
     "output_type": "stream",
     "text": [
      "<class 'list'> <class 'dict'> <class 'set'>\n"
     ]
    }
   ],
   "source": [
    "print(type(l), type(d), type(s))"
   ]
  },
  {
   "cell_type": "code",
   "execution_count": 119,
   "id": "7322b165",
   "metadata": {},
   "outputs": [
    {
     "data": {
      "text/plain": [
       "2"
      ]
     },
     "execution_count": 119,
     "metadata": {},
     "output_type": "execute_result"
    }
   ],
   "source": [
    "len(d)"
   ]
  },
  {
   "cell_type": "code",
   "execution_count": 120,
   "id": "ad51c1b4",
   "metadata": {},
   "outputs": [
    {
     "data": {
      "text/plain": [
       "3"
      ]
     },
     "execution_count": 120,
     "metadata": {},
     "output_type": "execute_result"
    }
   ],
   "source": [
    "len(l)"
   ]
  },
  {
   "cell_type": "code",
   "execution_count": 123,
   "id": "af7d509a",
   "metadata": {},
   "outputs": [
    {
     "data": {
      "text/plain": [
       "['__add__',\n",
       " '__class__',\n",
       " '__class_getitem__',\n",
       " '__contains__',\n",
       " '__delattr__',\n",
       " '__delitem__',\n",
       " '__dir__',\n",
       " '__doc__',\n",
       " '__eq__',\n",
       " '__format__',\n",
       " '__ge__',\n",
       " '__getattribute__',\n",
       " '__getitem__',\n",
       " '__getstate__',\n",
       " '__gt__',\n",
       " '__hash__',\n",
       " '__iadd__',\n",
       " '__imul__',\n",
       " '__init__',\n",
       " '__init_subclass__',\n",
       " '__iter__',\n",
       " '__le__',\n",
       " '__len__',\n",
       " '__lt__',\n",
       " '__mul__',\n",
       " '__ne__',\n",
       " '__new__',\n",
       " '__reduce__',\n",
       " '__reduce_ex__',\n",
       " '__repr__',\n",
       " '__reversed__',\n",
       " '__rmul__',\n",
       " '__setattr__',\n",
       " '__setitem__',\n",
       " '__sizeof__',\n",
       " '__str__',\n",
       " '__subclasshook__',\n",
       " 'append',\n",
       " 'clear',\n",
       " 'copy',\n",
       " 'count',\n",
       " 'extend',\n",
       " 'index',\n",
       " 'insert',\n",
       " 'pop',\n",
       " 'remove',\n",
       " 'reverse',\n",
       " 'sort']"
      ]
     },
     "execution_count": 123,
     "metadata": {},
     "output_type": "execute_result"
    }
   ],
   "source": [
    "dir(l)"
   ]
  },
  {
   "cell_type": "code",
   "execution_count": 124,
   "id": "5e18fb4b",
   "metadata": {},
   "outputs": [
    {
     "data": {
      "text/plain": [
       "['__and__',\n",
       " '__class__',\n",
       " '__class_getitem__',\n",
       " '__contains__',\n",
       " '__delattr__',\n",
       " '__dir__',\n",
       " '__doc__',\n",
       " '__eq__',\n",
       " '__format__',\n",
       " '__ge__',\n",
       " '__getattribute__',\n",
       " '__getstate__',\n",
       " '__gt__',\n",
       " '__hash__',\n",
       " '__iand__',\n",
       " '__init__',\n",
       " '__init_subclass__',\n",
       " '__ior__',\n",
       " '__isub__',\n",
       " '__iter__',\n",
       " '__ixor__',\n",
       " '__le__',\n",
       " '__len__',\n",
       " '__lt__',\n",
       " '__ne__',\n",
       " '__new__',\n",
       " '__or__',\n",
       " '__rand__',\n",
       " '__reduce__',\n",
       " '__reduce_ex__',\n",
       " '__repr__',\n",
       " '__ror__',\n",
       " '__rsub__',\n",
       " '__rxor__',\n",
       " '__setattr__',\n",
       " '__sizeof__',\n",
       " '__str__',\n",
       " '__sub__',\n",
       " '__subclasshook__',\n",
       " '__xor__',\n",
       " 'add',\n",
       " 'clear',\n",
       " 'copy',\n",
       " 'difference',\n",
       " 'difference_update',\n",
       " 'discard',\n",
       " 'intersection',\n",
       " 'intersection_update',\n",
       " 'isdisjoint',\n",
       " 'issubset',\n",
       " 'issuperset',\n",
       " 'pop',\n",
       " 'remove',\n",
       " 'symmetric_difference',\n",
       " 'symmetric_difference_update',\n",
       " 'union',\n",
       " 'update']"
      ]
     },
     "execution_count": 124,
     "metadata": {},
     "output_type": "execute_result"
    }
   ],
   "source": [
    "dir(s)"
   ]
  },
  {
   "cell_type": "markdown",
   "id": "3bf1e838-6c6b-4c01-8445-2cf62bab4f9e",
   "metadata": {},
   "source": [
    "# Part II: Group Theory in SageMath"
   ]
  },
  {
   "cell_type": "code",
   "execution_count": 1,
   "id": "08b756ce-a2d0-4071-956e-2ef589a68d02",
   "metadata": {},
   "outputs": [],
   "source": [
    "from sage.all import * "
   ]
  },
  {
   "cell_type": "code",
   "execution_count": 3,
   "id": "00c579a7-4e9b-40ad-89e2-49d066b60d1e",
   "metadata": {},
   "outputs": [],
   "source": [
    "G = SymmetricGroup(5)"
   ]
  },
  {
   "cell_type": "code",
   "execution_count": 4,
   "id": "489db4c4-0001-4242-a68d-e7f3feb4c985",
   "metadata": {},
   "outputs": [
    {
     "data": {
      "text/plain": [
       "Symmetric group of order 5! as a permutation group"
      ]
     },
     "execution_count": 4,
     "metadata": {},
     "output_type": "execute_result"
    }
   ],
   "source": [
    "G"
   ]
  },
  {
   "cell_type": "code",
   "execution_count": 10,
   "id": "cfc79d7a-ff10-4458-8b85-71b90bd4f4ff",
   "metadata": {},
   "outputs": [],
   "source": [
    "x,y,z = var(\"x\", \"y\", \"z\")"
   ]
  },
  {
   "cell_type": "code",
   "execution_count": 11,
   "id": "f835cc12-4cae-4b68-bbb0-e969d848dad3",
   "metadata": {},
   "outputs": [],
   "source": [
    "expr = exp(x*y*z)"
   ]
  },
  {
   "cell_type": "code",
   "execution_count": 12,
   "id": "86f1c648-5bd9-4f04-a4d7-9527fdbcba0c",
   "metadata": {},
   "outputs": [
    {
     "data": {
      "text/plain": [
       "x^6*y^5*z^3*e^(x*y*z) + 14*x^5*y^4*z^2*e^(x*y*z) + 52*x^4*y^3*z*e^(x*y*z) + 48*x^3*y^2*e^(x*y*z)"
      ]
     },
     "execution_count": 12,
     "metadata": {},
     "output_type": "execute_result"
    }
   ],
   "source": [
    "diff(expr, x, y, y, z, 4)"
   ]
  },
  {
   "cell_type": "code",
   "execution_count": 13,
   "id": "5b9df76b-ace3-4df7-a519-4ba121f27af3",
   "metadata": {},
   "outputs": [
    {
     "data": {
      "text/plain": [
       "x^6*y^5*z^3*e^(x*y*z) + 14*x^5*y^4*z^2*e^(x*y*z) + 52*x^4*y^3*z*e^(x*y*z) + 48*x^3*y^2*e^(x*y*z)"
      ]
     },
     "execution_count": 13,
     "metadata": {},
     "output_type": "execute_result"
    }
   ],
   "source": [
    "expr.diff(x, y, y, z, 4)"
   ]
  },
  {
   "cell_type": "code",
   "execution_count": null,
   "id": "f78ec2f6-6592-497b-91d2-256cc05d3d3b",
   "metadata": {},
   "outputs": [],
   "source": []
  }
 ],
 "metadata": {
  "kernelspec": {
   "display_name": "SageMath 10.6",
   "language": "sage",
   "name": "sagemath"
  },
  "language_info": {
   "codemirror_mode": {
    "name": "ipython",
    "version": 3
   },
   "file_extension": ".py",
   "mimetype": "text/x-python",
   "name": "python",
   "nbconvert_exporter": "python",
   "pygments_lexer": "ipython3",
   "version": "3.11.13"
  }
 },
 "nbformat": 4,
 "nbformat_minor": 5
}
