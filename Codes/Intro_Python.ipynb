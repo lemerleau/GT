{
 "cells": [
  {
   "cell_type": "markdown",
   "id": "d1dd1729",
   "metadata": {},
   "source": [
    "# Variables in Python "
   ]
  },
  {
   "cell_type": "markdown",
   "id": "b4c289fd",
   "metadata": {},
   "source": [
    "## Boolean operations and comparisons"
   ]
  },
  {
   "cell_type": "code",
   "execution_count": 196,
   "id": "22c84330",
   "metadata": {},
   "outputs": [
    {
     "data": {
      "text/plain": [
       "True"
      ]
     },
     "execution_count": 196,
     "metadata": {},
     "output_type": "execute_result"
    }
   ],
   "source": [
    "1 and True "
   ]
  },
  {
   "cell_type": "code",
   "execution_count": 197,
   "id": "b43ab52e",
   "metadata": {},
   "outputs": [
    {
     "data": {
      "text/plain": [
       "1"
      ]
     },
     "execution_count": 197,
     "metadata": {},
     "output_type": "execute_result"
    }
   ],
   "source": [
    "0 or 1 "
   ]
  },
  {
   "cell_type": "code",
   "execution_count": 198,
   "id": "0593d23f",
   "metadata": {},
   "outputs": [
    {
     "data": {
      "text/plain": [
       "True"
      ]
     },
     "execution_count": 198,
     "metadata": {},
     "output_type": "execute_result"
    }
   ],
   "source": [
    "not 0 "
   ]
  },
  {
   "cell_type": "code",
   "execution_count": 6,
   "id": "388358ce",
   "metadata": {},
   "outputs": [
    {
     "data": {
      "text/plain": [
       "False"
      ]
     },
     "execution_count": 6,
     "metadata": {},
     "output_type": "execute_result"
    }
   ],
   "source": [
    "not (0 + 1j )"
   ]
  },
  {
   "cell_type": "code",
   "execution_count": 7,
   "id": "1151d738",
   "metadata": {},
   "outputs": [
    {
     "data": {
      "text/plain": [
       "True"
      ]
     },
     "execution_count": 7,
     "metadata": {},
     "output_type": "execute_result"
    }
   ],
   "source": [
    "not (0 + 0j)"
   ]
  },
  {
   "cell_type": "code",
   "execution_count": 8,
   "id": "a67a8cb3",
   "metadata": {},
   "outputs": [
    {
     "data": {
      "text/plain": [
       "True"
      ]
     },
     "execution_count": 8,
     "metadata": {},
     "output_type": "execute_result"
    }
   ],
   "source": [
    "5. > 1"
   ]
  },
  {
   "cell_type": "code",
   "execution_count": 9,
   "id": "d57731fc",
   "metadata": {},
   "outputs": [
    {
     "data": {
      "text/plain": [
       "True"
      ]
     },
     "execution_count": 9,
     "metadata": {},
     "output_type": "execute_result"
    }
   ],
   "source": [
    "5. == 5 "
   ]
  },
  {
   "cell_type": "code",
   "execution_count": 10,
   "id": "fae2c7c1",
   "metadata": {},
   "outputs": [
    {
     "data": {
      "text/plain": [
       "False"
      ]
     },
     "execution_count": 10,
     "metadata": {},
     "output_type": "execute_result"
    }
   ],
   "source": [
    "1 > True"
   ]
  },
  {
   "cell_type": "code",
   "execution_count": 11,
   "id": "c1fafaf7",
   "metadata": {},
   "outputs": [
    {
     "data": {
      "text/plain": [
       "True"
      ]
     },
     "execution_count": 11,
     "metadata": {},
     "output_type": "execute_result"
    }
   ],
   "source": [
    "(1 + 0j) == 1 "
   ]
  },
  {
   "cell_type": "code",
   "execution_count": 12,
   "id": "30fab3f9",
   "metadata": {},
   "outputs": [
    {
     "data": {
      "text/plain": [
       "False"
      ]
     },
     "execution_count": 12,
     "metadata": {},
     "output_type": "execute_result"
    }
   ],
   "source": [
    "\"abc\" < \"ABC\""
   ]
  },
  {
   "cell_type": "markdown",
   "id": "e16719fa",
   "metadata": {},
   "source": [
    "What about this? "
   ]
  },
  {
   "cell_type": "code",
   "execution_count": 13,
   "id": "84ea7bb7",
   "metadata": {},
   "outputs": [
    {
     "ename": "TypeError",
     "evalue": "'>' not supported between instances of 'str' and 'int'",
     "output_type": "error",
     "traceback": [
      "\u001b[0;31m---------------------------------------------------------------------------\u001b[0m",
      "\u001b[0;31mTypeError\u001b[0m                                 Traceback (most recent call last)",
      "\u001b[0;32m/var/folders/xr/5fv2rjx15t5g4p_k7d9tqjyr0000gn/T/ipykernel_71315/463724919.py\u001b[0m in \u001b[0;36m<module>\u001b[0;34m\u001b[0m\n\u001b[0;32m----> 1\u001b[0;31m \u001b[0;34m\"abc\"\u001b[0m \u001b[0;34m>\u001b[0m \u001b[0;36m5\u001b[0m\u001b[0;34m\u001b[0m\u001b[0;34m\u001b[0m\u001b[0m\n\u001b[0m",
      "\u001b[0;31mTypeError\u001b[0m: '>' not supported between instances of 'str' and 'int'"
     ]
    }
   ],
   "source": [
    "\"abc\" > 5"
   ]
  },
  {
   "cell_type": "markdown",
   "id": "e829318c",
   "metadata": {},
   "source": [
    "## Basic arithmetic orperations between two variables\n",
    "The basic arithmetic operators are available in python. These are\n",
    "1. Addition - (+)\n",
    "2. Subtraction - (-)\n",
    "3. Multiplication - (*)\n",
    "4. Division - (/)\n",
    "5. Remainder - (%)\n",
    "6. Exponentiation (power) - (**)"
   ]
  },
  {
   "cell_type": "code",
   "execution_count": 14,
   "id": "e4aa4201",
   "metadata": {},
   "outputs": [
    {
     "data": {
      "text/plain": [
       "6"
      ]
     },
     "execution_count": 14,
     "metadata": {},
     "output_type": "execute_result"
    }
   ],
   "source": [
    "1 + 5 "
   ]
  },
  {
   "cell_type": "code",
   "execution_count": 15,
   "id": "8d89ed2d",
   "metadata": {},
   "outputs": [
    {
     "data": {
      "text/plain": [
       "6.0"
      ]
     },
     "execution_count": 15,
     "metadata": {},
     "output_type": "execute_result"
    }
   ],
   "source": [
    "1 + 5. "
   ]
  },
  {
   "cell_type": "code",
   "execution_count": 16,
   "id": "405bc622",
   "metadata": {},
   "outputs": [
    {
     "data": {
      "text/plain": [
       "5.0"
      ]
     },
     "execution_count": 16,
     "metadata": {},
     "output_type": "execute_result"
    }
   ],
   "source": [
    "1 * 5. "
   ]
  },
  {
   "cell_type": "code",
   "execution_count": 17,
   "id": "25510056",
   "metadata": {},
   "outputs": [
    {
     "data": {
      "text/plain": [
       "5"
      ]
     },
     "execution_count": 17,
     "metadata": {},
     "output_type": "execute_result"
    }
   ],
   "source": [
    "True * 5 "
   ]
  },
  {
   "cell_type": "code",
   "execution_count": 18,
   "id": "35d9f411",
   "metadata": {},
   "outputs": [
    {
     "data": {
      "text/plain": [
       "-1j"
      ]
     },
     "execution_count": 18,
     "metadata": {},
     "output_type": "execute_result"
    }
   ],
   "source": [
    "(1 + 0j) - (1 + 1j)"
   ]
  },
  {
   "cell_type": "code",
   "execution_count": 19,
   "id": "2acc7465",
   "metadata": {},
   "outputs": [
    {
     "data": {
      "text/plain": [
       "5.0"
      ]
     },
     "execution_count": 19,
     "metadata": {},
     "output_type": "execute_result"
    }
   ],
   "source": [
    "5/1 "
   ]
  },
  {
   "cell_type": "code",
   "execution_count": 20,
   "id": "7a4c8885",
   "metadata": {},
   "outputs": [
    {
     "data": {
      "text/plain": [
       "2"
      ]
     },
     "execution_count": 20,
     "metadata": {},
     "output_type": "execute_result"
    }
   ],
   "source": [
    "5//2"
   ]
  },
  {
   "cell_type": "code",
   "execution_count": 21,
   "id": "5083e077",
   "metadata": {},
   "outputs": [
    {
     "data": {
      "text/plain": [
       "1"
      ]
     },
     "execution_count": 21,
     "metadata": {},
     "output_type": "execute_result"
    }
   ],
   "source": [
    "5%2"
   ]
  },
  {
   "cell_type": "code",
   "execution_count": 22,
   "id": "fc0f00ff",
   "metadata": {},
   "outputs": [
    {
     "data": {
      "text/plain": [
       "49"
      ]
     },
     "execution_count": 22,
     "metadata": {},
     "output_type": "execute_result"
    }
   ],
   "source": [
    "7**2 "
   ]
  },
  {
   "cell_type": "markdown",
   "id": "ebdd0fc1",
   "metadata": {},
   "source": [
    "What if we do this? "
   ]
  },
  {
   "cell_type": "code",
   "execution_count": 23,
   "id": "7b467a97",
   "metadata": {},
   "outputs": [
    {
     "ename": "TypeError",
     "evalue": "can only concatenate str (not \"int\") to str",
     "output_type": "error",
     "traceback": [
      "\u001b[0;31m---------------------------------------------------------------------------\u001b[0m",
      "\u001b[0;31mTypeError\u001b[0m                                 Traceback (most recent call last)",
      "\u001b[0;32m/var/folders/xr/5fv2rjx15t5g4p_k7d9tqjyr0000gn/T/ipykernel_71315/2169198870.py\u001b[0m in \u001b[0;36m<module>\u001b[0;34m\u001b[0m\n\u001b[0;32m----> 1\u001b[0;31m \u001b[0;34m\"abc\"\u001b[0m \u001b[0;34m+\u001b[0m \u001b[0;36m5\u001b[0m\u001b[0;34m\u001b[0m\u001b[0;34m\u001b[0m\u001b[0m\n\u001b[0m",
      "\u001b[0;31mTypeError\u001b[0m: can only concatenate str (not \"int\") to str"
     ]
    }
   ],
   "source": [
    "\"abc\" + 5 "
   ]
  },
  {
   "cell_type": "code",
   "execution_count": 24,
   "id": "3fad2900",
   "metadata": {},
   "outputs": [
    {
     "data": {
      "text/plain": [
       "'abc5'"
      ]
     },
     "execution_count": 24,
     "metadata": {},
     "output_type": "execute_result"
    }
   ],
   "source": [
    "\"abc\" + str(5)"
   ]
  },
  {
   "cell_type": "code",
   "execution_count": 26,
   "id": "8515dd4c",
   "metadata": {},
   "outputs": [
    {
     "ename": "TypeError",
     "evalue": "unsupported operand type(s) for ** or pow(): 'str' and 'int'",
     "output_type": "error",
     "traceback": [
      "\u001b[0;31m---------------------------------------------------------------------------\u001b[0m",
      "\u001b[0;31mTypeError\u001b[0m                                 Traceback (most recent call last)",
      "\u001b[0;32m/var/folders/xr/5fv2rjx15t5g4p_k7d9tqjyr0000gn/T/ipykernel_71315/427964639.py\u001b[0m in \u001b[0;36m<module>\u001b[0;34m\u001b[0m\n\u001b[0;32m----> 1\u001b[0;31m \u001b[0;34m\"abc\"\u001b[0m \u001b[0;34m**\u001b[0m \u001b[0;36m2\u001b[0m\u001b[0;34m\u001b[0m\u001b[0;34m\u001b[0m\u001b[0m\n\u001b[0m",
      "\u001b[0;31mTypeError\u001b[0m: unsupported operand type(s) for ** or pow(): 'str' and 'int'"
     ]
    }
   ],
   "source": [
    "\"abc\" ** 2  "
   ]
  },
  {
   "cell_type": "code",
   "execution_count": 27,
   "id": "28388094",
   "metadata": {},
   "outputs": [
    {
     "data": {
      "text/plain": [
       "'abcabcabc'"
      ]
     },
     "execution_count": 27,
     "metadata": {},
     "output_type": "execute_result"
    }
   ],
   "source": [
    "\"abc\" * 3 "
   ]
  },
  {
   "cell_type": "markdown",
   "id": "385c0d4c",
   "metadata": {},
   "source": [
    "## Casting and assignment"
   ]
  },
  {
   "cell_type": "code",
   "execution_count": 28,
   "id": "b5293c20",
   "metadata": {},
   "outputs": [],
   "source": [
    "float?"
   ]
  },
  {
   "cell_type": "code",
   "execution_count": 29,
   "id": "bfdf70f3",
   "metadata": {},
   "outputs": [
    {
     "data": {
      "text/plain": [
       "['__abs__',\n",
       " '__add__',\n",
       " '__bool__',\n",
       " '__class__',\n",
       " '__delattr__',\n",
       " '__dir__',\n",
       " '__divmod__',\n",
       " '__doc__',\n",
       " '__eq__',\n",
       " '__float__',\n",
       " '__floordiv__',\n",
       " '__format__',\n",
       " '__ge__',\n",
       " '__getattribute__',\n",
       " '__getformat__',\n",
       " '__getnewargs__',\n",
       " '__gt__',\n",
       " '__hash__',\n",
       " '__init__',\n",
       " '__init_subclass__',\n",
       " '__int__',\n",
       " '__le__',\n",
       " '__lt__',\n",
       " '__mod__',\n",
       " '__mul__',\n",
       " '__ne__',\n",
       " '__neg__',\n",
       " '__new__',\n",
       " '__pos__',\n",
       " '__pow__',\n",
       " '__radd__',\n",
       " '__rdivmod__',\n",
       " '__reduce__',\n",
       " '__reduce_ex__',\n",
       " '__repr__',\n",
       " '__rfloordiv__',\n",
       " '__rmod__',\n",
       " '__rmul__',\n",
       " '__round__',\n",
       " '__rpow__',\n",
       " '__rsub__',\n",
       " '__rtruediv__',\n",
       " '__set_format__',\n",
       " '__setattr__',\n",
       " '__sizeof__',\n",
       " '__str__',\n",
       " '__sub__',\n",
       " '__subclasshook__',\n",
       " '__truediv__',\n",
       " '__trunc__',\n",
       " 'as_integer_ratio',\n",
       " 'conjugate',\n",
       " 'fromhex',\n",
       " 'hex',\n",
       " 'imag',\n",
       " 'is_integer',\n",
       " 'real']"
      ]
     },
     "execution_count": 29,
     "metadata": {},
     "output_type": "execute_result"
    }
   ],
   "source": [
    "dir(float)"
   ]
  },
  {
   "cell_type": "code",
   "execution_count": 31,
   "id": "43b70749",
   "metadata": {},
   "outputs": [
    {
     "data": {
      "text/plain": [
       "5.0"
      ]
     },
     "execution_count": 31,
     "metadata": {},
     "output_type": "execute_result"
    }
   ],
   "source": [
    "float.__add__(2.,3.)"
   ]
  },
  {
   "cell_type": "code",
   "execution_count": 32,
   "id": "3fe29696",
   "metadata": {},
   "outputs": [],
   "source": [
    "float.__add__?"
   ]
  },
  {
   "cell_type": "code",
   "execution_count": 33,
   "id": "57c3d4ae",
   "metadata": {},
   "outputs": [
    {
     "data": {
      "text/plain": [
       "1.0"
      ]
     },
     "execution_count": 33,
     "metadata": {},
     "output_type": "execute_result"
    }
   ],
   "source": [
    "float(True)"
   ]
  },
  {
   "cell_type": "code",
   "execution_count": 34,
   "id": "36434235",
   "metadata": {},
   "outputs": [
    {
     "data": {
      "text/plain": [
       "1"
      ]
     },
     "execution_count": 34,
     "metadata": {},
     "output_type": "execute_result"
    }
   ],
   "source": [
    "int(1.1)"
   ]
  },
  {
   "cell_type": "code",
   "execution_count": 35,
   "id": "645be496",
   "metadata": {},
   "outputs": [
    {
     "data": {
      "text/plain": [
       "2"
      ]
     },
     "execution_count": 35,
     "metadata": {},
     "output_type": "execute_result"
    }
   ],
   "source": [
    "int(\"2\")"
   ]
  },
  {
   "cell_type": "code",
   "execution_count": 36,
   "id": "fdb5420c",
   "metadata": {},
   "outputs": [
    {
     "data": {
      "text/plain": [
       "False"
      ]
     },
     "execution_count": 36,
     "metadata": {},
     "output_type": "execute_result"
    }
   ],
   "source": [
    "bool(0)"
   ]
  },
  {
   "cell_type": "code",
   "execution_count": 37,
   "id": "836b4f67",
   "metadata": {},
   "outputs": [
    {
     "data": {
      "text/plain": [
       "True"
      ]
     },
     "execution_count": 37,
     "metadata": {},
     "output_type": "execute_result"
    }
   ],
   "source": [
    "bool(\"hello\")"
   ]
  },
  {
   "cell_type": "code",
   "execution_count": 38,
   "id": "2c2425aa",
   "metadata": {},
   "outputs": [],
   "source": [
    "bool?"
   ]
  },
  {
   "cell_type": "code",
   "execution_count": 39,
   "id": "dc7a77e6",
   "metadata": {},
   "outputs": [
    {
     "data": {
      "text/plain": [
       "'3.14159'"
      ]
     },
     "execution_count": 39,
     "metadata": {},
     "output_type": "execute_result"
    }
   ],
   "source": [
    "str(3.14159)"
   ]
  },
  {
   "cell_type": "code",
   "execution_count": 40,
   "id": "7f1040e6",
   "metadata": {},
   "outputs": [
    {
     "data": {
      "text/plain": [
       "'True'"
      ]
     },
     "execution_count": 40,
     "metadata": {},
     "output_type": "execute_result"
    }
   ],
   "source": [
    "str(True)"
   ]
  },
  {
   "cell_type": "code",
   "execution_count": 41,
   "id": "458d47b8",
   "metadata": {},
   "outputs": [
    {
     "ename": "ValueError",
     "evalue": "invalid literal for int() with base 10: '2.1'",
     "output_type": "error",
     "traceback": [
      "\u001b[0;31m---------------------------------------------------------------------------\u001b[0m",
      "\u001b[0;31mValueError\u001b[0m                                Traceback (most recent call last)",
      "\u001b[0;32m/var/folders/xr/5fv2rjx15t5g4p_k7d9tqjyr0000gn/T/ipykernel_71315/2539573619.py\u001b[0m in \u001b[0;36m<module>\u001b[0;34m\u001b[0m\n\u001b[0;32m----> 1\u001b[0;31m \u001b[0mint\u001b[0m\u001b[0;34m(\u001b[0m\u001b[0;34m\"2.1\"\u001b[0m\u001b[0;34m)\u001b[0m\u001b[0;34m\u001b[0m\u001b[0;34m\u001b[0m\u001b[0m\n\u001b[0m",
      "\u001b[0;31mValueError\u001b[0m: invalid literal for int() with base 10: '2.1'"
     ]
    }
   ],
   "source": [
    "int(\"2.1\")"
   ]
  },
  {
   "cell_type": "code",
   "execution_count": 42,
   "id": "542e512c",
   "metadata": {},
   "outputs": [],
   "source": [
    "int?"
   ]
  },
  {
   "cell_type": "markdown",
   "id": "86650551",
   "metadata": {},
   "source": [
    "## Variable assignment"
   ]
  },
  {
   "cell_type": "code",
   "execution_count": 188,
   "id": "c427d9e1",
   "metadata": {},
   "outputs": [
    {
     "data": {
      "text/plain": [
       "100"
      ]
     },
     "execution_count": 188,
     "metadata": {},
     "output_type": "execute_result"
    }
   ],
   "source": [
    "x = 100 \n",
    "x "
   ]
  },
  {
   "cell_type": "code",
   "execution_count": 189,
   "id": "5e12a61f",
   "metadata": {},
   "outputs": [
    {
     "data": {
      "text/plain": [
       "int"
      ]
     },
     "execution_count": 189,
     "metadata": {},
     "output_type": "execute_result"
    }
   ],
   "source": [
    "type(x)"
   ]
  },
  {
   "cell_type": "code",
   "execution_count": 190,
   "id": "ac992293",
   "metadata": {},
   "outputs": [
    {
     "data": {
      "text/plain": [
       "100"
      ]
     },
     "execution_count": 190,
     "metadata": {},
     "output_type": "execute_result"
    }
   ],
   "source": [
    "y = x\n",
    "y"
   ]
  },
  {
   "cell_type": "code",
   "execution_count": 191,
   "id": "83606e4a",
   "metadata": {},
   "outputs": [
    {
     "data": {
      "text/plain": [
       "1"
      ]
     },
     "execution_count": 191,
     "metadata": {},
     "output_type": "execute_result"
    }
   ],
   "source": [
    "y=1\n",
    "y"
   ]
  },
  {
   "cell_type": "code",
   "execution_count": 192,
   "id": "0a35918d",
   "metadata": {},
   "outputs": [],
   "source": [
    "a = b = 5 "
   ]
  },
  {
   "cell_type": "code",
   "execution_count": 193,
   "id": "b7397060",
   "metadata": {},
   "outputs": [
    {
     "data": {
      "text/plain": [
       "(100, 1)"
      ]
     },
     "execution_count": 193,
     "metadata": {},
     "output_type": "execute_result"
    }
   ],
   "source": [
    "x , y "
   ]
  },
  {
   "cell_type": "markdown",
   "id": "0105cc9e",
   "metadata": {},
   "source": [
    "### Exercise\n",
    "Which of the two (or perhaps both) code sections will correctly perform a swap of x and y?  If one of them will not work, describe why it will not work.\n",
    "\n",
    "\n",
    "AW: \"Option 1 will NOT work but it will assign the value of y to x as well.\" "
   ]
  },
  {
   "cell_type": "code",
   "execution_count": 194,
   "id": "b613798e",
   "metadata": {},
   "outputs": [
    {
     "name": "stdout",
     "output_type": "stream",
     "text": [
      "(x,y) =  (1, 1)\n"
     ]
    }
   ],
   "source": [
    "### Option 1\n",
    "x = y \n",
    "y = x \n",
    "print(\"(x,y) = \", (x, y) )"
   ]
  },
  {
   "cell_type": "code",
   "execution_count": null,
   "id": "f3a4aaa1",
   "metadata": {},
   "outputs": [],
   "source": [
    "### Option 2 "
   ]
  },
  {
   "cell_type": "code",
   "execution_count": 195,
   "id": "c4f1c5f5",
   "metadata": {},
   "outputs": [
    {
     "name": "stdout",
     "output_type": "stream",
     "text": [
      "(x,y) =  (1, 100)\n"
     ]
    }
   ],
   "source": [
    "x, y = 100, 1\n",
    "\n",
    "w = x \n",
    "x = y \n",
    "y = w \n",
    "print(\"(x,y) = \", (x, y) )"
   ]
  },
  {
   "cell_type": "markdown",
   "id": "9478b0da",
   "metadata": {},
   "source": [
    "## String literals"
   ]
  },
  {
   "cell_type": "code",
   "execution_count": 51,
   "id": "c1c8392d",
   "metadata": {},
   "outputs": [
    {
     "data": {
      "text/plain": [
       "'allows embedded \"double\" quotes'"
      ]
     },
     "execution_count": 51,
     "metadata": {},
     "output_type": "execute_result"
    }
   ],
   "source": [
    "'allows embedded \"double\" quotes'"
   ]
  },
  {
   "cell_type": "code",
   "execution_count": 52,
   "id": "0c7dd55b",
   "metadata": {},
   "outputs": [
    {
     "data": {
      "text/plain": [
       "'allows embedded \"double\" quotes'"
      ]
     },
     "execution_count": 52,
     "metadata": {},
     "output_type": "execute_result"
    }
   ],
   "source": [
    "s = 'allows embedded \"double\" quotes'\n",
    "s "
   ]
  },
  {
   "cell_type": "code",
   "execution_count": 53,
   "id": "261ba0ec",
   "metadata": {},
   "outputs": [],
   "source": [
    "s2 = \"\"\"line one\n",
    "2 line two\n",
    "3 line three\"\"\""
   ]
  },
  {
   "cell_type": "code",
   "execution_count": 55,
   "id": "7fe18c9e",
   "metadata": {},
   "outputs": [
    {
     "data": {
      "text/plain": [
       "'line one\\n2 line two\\n3 line three'"
      ]
     },
     "execution_count": 55,
     "metadata": {},
     "output_type": "execute_result"
    }
   ],
   "source": [
    "s2"
   ]
  },
  {
   "cell_type": "code",
   "execution_count": 56,
   "id": "b5ac1bde",
   "metadata": {},
   "outputs": [
    {
     "data": {
      "text/plain": [
       "['__add__',\n",
       " '__class__',\n",
       " '__contains__',\n",
       " '__delattr__',\n",
       " '__dir__',\n",
       " '__doc__',\n",
       " '__eq__',\n",
       " '__format__',\n",
       " '__ge__',\n",
       " '__getattribute__',\n",
       " '__getitem__',\n",
       " '__getnewargs__',\n",
       " '__gt__',\n",
       " '__hash__',\n",
       " '__init__',\n",
       " '__init_subclass__',\n",
       " '__iter__',\n",
       " '__le__',\n",
       " '__len__',\n",
       " '__lt__',\n",
       " '__mod__',\n",
       " '__mul__',\n",
       " '__ne__',\n",
       " '__new__',\n",
       " '__reduce__',\n",
       " '__reduce_ex__',\n",
       " '__repr__',\n",
       " '__rmod__',\n",
       " '__rmul__',\n",
       " '__setattr__',\n",
       " '__sizeof__',\n",
       " '__str__',\n",
       " '__subclasshook__',\n",
       " 'capitalize',\n",
       " 'casefold',\n",
       " 'center',\n",
       " 'count',\n",
       " 'encode',\n",
       " 'endswith',\n",
       " 'expandtabs',\n",
       " 'find',\n",
       " 'format',\n",
       " 'format_map',\n",
       " 'index',\n",
       " 'isalnum',\n",
       " 'isalpha',\n",
       " 'isascii',\n",
       " 'isdecimal',\n",
       " 'isdigit',\n",
       " 'isidentifier',\n",
       " 'islower',\n",
       " 'isnumeric',\n",
       " 'isprintable',\n",
       " 'isspace',\n",
       " 'istitle',\n",
       " 'isupper',\n",
       " 'join',\n",
       " 'ljust',\n",
       " 'lower',\n",
       " 'lstrip',\n",
       " 'maketrans',\n",
       " 'partition',\n",
       " 'replace',\n",
       " 'rfind',\n",
       " 'rindex',\n",
       " 'rjust',\n",
       " 'rpartition',\n",
       " 'rsplit',\n",
       " 'rstrip',\n",
       " 'split',\n",
       " 'splitlines',\n",
       " 'startswith',\n",
       " 'strip',\n",
       " 'swapcase',\n",
       " 'title',\n",
       " 'translate',\n",
       " 'upper',\n",
       " 'zfill']"
      ]
     },
     "execution_count": 56,
     "metadata": {},
     "output_type": "execute_result"
    }
   ],
   "source": [
    "dir(s2)"
   ]
  },
  {
   "cell_type": "code",
   "execution_count": 58,
   "id": "8d242bee",
   "metadata": {},
   "outputs": [
    {
     "data": {
      "text/plain": [
       "['line', 'one', '2', 'line', 'two', '3', 'line', 'three']"
      ]
     },
     "execution_count": 58,
     "metadata": {},
     "output_type": "execute_result"
    }
   ],
   "source": [
    "s2.split()"
   ]
  },
  {
   "cell_type": "code",
   "execution_count": 59,
   "id": "4650a2eb",
   "metadata": {},
   "outputs": [
    {
     "data": {
      "text/plain": [
       "['line one', '2 line two', '3 line three']"
      ]
     },
     "execution_count": 59,
     "metadata": {},
     "output_type": "execute_result"
    }
   ],
   "source": [
    "s2.split(\"\\n\")"
   ]
  },
  {
   "cell_type": "code",
   "execution_count": 64,
   "id": "79b46467",
   "metadata": {},
   "outputs": [],
   "source": [
    "x = \"Hello world! 1234\""
   ]
  },
  {
   "cell_type": "code",
   "execution_count": 65,
   "id": "e8408446",
   "metadata": {},
   "outputs": [
    {
     "data": {
      "text/plain": [
       "11"
      ]
     },
     "execution_count": 65,
     "metadata": {},
     "output_type": "execute_result"
    }
   ],
   "source": [
    "x.find(\"!\")"
   ]
  },
  {
   "cell_type": "code",
   "execution_count": 66,
   "id": "d855cd43",
   "metadata": {},
   "outputs": [
    {
     "data": {
      "text/plain": [
       "'Hello World! 1234'"
      ]
     },
     "execution_count": 66,
     "metadata": {},
     "output_type": "execute_result"
    }
   ],
   "source": [
    "x.title()"
   ]
  },
  {
   "cell_type": "markdown",
   "id": "9d3fba45",
   "metadata": {},
   "source": [
    "## List in Python "
   ]
  },
  {
   "cell_type": "markdown",
   "id": "14c9fece",
   "metadata": {},
   "source": [
    "Python lists are heterogenous, ordered, mutable containers of\n",
    "objects (they behave very similarly to lists in R or in JavaScript)."
   ]
  },
  {
   "cell_type": "code",
   "execution_count": 74,
   "id": "06260072",
   "metadata": {},
   "outputs": [
    {
     "data": {
      "text/plain": [
       "[0, 1, 1, 0]"
      ]
     },
     "execution_count": 74,
     "metadata": {},
     "output_type": "execute_result"
    }
   ],
   "source": [
    "l = [0,1,1,0] ## can we assign? Copy and deepcopy\n",
    "l"
   ]
  },
  {
   "cell_type": "code",
   "execution_count": 75,
   "id": "8477f656",
   "metadata": {},
   "outputs": [],
   "source": [
    "k = l "
   ]
  },
  {
   "cell_type": "code",
   "execution_count": 76,
   "id": "29763a4c",
   "metadata": {},
   "outputs": [
    {
     "data": {
      "text/plain": [
       "[0, 1, 1, 0]"
      ]
     },
     "execution_count": 76,
     "metadata": {},
     "output_type": "execute_result"
    }
   ],
   "source": [
    "k "
   ]
  },
  {
   "cell_type": "code",
   "execution_count": 77,
   "id": "488e4bf2",
   "metadata": {},
   "outputs": [],
   "source": [
    "k[0] = 2 "
   ]
  },
  {
   "cell_type": "code",
   "execution_count": 78,
   "id": "2abb8d70",
   "metadata": {},
   "outputs": [
    {
     "data": {
      "text/plain": [
       "[2, 1, 1, 0]"
      ]
     },
     "execution_count": 78,
     "metadata": {},
     "output_type": "execute_result"
    }
   ],
   "source": [
    "l "
   ]
  },
  {
   "cell_type": "code",
   "execution_count": 70,
   "id": "7115ce23",
   "metadata": {},
   "outputs": [
    {
     "data": {
      "text/plain": [
       "[0, True, 'abc']"
      ]
     },
     "execution_count": 70,
     "metadata": {},
     "output_type": "execute_result"
    }
   ],
   "source": [
    "[0, True, \"abc\"]"
   ]
  },
  {
   "cell_type": "code",
   "execution_count": 79,
   "id": "81b9e90a",
   "metadata": {},
   "outputs": [
    {
     "data": {
      "text/plain": [
       "[0, [1, 2], [3, [4]]]"
      ]
     },
     "execution_count": 79,
     "metadata": {},
     "output_type": "execute_result"
    }
   ],
   "source": [
    "[0, [1,2], [3,[4]]] "
   ]
  },
  {
   "cell_type": "code",
   "execution_count": 80,
   "id": "08a9b4f0",
   "metadata": {},
   "outputs": [
    {
     "data": {
      "text/plain": [
       "list"
      ]
     },
     "execution_count": 80,
     "metadata": {},
     "output_type": "execute_result"
    }
   ],
   "source": [
    "type(l)"
   ]
  },
  {
   "cell_type": "code",
   "execution_count": 81,
   "id": "f9b4df38",
   "metadata": {},
   "outputs": [
    {
     "data": {
      "text/plain": [
       "['__add__',\n",
       " '__class__',\n",
       " '__contains__',\n",
       " '__delattr__',\n",
       " '__delitem__',\n",
       " '__dir__',\n",
       " '__doc__',\n",
       " '__eq__',\n",
       " '__format__',\n",
       " '__ge__',\n",
       " '__getattribute__',\n",
       " '__getitem__',\n",
       " '__gt__',\n",
       " '__hash__',\n",
       " '__iadd__',\n",
       " '__imul__',\n",
       " '__init__',\n",
       " '__init_subclass__',\n",
       " '__iter__',\n",
       " '__le__',\n",
       " '__len__',\n",
       " '__lt__',\n",
       " '__mul__',\n",
       " '__ne__',\n",
       " '__new__',\n",
       " '__reduce__',\n",
       " '__reduce_ex__',\n",
       " '__repr__',\n",
       " '__reversed__',\n",
       " '__rmul__',\n",
       " '__setattr__',\n",
       " '__setitem__',\n",
       " '__sizeof__',\n",
       " '__str__',\n",
       " '__subclasshook__',\n",
       " 'append',\n",
       " 'clear',\n",
       " 'copy',\n",
       " 'count',\n",
       " 'extend',\n",
       " 'index',\n",
       " 'insert',\n",
       " 'pop',\n",
       " 'remove',\n",
       " 'reverse',\n",
       " 'sort']"
      ]
     },
     "execution_count": 81,
     "metadata": {},
     "output_type": "execute_result"
    }
   ],
   "source": [
    "dir(l)"
   ]
  },
  {
   "cell_type": "code",
   "execution_count": 82,
   "id": "de2f5ec0",
   "metadata": {},
   "outputs": [],
   "source": [
    "l.sort()"
   ]
  },
  {
   "cell_type": "code",
   "execution_count": 83,
   "id": "8bea59b2",
   "metadata": {},
   "outputs": [
    {
     "data": {
      "text/plain": [
       "[0, 1, 1, 2]"
      ]
     },
     "execution_count": 83,
     "metadata": {},
     "output_type": "execute_result"
    }
   ],
   "source": [
    "l"
   ]
  },
  {
   "cell_type": "code",
   "execution_count": 84,
   "id": "c3aaae6f",
   "metadata": {},
   "outputs": [
    {
     "data": {
      "text/plain": [
       "[0, True, 'abc']"
      ]
     },
     "execution_count": 84,
     "metadata": {},
     "output_type": "execute_result"
    }
   ],
   "source": [
    "y = [0, True, \"abc\"]\n",
    "y"
   ]
  },
  {
   "cell_type": "code",
   "execution_count": 85,
   "id": "9e85da6d",
   "metadata": {},
   "outputs": [
    {
     "data": {
      "text/plain": [
       "list"
      ]
     },
     "execution_count": 85,
     "metadata": {},
     "output_type": "execute_result"
    }
   ],
   "source": [
    "type(y)"
   ]
  },
  {
   "cell_type": "code",
   "execution_count": 86,
   "id": "f0664c04",
   "metadata": {},
   "outputs": [
    {
     "ename": "TypeError",
     "evalue": "'<' not supported between instances of 'str' and 'bool'",
     "output_type": "error",
     "traceback": [
      "\u001b[0;31m---------------------------------------------------------------------------\u001b[0m",
      "\u001b[0;31mTypeError\u001b[0m                                 Traceback (most recent call last)",
      "\u001b[0;32m/var/folders/xr/5fv2rjx15t5g4p_k7d9tqjyr0000gn/T/ipykernel_71315/3916801187.py\u001b[0m in \u001b[0;36m<module>\u001b[0;34m\u001b[0m\n\u001b[0;32m----> 1\u001b[0;31m \u001b[0my\u001b[0m\u001b[0;34m.\u001b[0m\u001b[0msort\u001b[0m\u001b[0;34m(\u001b[0m\u001b[0;34m)\u001b[0m\u001b[0;34m\u001b[0m\u001b[0;34m\u001b[0m\u001b[0m\n\u001b[0m",
      "\u001b[0;31mTypeError\u001b[0m: '<' not supported between instances of 'str' and 'bool'"
     ]
    }
   ],
   "source": [
    "y.sort()"
   ]
  },
  {
   "cell_type": "code",
   "execution_count": 122,
   "id": "93fff970",
   "metadata": {},
   "outputs": [
    {
     "data": {
      "text/plain": [
       "[0, 1, 1, 2, 45]"
      ]
     },
     "execution_count": 122,
     "metadata": {},
     "output_type": "execute_result"
    }
   ],
   "source": [
    "l.append(45)\n",
    "l"
   ]
  },
  {
   "cell_type": "code",
   "execution_count": 124,
   "id": "d9d25f0d",
   "metadata": {},
   "outputs": [
    {
     "data": {
      "text/plain": [
       "[21, 0, 1, 1, 2, 45]"
      ]
     },
     "execution_count": 124,
     "metadata": {},
     "output_type": "execute_result"
    }
   ],
   "source": [
    "l.insert(0,21)\n",
    "l"
   ]
  },
  {
   "cell_type": "code",
   "execution_count": 128,
   "id": "2602f410",
   "metadata": {},
   "outputs": [
    {
     "data": {
      "text/plain": [
       "45"
      ]
     },
     "execution_count": 128,
     "metadata": {},
     "output_type": "execute_result"
    }
   ],
   "source": [
    "l.pop()"
   ]
  },
  {
   "cell_type": "code",
   "execution_count": 129,
   "id": "67eeab78",
   "metadata": {},
   "outputs": [
    {
     "data": {
      "text/plain": [
       "[21, 0, 1, 1, 2]"
      ]
     },
     "execution_count": 129,
     "metadata": {},
     "output_type": "execute_result"
    }
   ],
   "source": [
    "l"
   ]
  },
  {
   "cell_type": "code",
   "execution_count": 130,
   "id": "713a149a",
   "metadata": {},
   "outputs": [
    {
     "data": {
      "text/plain": [
       "[21, 0, 1, 1, 2, 12, 13, 14]"
      ]
     },
     "execution_count": 130,
     "metadata": {},
     "output_type": "execute_result"
    }
   ],
   "source": [
    "l.extend([12,13,14])\n",
    "l"
   ]
  },
  {
   "cell_type": "markdown",
   "id": "6b551ffa",
   "metadata": {},
   "source": [
    "## Unpacking lists in Python"
   ]
  },
  {
   "cell_type": "code",
   "execution_count": null,
   "id": "ce2dc1dc",
   "metadata": {},
   "outputs": [],
   "source": []
  },
  {
   "cell_type": "markdown",
   "id": "563b15c0",
   "metadata": {},
   "source": [
    "In pythonm we can unpack some variables into multiple variables when doing ”assignment”"
   ]
  },
  {
   "cell_type": "code",
   "execution_count": 88,
   "id": "c01c6a39",
   "metadata": {},
   "outputs": [
    {
     "data": {
      "text/plain": [
       "1"
      ]
     },
     "execution_count": 88,
     "metadata": {},
     "output_type": "execute_result"
    }
   ],
   "source": [
    "x1,y1 = [1,2]\n",
    "x1"
   ]
  },
  {
   "cell_type": "code",
   "execution_count": 90,
   "id": "72f3e736",
   "metadata": {},
   "outputs": [
    {
     "data": {
      "text/plain": [
       "2"
      ]
     },
     "execution_count": 90,
     "metadata": {},
     "output_type": "execute_result"
    }
   ],
   "source": [
    "y1"
   ]
  },
  {
   "cell_type": "code",
   "execution_count": 91,
   "id": "71418d36",
   "metadata": {},
   "outputs": [],
   "source": [
    "x1, y1 = [1, [2, 3]]"
   ]
  },
  {
   "cell_type": "code",
   "execution_count": 92,
   "id": "9b6a2067",
   "metadata": {},
   "outputs": [
    {
     "data": {
      "text/plain": [
       "1"
      ]
     },
     "execution_count": 92,
     "metadata": {},
     "output_type": "execute_result"
    }
   ],
   "source": [
    "x1"
   ]
  },
  {
   "cell_type": "code",
   "execution_count": 93,
   "id": "19f6e7ad",
   "metadata": {},
   "outputs": [
    {
     "data": {
      "text/plain": [
       "[2, 3]"
      ]
     },
     "execution_count": 93,
     "metadata": {},
     "output_type": "execute_result"
    }
   ],
   "source": [
    "y1"
   ]
  },
  {
   "cell_type": "code",
   "execution_count": 94,
   "id": "81ba1243",
   "metadata": {},
   "outputs": [],
   "source": [
    "x, *y = [1,2,3] ## what about this x, y = [1,2,3]?"
   ]
  },
  {
   "cell_type": "code",
   "execution_count": 96,
   "id": "0604f9a9",
   "metadata": {},
   "outputs": [],
   "source": [
    "*x, y = [1,2,3]"
   ]
  },
  {
   "cell_type": "code",
   "execution_count": 111,
   "id": "97230370",
   "metadata": {},
   "outputs": [
    {
     "data": {
      "text/plain": [
       "[0.0, 'a', (2+4j), 2000, 'learn python', [1, 2, 3, 4, 5, 6, 7]]"
      ]
     },
     "execution_count": 111,
     "metadata": {},
     "output_type": "execute_result"
    }
   ],
   "source": [
    "mylist2 = [0.0,'a',2+4j,2000,'learn python',[1,2,3,4,5,6,7]]\n",
    "mylist2"
   ]
  },
  {
   "cell_type": "code",
   "execution_count": 112,
   "id": "d8d4ed08",
   "metadata": {},
   "outputs": [
    {
     "data": {
      "text/plain": [
       "[float, str, complex, int, str, list]"
      ]
     },
     "execution_count": 112,
     "metadata": {},
     "output_type": "execute_result"
    }
   ],
   "source": [
    "[type(elt) for elt in mylist2]"
   ]
  },
  {
   "cell_type": "code",
   "execution_count": 119,
   "id": "fc95db93",
   "metadata": {},
   "outputs": [
    {
     "data": {
      "text/plain": [
       "'a'"
      ]
     },
     "execution_count": 119,
     "metadata": {},
     "output_type": "execute_result"
    }
   ],
   "source": [
    "mylist2[1][0]"
   ]
  },
  {
   "cell_type": "code",
   "execution_count": 120,
   "id": "3a56ac67",
   "metadata": {},
   "outputs": [
    {
     "data": {
      "text/plain": [
       "'p'"
      ]
     },
     "execution_count": 120,
     "metadata": {},
     "output_type": "execute_result"
    }
   ],
   "source": [
    "mylist2[4][6]"
   ]
  },
  {
   "cell_type": "code",
   "execution_count": 121,
   "id": "e71ddff2",
   "metadata": {},
   "outputs": [
    {
     "data": {
      "text/plain": [
       "4"
      ]
     },
     "execution_count": 121,
     "metadata": {},
     "output_type": "execute_result"
    }
   ],
   "source": [
    "mylist2[5][3]"
   ]
  },
  {
   "cell_type": "markdown",
   "id": "d952ce97",
   "metadata": {},
   "source": [
    "## Tuples in Python\n",
    "Python tuples are heterogenous, ordered, immutable (or\n",
    "non-mutable) containers of values.\n",
    "They are nearly identical to lists except that their values cannot be\n",
    "changed."
   ]
  },
  {
   "cell_type": "code",
   "execution_count": null,
   "id": "6dc5b9db",
   "metadata": {},
   "outputs": [],
   "source": []
  },
  {
   "cell_type": "code",
   "execution_count": 97,
   "id": "a6389316",
   "metadata": {},
   "outputs": [
    {
     "data": {
      "text/plain": [
       "(1, 2, 3)"
      ]
     },
     "execution_count": 97,
     "metadata": {},
     "output_type": "execute_result"
    }
   ],
   "source": [
    "(1,2,3)"
   ]
  },
  {
   "cell_type": "code",
   "execution_count": 98,
   "id": "f7805798",
   "metadata": {},
   "outputs": [
    {
     "data": {
      "text/plain": [
       "(1, True, 'abc')"
      ]
     },
     "execution_count": 98,
     "metadata": {},
     "output_type": "execute_result"
    }
   ],
   "source": [
    "(1,True, \"abc\")"
   ]
  },
  {
   "cell_type": "code",
   "execution_count": 99,
   "id": "ba627737",
   "metadata": {},
   "outputs": [
    {
     "data": {
      "text/plain": [
       "(1, (2, 3))"
      ]
     },
     "execution_count": 99,
     "metadata": {},
     "output_type": "execute_result"
    }
   ],
   "source": [
    "(1,(2,3))"
   ]
  },
  {
   "cell_type": "code",
   "execution_count": 100,
   "id": "222e4aa3",
   "metadata": {},
   "outputs": [],
   "source": [
    "x = (1,2,3)"
   ]
  },
  {
   "cell_type": "code",
   "execution_count": 101,
   "id": "f05306bf",
   "metadata": {},
   "outputs": [
    {
     "ename": "TypeError",
     "evalue": "'tuple' object does not support item assignment",
     "output_type": "error",
     "traceback": [
      "\u001b[0;31m---------------------------------------------------------------------------\u001b[0m",
      "\u001b[0;31mTypeError\u001b[0m                                 Traceback (most recent call last)",
      "\u001b[0;32m/var/folders/xr/5fv2rjx15t5g4p_k7d9tqjyr0000gn/T/ipykernel_71315/2868818908.py\u001b[0m in \u001b[0;36m<module>\u001b[0;34m\u001b[0m\n\u001b[0;32m----> 1\u001b[0;31m \u001b[0mx\u001b[0m\u001b[0;34m[\u001b[0m\u001b[0;36m2\u001b[0m\u001b[0;34m]\u001b[0m \u001b[0;34m=\u001b[0m \u001b[0;36m5\u001b[0m\u001b[0;34m\u001b[0m\u001b[0;34m\u001b[0m\u001b[0m\n\u001b[0m",
      "\u001b[0;31mTypeError\u001b[0m: 'tuple' object does not support item assignment"
     ]
    }
   ],
   "source": [
    "x[2] = 5"
   ]
  },
  {
   "cell_type": "code",
   "execution_count": 102,
   "id": "37c5917e",
   "metadata": {},
   "outputs": [
    {
     "ename": "TypeError",
     "evalue": "'tuple' object doesn't support item deletion",
     "output_type": "error",
     "traceback": [
      "\u001b[0;31m---------------------------------------------------------------------------\u001b[0m",
      "\u001b[0;31mTypeError\u001b[0m                                 Traceback (most recent call last)",
      "\u001b[0;32m/var/folders/xr/5fv2rjx15t5g4p_k7d9tqjyr0000gn/T/ipykernel_71315/3773569889.py\u001b[0m in \u001b[0;36m<module>\u001b[0;34m\u001b[0m\n\u001b[0;32m----> 1\u001b[0;31m \u001b[0;32mdel\u001b[0m \u001b[0mx\u001b[0m\u001b[0;34m[\u001b[0m\u001b[0;36m2\u001b[0m\u001b[0;34m]\u001b[0m\u001b[0;34m\u001b[0m\u001b[0;34m\u001b[0m\u001b[0m\n\u001b[0m",
      "\u001b[0;31mTypeError\u001b[0m: 'tuple' object doesn't support item deletion"
     ]
    }
   ],
   "source": [
    "del x[2]"
   ]
  },
  {
   "cell_type": "markdown",
   "id": "a8cd981c",
   "metadata": {},
   "source": [
    "## Ranges in Python \n",
    "Python also makes it possible to create a numeric sequence as a list using the range function. In\n",
    "this case, we can create the sequence $a+di, i = 0,..., n$. This is equivalent to $a, a+d, a+2d,...,a+\n",
    "nd$. This can be done using the range function as range(a,b,d) where $b = a + nd + 1$."
   ]
  },
  {
   "cell_type": "code",
   "execution_count": 103,
   "id": "85925fd5",
   "metadata": {},
   "outputs": [
    {
     "data": {
      "text/plain": [
       "range(0, 10)"
      ]
     },
     "execution_count": 103,
     "metadata": {},
     "output_type": "execute_result"
    }
   ],
   "source": [
    "range(10)"
   ]
  },
  {
   "cell_type": "code",
   "execution_count": 104,
   "id": "7bf4eb4a",
   "metadata": {},
   "outputs": [
    {
     "data": {
      "text/plain": [
       "range(0, 10)"
      ]
     },
     "execution_count": 104,
     "metadata": {},
     "output_type": "execute_result"
    }
   ],
   "source": [
    "range(0,10)"
   ]
  },
  {
   "cell_type": "code",
   "execution_count": 105,
   "id": "7ee7cd44",
   "metadata": {},
   "outputs": [],
   "source": [
    "range?"
   ]
  },
  {
   "cell_type": "code",
   "execution_count": 106,
   "id": "a287b8a6",
   "metadata": {},
   "outputs": [
    {
     "data": {
      "text/plain": [
       "range(0, 10, 2)"
      ]
     },
     "execution_count": 106,
     "metadata": {},
     "output_type": "execute_result"
    }
   ],
   "source": [
    "range(0, 10, 2)"
   ]
  },
  {
   "cell_type": "code",
   "execution_count": 107,
   "id": "6b2425b3",
   "metadata": {},
   "outputs": [
    {
     "data": {
      "text/plain": [
       "range(10, 0, -1)"
      ]
     },
     "execution_count": 107,
     "metadata": {},
     "output_type": "execute_result"
    }
   ],
   "source": [
    "range(10, 0, -1)"
   ]
  },
  {
   "cell_type": "code",
   "execution_count": 108,
   "id": "2bcd0b98",
   "metadata": {},
   "outputs": [
    {
     "data": {
      "text/plain": [
       "[0, 1, 2, 3, 4, 5, 6, 7, 8, 9]"
      ]
     },
     "execution_count": 108,
     "metadata": {},
     "output_type": "execute_result"
    }
   ],
   "source": [
    "list(range(10))"
   ]
  },
  {
   "cell_type": "code",
   "execution_count": 109,
   "id": "8e17ecb1",
   "metadata": {},
   "outputs": [
    {
     "data": {
      "text/plain": [
       "['__bool__',\n",
       " '__class__',\n",
       " '__contains__',\n",
       " '__delattr__',\n",
       " '__dir__',\n",
       " '__doc__',\n",
       " '__eq__',\n",
       " '__format__',\n",
       " '__ge__',\n",
       " '__getattribute__',\n",
       " '__getitem__',\n",
       " '__gt__',\n",
       " '__hash__',\n",
       " '__init__',\n",
       " '__init_subclass__',\n",
       " '__iter__',\n",
       " '__le__',\n",
       " '__len__',\n",
       " '__lt__',\n",
       " '__ne__',\n",
       " '__new__',\n",
       " '__reduce__',\n",
       " '__reduce_ex__',\n",
       " '__repr__',\n",
       " '__reversed__',\n",
       " '__setattr__',\n",
       " '__sizeof__',\n",
       " '__str__',\n",
       " '__subclasshook__',\n",
       " 'count',\n",
       " 'index',\n",
       " 'start',\n",
       " 'step',\n",
       " 'stop']"
      ]
     },
     "execution_count": 109,
     "metadata": {},
     "output_type": "execute_result"
    }
   ],
   "source": [
    "dir(range)"
   ]
  },
  {
   "cell_type": "code",
   "execution_count": 113,
   "id": "752676ec",
   "metadata": {},
   "outputs": [],
   "source": [
    "seq = range(0,10)"
   ]
  },
  {
   "cell_type": "code",
   "execution_count": 114,
   "id": "59015e20",
   "metadata": {},
   "outputs": [
    {
     "data": {
      "text/plain": [
       "range(0, 10)"
      ]
     },
     "execution_count": 114,
     "metadata": {},
     "output_type": "execute_result"
    }
   ],
   "source": [
    "seq"
   ]
  },
  {
   "cell_type": "code",
   "execution_count": 116,
   "id": "9f5cfe3a",
   "metadata": {},
   "outputs": [
    {
     "data": {
      "text/plain": [
       "(0, 4)"
      ]
     },
     "execution_count": 116,
     "metadata": {},
     "output_type": "execute_result"
    }
   ],
   "source": [
    "seq[0], seq[4]"
   ]
  },
  {
   "cell_type": "code",
   "execution_count": 117,
   "id": "fa86af9a",
   "metadata": {},
   "outputs": [
    {
     "data": {
      "text/plain": [
       "[0, 1, 2, 3, 4, 5, 6, 7, 8, 9]"
      ]
     },
     "execution_count": 117,
     "metadata": {},
     "output_type": "execute_result"
    }
   ],
   "source": [
    "list(seq)"
   ]
  },
  {
   "cell_type": "code",
   "execution_count": 118,
   "id": "6f6d182f",
   "metadata": {},
   "outputs": [],
   "source": [
    "seq?"
   ]
  },
  {
   "cell_type": "markdown",
   "id": "a2d6392c",
   "metadata": {},
   "source": [
    "## Sets and dictionaries in python"
   ]
  },
  {
   "cell_type": "code",
   "execution_count": 153,
   "id": "8813ddca",
   "metadata": {},
   "outputs": [
    {
     "data": {
      "text/plain": [
       "{1, 2, 3}"
      ]
     },
     "execution_count": 153,
     "metadata": {},
     "output_type": "execute_result"
    }
   ],
   "source": [
    "set([1,2,3])"
   ]
  },
  {
   "cell_type": "code",
   "execution_count": 156,
   "id": "b22ea2ec",
   "metadata": {},
   "outputs": [
    {
     "data": {
      "text/plain": [
       "{1: 'a', 2: 'b'}"
      ]
     },
     "execution_count": 156,
     "metadata": {},
     "output_type": "execute_result"
    }
   ],
   "source": [
    "dict([[1,'a'], [2,\"b\"]])"
   ]
  },
  {
   "cell_type": "markdown",
   "id": "11c0b325",
   "metadata": {},
   "source": [
    "# Control flow, list comprehensions and functions\n",
    "This is a fairly unique feature of Python - expressions are grouped together via indenting. This is relevant for control flow (if, for, while, etc.) as well as function and class definitions and many other aspects of the language.\n",
    "\n",
    "Indenting should be 2 or more spaces (4 is the preferred based on PEP 8) or tab characters - generally your IDE will handle this for you.\n",
    "## Conditionals\n",
    "\n",
    "Python supports tradition if / else style conditional expressions,"
   ]
  },
  {
   "cell_type": "code",
   "execution_count": null,
   "id": "b8536234",
   "metadata": {},
   "outputs": [],
   "source": []
  },
  {
   "cell_type": "code",
   "execution_count": 131,
   "id": "04fb9530",
   "metadata": {},
   "outputs": [
    {
     "name": "stdout",
     "output_type": "stream",
     "text": [
      "X is positive\n"
     ]
    }
   ],
   "source": [
    "\n",
    "x = 42\n",
    "if x < 0:\n",
    "    print(\"X is negative\")\n",
    "elif x > 0:\n",
    "    print(\"X is positive\")\n",
    "else:\n",
    "    print(\"X is zero\")"
   ]
  },
  {
   "cell_type": "code",
   "execution_count": 132,
   "id": "69006bec",
   "metadata": {},
   "outputs": [
    {
     "name": "stdout",
     "output_type": "stream",
     "text": [
      "X is zero\n"
     ]
    }
   ],
   "source": [
    "x = 0\n",
    "if x < 0:\n",
    "    print(\"X is negative\")\n",
    "elif x > 0:\n",
    "    print(\"X is positive\")\n",
    "else:\n",
    "    print(\"X is zero\")"
   ]
  },
  {
   "cell_type": "code",
   "execution_count": 133,
   "id": "7d22627e",
   "metadata": {},
   "outputs": [
    {
     "name": "stdout",
     "output_type": "stream",
     "text": [
      "X is zero\n"
     ]
    }
   ],
   "source": [
    "if x == 0: print (\"X is zero\") # If there is only one expression for example"
   ]
  },
  {
   "cell_type": "markdown",
   "id": "29f62a2f",
   "metadata": {},
   "source": [
    "## Loops in python: while and for"
   ]
  },
  {
   "cell_type": "code",
   "execution_count": 134,
   "id": "acfa27be",
   "metadata": {},
   "outputs": [
    {
     "data": {
      "text/plain": [
       "[17, 52, 26.0, 13.0, 40.0, 20.0, 10.0, 5.0, 16.0, 8.0, 4.0, 2.0, 1.0]"
      ]
     },
     "execution_count": 134,
     "metadata": {},
     "output_type": "execute_result"
    }
   ],
   "source": [
    "#Repeat until the given condition evaluates to False,\n",
    "\n",
    "i = 17\n",
    "seq = [i]\n",
    "while i != 1:\n",
    "    if i % 2 == 0:\n",
    "        i /= 2\n",
    "    else:\n",
    "        i = 3*i + 1\n",
    "    seq.append(i)\n",
    "seq"
   ]
  },
  {
   "cell_type": "markdown",
   "id": "6ab3e4a7",
   "metadata": {},
   "source": [
    "Anyone recognize what this is an example of?"
   ]
  },
  {
   "cell_type": "code",
   "execution_count": 135,
   "id": "e8388a13",
   "metadata": {},
   "outputs": [
    {
     "name": "stdout",
     "output_type": "stream",
     "text": [
      "Hello 5\n",
      "world! 6\n"
     ]
    }
   ],
   "source": [
    "for w in [\"Hello\", \"world!\"]:\n",
    "    print(w, len(w))"
   ]
  },
  {
   "cell_type": "code",
   "execution_count": 137,
   "id": "02857bbc",
   "metadata": {},
   "outputs": [
    {
     "data": {
      "text/plain": [
       "10"
      ]
     },
     "execution_count": 137,
     "metadata": {},
     "output_type": "execute_result"
    }
   ],
   "source": [
    "mysum = 0\n",
    "for v in (1,2,3,4):\n",
    "    mysum += v\n",
    "mysum"
   ]
  },
  {
   "cell_type": "code",
   "execution_count": 139,
   "id": "2afc2be1",
   "metadata": {},
   "outputs": [
    {
     "data": {
      "text/plain": [
       "10"
      ]
     },
     "execution_count": 139,
     "metadata": {},
     "output_type": "execute_result"
    }
   ],
   "source": [
    "mysum = 0\n",
    "for v in range(1,5):\n",
    "    mysum += v\n",
    "mysum"
   ]
  },
  {
   "cell_type": "code",
   "execution_count": 143,
   "id": "171f3fae",
   "metadata": {},
   "outputs": [
    {
     "data": {
      "text/plain": [
       "10"
      ]
     },
     "execution_count": 143,
     "metadata": {},
     "output_type": "execute_result"
    }
   ],
   "source": [
    "mysum = 0\n",
    "for v in range(4,0,-1):\n",
    "    mysum += v\n",
    "mysum"
   ]
  },
  {
   "cell_type": "code",
   "execution_count": 144,
   "id": "4ca0204c",
   "metadata": {},
   "outputs": [
    {
     "data": {
      "text/plain": [
       "[1, 2, 3, 5, 6, 7]"
      ]
     },
     "execution_count": 144,
     "metadata": {},
     "output_type": "execute_result"
    }
   ],
   "source": [
    "res = []\n",
    "for c in \"abc123def567\":\n",
    "    if (c.isnumeric()):\n",
    "        res.append(int(c))\n",
    "res"
   ]
  },
  {
   "cell_type": "markdown",
   "id": "1be1f8b9",
   "metadata": {},
   "source": [
    "## break and continue\n",
    "Allow early loop exit or step to next iteration respectively"
   ]
  },
  {
   "cell_type": "code",
   "execution_count": 145,
   "id": "b58f4df2",
   "metadata": {},
   "outputs": [
    {
     "name": "stdout",
     "output_type": "stream",
     "text": [
      "0 1 2 3 4 "
     ]
    }
   ],
   "source": [
    "for i in range(10):\n",
    "    if i == 5:\n",
    "        break\n",
    "    print(i, end=\" \")"
   ]
  },
  {
   "cell_type": "code",
   "execution_count": 146,
   "id": "fceedd97",
   "metadata": {},
   "outputs": [
    {
     "name": "stdout",
     "output_type": "stream",
     "text": [
      "1 3 5 7 9 "
     ]
    }
   ],
   "source": [
    "for i in range(10):\n",
    "    if i % 2 == 0:\n",
    "        continue\n",
    "    print(i, end=\" \")"
   ]
  },
  {
   "cell_type": "markdown",
   "id": "ae60a86d",
   "metadata": {},
   "source": [
    "## loops and else?\n",
    "\n",
    "Both for and while loops can also have else clauses which execute when the loop is terminated by fully iterating (for) or meetings the while condition, i.e. when break does not execute."
   ]
  },
  {
   "cell_type": "code",
   "execution_count": 149,
   "id": "fb70a21b",
   "metadata": {},
   "outputs": [
    {
     "name": "stdout",
     "output_type": "stream",
     "text": [
      "2 is a ?? number\n",
      "3 is a ?? number\n",
      "4 equals 2 * 2\n",
      "5 is a ?? number\n",
      "6 equals 2 * 3\n",
      "7 is a ?? number\n",
      "8 equals 2 * 4\n",
      "9 equals 3 * 3\n"
     ]
    }
   ],
   "source": [
    "# From python tutorial - Section 4.4\n",
    "for n in range(2, 10):\n",
    "    for x in range(2, n):\n",
    "        if n % x == 0:\n",
    "            print(n, 'equals', x, '*', n//x)\n",
    "            break\n",
    "    else:\n",
    "        print(n, 'is a ?? number')"
   ]
  },
  {
   "cell_type": "markdown",
   "id": "1494fcd7",
   "metadata": {},
   "source": [
    "## pass instruction in python \n",
    "\n",
    "This is a expression that does nothing, it can be used when an expression is needed syntaxtically.\n"
   ]
  },
  {
   "cell_type": "code",
   "execution_count": 150,
   "id": "ff985187",
   "metadata": {},
   "outputs": [],
   "source": [
    "x = -3\n",
    "if x < 0:\n",
    "    pass\n",
    "elif x % 2 == 0:\n",
    "    print(\"x is even\")\n",
    "elif x % 2 == 1:\n",
    "    print(\"x is odd\")"
   ]
  },
  {
   "cell_type": "markdown",
   "id": "5becd529",
   "metadata": {},
   "source": [
    "## List comprehensions \n",
    "They provides a concise syntax for generating lists"
   ]
  },
  {
   "cell_type": "code",
   "execution_count": 157,
   "id": "b8bb8fd9",
   "metadata": {},
   "outputs": [
    {
     "data": {
      "text/plain": [
       "[0, 1, 4, 9, 16, 25, 36, 49, 64, 81]"
      ]
     },
     "execution_count": 157,
     "metadata": {},
     "output_type": "execute_result"
    }
   ],
   "source": [
    "[x**2 for x in range(10)]"
   ]
  },
  {
   "cell_type": "code",
   "execution_count": 158,
   "id": "86eda95f",
   "metadata": {},
   "outputs": [
    {
     "data": {
      "text/plain": [
       "[1, 4, 9]"
      ]
     },
     "execution_count": 158,
     "metadata": {},
     "output_type": "execute_result"
    }
   ],
   "source": [
    "[x**2 for x in (1,2,3)]"
   ]
  },
  {
   "cell_type": "code",
   "execution_count": 159,
   "id": "d23db6ba",
   "metadata": {},
   "outputs": [
    {
     "data": {
      "text/plain": [
       "[0, 4, 16, 36, 64]"
      ]
     },
     "execution_count": 159,
     "metadata": {},
     "output_type": "execute_result"
    }
   ],
   "source": [
    "[x**2 for x in range(10) if x % 2 == 0]"
   ]
  },
  {
   "cell_type": "code",
   "execution_count": 160,
   "id": "5664ce2d",
   "metadata": {},
   "outputs": [
    {
     "data": {
      "text/plain": [
       "[0, 36]"
      ]
     },
     "execution_count": 160,
     "metadata": {},
     "output_type": "execute_result"
    }
   ],
   "source": [
    "[x**2 for x in range(10) if x % 2 == 0 if x % 3 ==0]"
   ]
  },
  {
   "cell_type": "code",
   "execution_count": 161,
   "id": "0b36e7f1",
   "metadata": {},
   "outputs": [
    {
     "data": {
      "text/plain": [
       "[(0, 0), (0, 1), (0, 2), (1, 0), (1, 1), (1, 2), (2, 0), (2, 1), (2, 2)]"
      ]
     },
     "execution_count": 161,
     "metadata": {},
     "output_type": "execute_result"
    }
   ],
   "source": [
    "[(x, y) for x in range(3) for y in range(3)]"
   ]
  },
  {
   "cell_type": "code",
   "execution_count": 163,
   "id": "e404a0d0",
   "metadata": {},
   "outputs": [
    {
     "data": {
      "text/plain": [
       "<zip at 0x7fd7f96cb2d0>"
      ]
     },
     "execution_count": 163,
     "metadata": {},
     "output_type": "execute_result"
    }
   ],
   "source": [
    "x = [1,2,3]\n",
    "y = [3,2,1]\n",
    "\n",
    "z = zip(x, y)\n",
    "z"
   ]
  },
  {
   "cell_type": "code",
   "execution_count": 164,
   "id": "b73fbf5a",
   "metadata": {},
   "outputs": [
    {
     "data": {
      "text/plain": [
       "[(1, 3), (2, 2), (3, 1)]"
      ]
     },
     "execution_count": 164,
     "metadata": {},
     "output_type": "execute_result"
    }
   ],
   "source": [
    "list(z)"
   ]
  },
  {
   "cell_type": "code",
   "execution_count": 165,
   "id": "6c05945f",
   "metadata": {},
   "outputs": [],
   "source": [
    "zip?"
   ]
  },
  {
   "cell_type": "code",
   "execution_count": 166,
   "id": "642f326e",
   "metadata": {},
   "outputs": [
    {
     "data": {
      "text/plain": [
       "[1, 4, 3]"
      ]
     },
     "execution_count": 166,
     "metadata": {},
     "output_type": "execute_result"
    }
   ],
   "source": [
    "[a**b for a,b in zip(x,y)]"
   ]
  },
  {
   "cell_type": "code",
   "execution_count": 168,
   "id": "7fda20b8",
   "metadata": {},
   "outputs": [
    {
     "data": {
      "text/plain": [
       "[(1, 0), (2, 1), (3, 2)]"
      ]
     },
     "execution_count": 168,
     "metadata": {},
     "output_type": "execute_result"
    }
   ],
   "source": [
    "x = [1,2,3,4]\n",
    "y = range(3) # y=[0,1,2]\n",
    "z = \"ABCDE\"\n",
    "list(zip(x,y))"
   ]
  },
  {
   "cell_type": "code",
   "execution_count": 169,
   "id": "602435d6",
   "metadata": {},
   "outputs": [
    {
     "data": {
      "text/plain": [
       "[(1, 'A'), (2, 'B'), (3, 'C'), (4, 'D')]"
      ]
     },
     "execution_count": 169,
     "metadata": {},
     "output_type": "execute_result"
    }
   ],
   "source": [
    "list(zip(x,z))"
   ]
  },
  {
   "cell_type": "markdown",
   "id": "0c4b8334",
   "metadata": {},
   "source": [
    "## Exercise\n",
    "\n",
    "Using list comprehensions, complete the following tasks:\n",
    "\n",
    "Create a list containing tuples of $x$ and $y$ coordinates of all points of a regular grid for $x \\in [0,10]$ and $y \\in [0,10]$\n",
    "\n",
    "- Count the number of points where $y>x$\n",
    "\n",
    "- Count the number of points $x$ or $y$ is prime."
   ]
  },
  {
   "cell_type": "markdown",
   "id": "5772af6a",
   "metadata": {},
   "source": [
    "## Basic functions in python \n",
    "Functions are defined using def, arguments can be defined with out without default values."
   ]
  },
  {
   "cell_type": "code",
   "execution_count": 170,
   "id": "f8473031",
   "metadata": {},
   "outputs": [],
   "source": [
    "def f(x, y=2, z=3):\n",
    "    print(f\"x={x}, y={y}, z={z}\")"
   ]
  },
  {
   "cell_type": "code",
   "execution_count": 172,
   "id": "a6130af8",
   "metadata": {},
   "outputs": [
    {
     "name": "stdout",
     "output_type": "stream",
     "text": [
      "x=2, y=2, z=3\n"
     ]
    }
   ],
   "source": [
    "f(2)"
   ]
  },
  {
   "cell_type": "code",
   "execution_count": 173,
   "id": "94b9e373",
   "metadata": {},
   "outputs": [
    {
     "name": "stdout",
     "output_type": "stream",
     "text": [
      "x=abc, y=True, z=3\n"
     ]
    }
   ],
   "source": [
    "f(\"abc\", y=True)"
   ]
  },
  {
   "cell_type": "code",
   "execution_count": 174,
   "id": "08d2085e",
   "metadata": {},
   "outputs": [
    {
     "ename": "TypeError",
     "evalue": "f() missing 1 required positional argument: 'x'",
     "output_type": "error",
     "traceback": [
      "\u001b[0;31m---------------------------------------------------------------------------\u001b[0m",
      "\u001b[0;31mTypeError\u001b[0m                                 Traceback (most recent call last)",
      "\u001b[0;32m/var/folders/xr/5fv2rjx15t5g4p_k7d9tqjyr0000gn/T/ipykernel_71315/3782956317.py\u001b[0m in \u001b[0;36m<module>\u001b[0;34m\u001b[0m\n\u001b[0;32m----> 1\u001b[0;31m \u001b[0mf\u001b[0m\u001b[0;34m(\u001b[0m\u001b[0;34m)\u001b[0m\u001b[0;34m\u001b[0m\u001b[0;34m\u001b[0m\u001b[0m\n\u001b[0m",
      "\u001b[0;31mTypeError\u001b[0m: f() missing 1 required positional argument: 'x'"
     ]
    }
   ],
   "source": [
    "f()"
   ]
  },
  {
   "cell_type": "code",
   "execution_count": 182,
   "id": "27a20f1a",
   "metadata": {},
   "outputs": [],
   "source": [
    "def f(x:int, y=2, z=3) -> int:\n",
    "    print(f\"x={x}, y={y}, z={z}\")\n",
    "    return x"
   ]
  },
  {
   "cell_type": "code",
   "execution_count": 183,
   "id": "8c38f411",
   "metadata": {},
   "outputs": [
    {
     "name": "stdout",
     "output_type": "stream",
     "text": [
      "x=abc, y=True, z=3\n"
     ]
    },
    {
     "data": {
      "text/plain": [
       "'abc'"
      ]
     },
     "execution_count": 183,
     "metadata": {},
     "output_type": "execute_result"
    }
   ],
   "source": [
    "f(\"abc\", y=True)"
   ]
  },
  {
   "cell_type": "code",
   "execution_count": 185,
   "id": "e73b0a50",
   "metadata": {},
   "outputs": [],
   "source": [
    "f?"
   ]
  },
  {
   "cell_type": "code",
   "execution_count": 186,
   "id": "bb78dbb9",
   "metadata": {},
   "outputs": [],
   "source": [
    "g = lambda x,y : x**y\n",
    "sign = lambda x: 1 if x > 0 else -1 if x < 0 else 0"
   ]
  },
  {
   "cell_type": "code",
   "execution_count": null,
   "id": "875afa69",
   "metadata": {},
   "outputs": [],
   "source": []
  }
 ],
 "metadata": {
  "kernelspec": {
   "display_name": "Python 3 (ipykernel)",
   "language": "python",
   "name": "python3"
  },
  "language_info": {
   "codemirror_mode": {
    "name": "ipython",
    "version": 3
   },
   "file_extension": ".py",
   "mimetype": "text/x-python",
   "name": "python",
   "nbconvert_exporter": "python",
   "pygments_lexer": "ipython3",
   "version": "3.11.2"
  }
 },
 "nbformat": 4,
 "nbformat_minor": 5
}
