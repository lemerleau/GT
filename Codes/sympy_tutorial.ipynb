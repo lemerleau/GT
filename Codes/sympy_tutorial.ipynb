{
 "cells": [
  {
   "cell_type": "markdown",
   "id": "05931390-ef2d-4128-944e-33228a22b719",
   "metadata": {},
   "source": [
    "# Calculus\n",
    "This section covers how to do basic calculus tasks such as derivatives, integrals, limits, and series expansions in SymPy. If you are not familiar with the math of any part of this section, you may safely skip it.\n",
    "\n",
    "ref: https://docs.sympy.org/latest/tutorials/intro-tutorial/calculus.html"
   ]
  },
  {
   "cell_type": "code",
   "execution_count": 1,
   "id": "aecfe01c-bdf3-4871-9277-92303eccf9fe",
   "metadata": {},
   "outputs": [],
   "source": [
    "from sympy import *\n",
    "\n",
    "x, y, z = symbols('x y z')\n",
    "init_printing(use_unicode=True)"
   ]
  },
  {
   "cell_type": "markdown",
   "id": "574533a8-d115-47d0-89da-cca75e452749",
   "metadata": {},
   "source": [
    "# Derivatives\n",
    "To take derivatives, use the diff() function."
   ]
  },
  {
   "cell_type": "code",
   "execution_count": 2,
   "id": "f0cf67f3-e645-4273-a7d4-78cedfe1572c",
   "metadata": {},
   "outputs": [
    {
     "data": {
      "image/png": "[encoded data removed]",
      "text/latex": [
       "$\\displaystyle - \\sin{\\left(x \\right)}$"
      ],
      "text/plain": [
       "-sin(x)"
      ]
     },
     "execution_count": 2,
     "metadata": {},
     "output_type": "execute_result"
    }
   ],
   "source": [
    "diff(cos(x), x)"
   ]
  },
  {
   "cell_type": "code",
   "execution_count": 3,
   "id": "956589be-9f70-49c5-965a-794b77acd7d9",
   "metadata": {},
   "outputs": [
    {
     "data": {
      "image/png": "[encoded data removed]",
      "text/latex": [
       "$\\displaystyle 2 x e^{x^{2}}$"
      ],
      "text/plain": [
       "     ⎛ 2⎞\n",
       "     ⎝x ⎠\n",
       "2⋅x⋅ℯ    "
      ]
     },
     "execution_count": 3,
     "metadata": {},
     "output_type": "execute_result"
    }
   ],
   "source": [
    "diff(exp(x**2), x)"
   ]
  },
  {
   "cell_type": "markdown",
   "id": "23bbf72b-1a68-4d20-85f5-6214c204210b",
   "metadata": {},
   "source": [
    "``diff()`` can take multiple derivatives at once. To\n",
    "\n",
    "take multiple derivatives, pass the variable as many times as you wish to following find the third derivative of $x^4$."
   ]
  },
  {
   "cell_type": "code",
   "execution_count": 4,
   "id": "d12836ea-f57b-423c-8c47-32c8a5d233ee",
   "metadata": {},
   "outputs": [
    {
     "data": {
      "image/png": "[encoded data removed]",
      "text/latex": [
       "$\\displaystyle 24 x$"
      ],
      "text/plain": [
       "24⋅x"
      ]
     },
     "execution_count": 4,
     "metadata": {},
     "output_type": "execute_result"
    }
   ],
   "source": [
    "diff(x**4, x, x, x)"
   ]
  },
  {
   "cell_type": "code",
   "execution_count": 5,
   "id": "6d9ca673-07dd-4b51-a139-57185b6261de",
   "metadata": {},
   "outputs": [
    {
     "data": {
      "image/png": "[encoded data removed]",
      "text/latex": [
       "$\\displaystyle 24 x$"
      ],
      "text/plain": [
       "24⋅x"
      ]
     },
     "execution_count": 5,
     "metadata": {},
     "output_type": "execute_result"
    }
   ],
   "source": [
    "diff(x**4, x, 3)"
   ]
  },
  {
   "cell_type": "markdown",
   "id": "53f4883b-0b74-4698-baa6-77885664ba94",
   "metadata": {},
   "source": [
    "You can also take derivatives with respect to many variables at once. Just pass each derivative in order, using the same syntax as for single variable derivatives. For example, each of the following will compute\n",
    "$$ \n",
    "\\frac{\\partial^7}{\\partial x\\partial y^2\\partial z^4} e^{xyz}\n",
    "$$\n",
    "."
   ]
  },
  {
   "cell_type": "code",
   "execution_count": 8,
   "id": "73675610-8328-4f82-9002-659a31cf2224",
   "metadata": {},
   "outputs": [],
   "source": [
    "expr = exp(x*y*z)"
   ]
  },
  {
   "cell_type": "code",
   "execution_count": 9,
   "id": "5333f093-1ddc-4966-ba53-548460a4f967",
   "metadata": {},
   "outputs": [
    {
     "data": {
      "image/png": "[encoded data removed]",
      "text/latex": [
       "$\\displaystyle x^{3} y^{2} \\left(x^{3} y^{3} z^{3} + 14 x^{2} y^{2} z^{2} + 52 x y z + 48\\right) e^{x y z}$"
      ],
      "text/plain": [
       " 3  2 ⎛ 3  3  3       2  2  2                ⎞  x⋅y⋅z\n",
       "x ⋅y ⋅⎝x ⋅y ⋅z  + 14⋅x ⋅y ⋅z  + 52⋅x⋅y⋅z + 48⎠⋅ℯ     "
      ]
     },
     "execution_count": 9,
     "metadata": {},
     "output_type": "execute_result"
    }
   ],
   "source": [
    "diff(expr, x, y, y, z, z, z, z)"
   ]
  },
  {
   "cell_type": "code",
   "execution_count": 10,
   "id": "9b8c8ba7-2e62-4383-b06e-cc3ef9747959",
   "metadata": {},
   "outputs": [
    {
     "data": {
      "image/png": "[encoded data removed]",
      "text/latex": [
       "$\\displaystyle x^{3} y^{2} \\left(x^{3} y^{3} z^{3} + 14 x^{2} y^{2} z^{2} + 52 x y z + 48\\right) e^{x y z}$"
      ],
      "text/plain": [
       " 3  2 ⎛ 3  3  3       2  2  2                ⎞  x⋅y⋅z\n",
       "x ⋅y ⋅⎝x ⋅y ⋅z  + 14⋅x ⋅y ⋅z  + 52⋅x⋅y⋅z + 48⎠⋅ℯ     "
      ]
     },
     "execution_count": 10,
     "metadata": {},
     "output_type": "execute_result"
    }
   ],
   "source": [
    "diff(expr, x, y, 2, z, 4)"
   ]
  },
  {
   "cell_type": "code",
   "execution_count": 11,
   "id": "e7fe6966-ccd4-4f30-a995-ac42d051fc48",
   "metadata": {},
   "outputs": [
    {
     "data": {
      "image/png": "[encoded data removed]",
      "text/latex": [
       "$\\displaystyle x^{3} y^{2} \\left(x^{3} y^{3} z^{3} + 14 x^{2} y^{2} z^{2} + 52 x y z + 48\\right) e^{x y z}$"
      ],
      "text/plain": [
       " 3  2 ⎛ 3  3  3       2  2  2                ⎞  x⋅y⋅z\n",
       "x ⋅y ⋅⎝x ⋅y ⋅z  + 14⋅x ⋅y ⋅z  + 52⋅x⋅y⋅z + 48⎠⋅ℯ     "
      ]
     },
     "execution_count": 11,
     "metadata": {},
     "output_type": "execute_result"
    }
   ],
   "source": [
    "diff(expr, x, y, y, z, 4)"
   ]
  },
  {
   "cell_type": "markdown",
   "id": "78c02a2a-73b4-40ae-a3d8-73d1201c9a7f",
   "metadata": {},
   "source": [
    "``diff()`` can also be called as a method. The two ways of calling ``diff()`` are exactly the same, and are provided only for convenience."
   ]
  },
  {
   "cell_type": "code",
   "execution_count": 12,
   "id": "edc2b476-b937-4941-9bb4-f4f2aa4020d9",
   "metadata": {},
   "outputs": [
    {
     "data": {
      "image/png": "[encoded data removed]",
      "text/latex": [
       "$\\displaystyle x^{3} y^{2} \\left(x^{3} y^{3} z^{3} + 14 x^{2} y^{2} z^{2} + 52 x y z + 48\\right) e^{x y z}$"
      ],
      "text/plain": [
       " 3  2 ⎛ 3  3  3       2  2  2                ⎞  x⋅y⋅z\n",
       "x ⋅y ⋅⎝x ⋅y ⋅z  + 14⋅x ⋅y ⋅z  + 52⋅x⋅y⋅z + 48⎠⋅ℯ     "
      ]
     },
     "execution_count": 12,
     "metadata": {},
     "output_type": "execute_result"
    }
   ],
   "source": [
    "expr.diff(x, y, y, z, 4)"
   ]
  },
  {
   "cell_type": "markdown",
   "id": "cd211e78-1ef8-4cd2-ac22-2a5f8b797f4e",
   "metadata": {},
   "source": [
    "To create an unevaluated derivative, use the Derivative class. It has the same syntax as ``diff()``."
   ]
  },
  {
   "cell_type": "code",
   "execution_count": 13,
   "id": "31070ff3-aaee-4745-b372-0ccc712cb107",
   "metadata": {},
   "outputs": [
    {
     "data": {
      "image/png": "[encoded data removed]",
      "text/latex": [
       "$\\displaystyle \\frac{\\partial^{7}}{\\partial z^{4}\\partial y^{2}\\partial x} e^{x y z}$"
      ],
      "text/plain": [
       "     7            \n",
       "    ∂     ⎛ x⋅y⋅z⎞\n",
       "──────────⎝ℯ     ⎠\n",
       "  4   2           \n",
       "∂z  ∂y  ∂x        "
      ]
     },
     "execution_count": 13,
     "metadata": {},
     "output_type": "execute_result"
    }
   ],
   "source": [
    "deriv = Derivative(expr, x, y, y, z, 4)\n",
    "deriv"
   ]
  },
  {
   "cell_type": "code",
   "execution_count": 14,
   "id": "91a3abca-9bd0-4b3a-aaf2-45054376c0ec",
   "metadata": {},
   "outputs": [
    {
     "data": {
      "image/png": "[encoded data removed]",
      "text/latex": [
       "$\\displaystyle x^{3} y^{2} \\left(x^{3} y^{3} z^{3} + 14 x^{2} y^{2} z^{2} + 52 x y z + 48\\right) e^{x y z}$"
      ],
      "text/plain": [
       " 3  2 ⎛ 3  3  3       2  2  2                ⎞  x⋅y⋅z\n",
       "x ⋅y ⋅⎝x ⋅y ⋅z  + 14⋅x ⋅y ⋅z  + 52⋅x⋅y⋅z + 48⎠⋅ℯ     "
      ]
     },
     "execution_count": 14,
     "metadata": {},
     "output_type": "execute_result"
    }
   ],
   "source": [
    "deriv.doit()"
   ]
  },
  {
   "cell_type": "markdown",
   "id": "00e4901b-d2de-47a0-a289-fa7d71e48456",
   "metadata": {},
   "source": [
    "These unevaluated objects are useful for delaying the evaluation of the derivative, or for printing purposes. They are also used when SymPy does not know how to compute the derivative of an expression.\n",
    "\n",
    "Derivatives of unspecified order can be created using tuple $(x, n)$ where $n$ is the order of the derivative with respect to $x$."
   ]
  },
  {
   "cell_type": "code",
   "execution_count": 15,
   "id": "28af2e76-5ec9-4ec3-b8a0-a4c34d304cd9",
   "metadata": {},
   "outputs": [
    {
     "data": {
      "image/png": "[encoded data removed]",
      "text/latex": [
       "$\\displaystyle \\frac{\\partial^{n}}{\\partial x^{n}} \\left(a x + b\\right)^{m}$"
      ],
      "text/plain": [
       " n             \n",
       "∂  ⎛         m⎞\n",
       "───⎝(a⋅x + b) ⎠\n",
       "  n            \n",
       "∂x             "
      ]
     },
     "execution_count": 15,
     "metadata": {},
     "output_type": "execute_result"
    }
   ],
   "source": [
    "m, n, a, b = symbols('m n a b')\n",
    "expr = (a*x + b)**m\n",
    "expr.diff((x, n))"
   ]
  },
  {
   "cell_type": "code",
   "execution_count": 16,
   "id": "28f17e92-d060-458f-8529-2248f171aedb",
   "metadata": {},
   "outputs": [
    {
     "data": {
      "image/png": "[encoded data removed]",
      "text/latex": [
       "$\\displaystyle \\left(a x + b\\right)^{m}$"
      ],
      "text/plain": [
       "         m\n",
       "(a⋅x + b) "
      ]
     },
     "execution_count": 16,
     "metadata": {},
     "output_type": "execute_result"
    }
   ],
   "source": [
    "expr"
   ]
  },
  {
   "cell_type": "code",
   "execution_count": 18,
   "id": "c24f15a6-f38e-44d3-af4f-a8aded7fc1bf",
   "metadata": {},
   "outputs": [
    {
     "data": {
      "image/png": "[encoded data removed]",
      "text/latex": [
       "$\\displaystyle \\frac{\\partial^{n}}{\\partial x^{n}} \\left(a x + b\\right)^{m}$"
      ],
      "text/plain": [
       " n             \n",
       "∂  ⎛         m⎞\n",
       "───⎝(a⋅x + b) ⎠\n",
       "  n            \n",
       "∂x             "
      ]
     },
     "execution_count": 18,
     "metadata": {},
     "output_type": "execute_result"
    }
   ],
   "source": [
    "deriv = Derivative(expr, (x,n))\n",
    "deriv"
   ]
  },
  {
   "cell_type": "code",
   "execution_count": null,
   "id": "b42d5523-c344-4246-b798-8a5a93090ecc",
   "metadata": {},
   "outputs": [],
   "source": [
    "deriv.doit()## what will this do?"
   ]
  },
  {
   "cell_type": "markdown",
   "id": "60dae3c5-994f-458e-8d08-b85e4b3805ac",
   "metadata": {},
   "source": [
    "# Integrals\n",
    "To compute an integral, use the integrate() function. There are two kinds of integrals, definite and indefinite. To compute an indefinite integral, that is, an antiderivative, or primitive, just pass the variable after the expression."
   ]
  },
  {
   "cell_type": "code",
   "execution_count": 21,
   "id": "62ba0abc-4691-4d3e-b68e-4a6bd41f324c",
   "metadata": {},
   "outputs": [
    {
     "data": {
      "image/png": "[encoded data removed]",
      "text/latex": [
       "$\\displaystyle \\sin{\\left(x \\right)}$"
      ],
      "text/plain": [
       "sin(x)"
      ]
     },
     "execution_count": 21,
     "metadata": {},
     "output_type": "execute_result"
    }
   ],
   "source": [
    "integrate(cos(x), x)"
   ]
  },
  {
   "cell_type": "markdown",
   "id": "468e9a16-6c04-4eec-8046-8e17b804915a",
   "metadata": {},
   "source": [
    "Note that $\\texttt{Sympy}$ does not include the constant of integration. If you want it, you can add one yourself, or rephrase your problem as a differential equation and use ``dsolve()`` to solve it, which does add the constant (see Solving Differential Equations).\n",
    "\n",
    "To compute a definite integral, pass the argument ``(integration_variable, lower_limit, upper_limit)``. For example, to compute\n",
    "\n",
    "$$\n",
    "\\int_{0}^{\\infty} e^{-x} dx\n",
    "$$"
   ]
  },
  {
   "cell_type": "code",
   "execution_count": 23,
   "id": "e96dfba1-6261-4685-8f5a-b4211bfe9bc9",
   "metadata": {},
   "outputs": [
    {
     "data": {
      "image/png": "[encoded data removed]",
      "text/latex": [
       "$\\displaystyle 1$"
      ],
      "text/plain": [
       "1"
      ]
     },
     "execution_count": 23,
     "metadata": {},
     "output_type": "execute_result"
    }
   ],
   "source": [
    "integrate(exp(-x), (x, 0, oo))"
   ]
  },
  {
   "cell_type": "markdown",
   "id": "bd065579-100f-43ce-a2af-279533da92e5",
   "metadata": {},
   "source": [
    "As with indefinite integrals, you can pass multiple limit tuples to perform a multiple integral. For example, to compute\n",
    "$$\n",
    "\\int_{-\\infty}^{\\infty} \\int_{-\\infty}^{\\infty}  e^{-x^2-y^2} dx dy\n",
    "$$\n",
    "do "
   ]
  },
  {
   "cell_type": "code",
   "execution_count": 24,
   "id": "0e50a807-7d02-41b5-a6c6-51a8f184bb0e",
   "metadata": {},
   "outputs": [
    {
     "data": {
      "image/png": "[encoded data removed]",
      "text/latex": [
       "$\\displaystyle \\pi$"
      ],
      "text/plain": [
       "π"
      ]
     },
     "execution_count": 24,
     "metadata": {},
     "output_type": "execute_result"
    }
   ],
   "source": [
    "integrate(exp(-x**2 - y**2), (x, -oo, oo), (y, -oo, oo))"
   ]
  },
  {
   "cell_type": "markdown",
   "id": "003721d4-b4d3-4507-9c03-95ed5ed907bc",
   "metadata": {},
   "source": [
    "If ``integrate()`` is unable to compute an integral, it returns an unevaluated Integral object."
   ]
  },
  {
   "cell_type": "code",
   "execution_count": 25,
   "id": "e3cd389c-974e-4c49-9d39-0f19862375d1",
   "metadata": {},
   "outputs": [
    {
     "name": "stdout",
     "output_type": "stream",
     "text": [
      "Integral(x**x, x)\n"
     ]
    },
    {
     "data": {
      "image/png": "[encoded data removed]",
      "text/latex": [
       "$\\displaystyle \\int x^{x}\\, dx$"
      ],
      "text/plain": [
       "⌠      \n",
       "⎮  x   \n",
       "⎮ x  dx\n",
       "⌡      "
      ]
     },
     "execution_count": 25,
     "metadata": {},
     "output_type": "execute_result"
    }
   ],
   "source": [
    "expr = integrate(x**x, x)\n",
    "print(expr)\n",
    "expr"
   ]
  },
  {
   "cell_type": "markdown",
   "id": "db3e9116-f949-4318-b38f-6623a7cd4f34",
   "metadata": {},
   "source": [
    "As with ``Derivative``, you can create an unevaluated integral using Integral. To later evaluate this integral, call ``doit()``."
   ]
  },
  {
   "cell_type": "code",
   "execution_count": 26,
   "id": "7bda96ad-6b87-4d3d-a9f2-e670baeb78b8",
   "metadata": {},
   "outputs": [
    {
     "data": {
      "image/png": "[encoded data removed]",
      "text/latex": [
       "$\\displaystyle x \\log{\\left(x \\right)}^{2} - 2 x \\log{\\left(x \\right)} + 2 x$"
      ],
      "text/plain": [
       "     2                      \n",
       "x⋅log (x) - 2⋅x⋅log(x) + 2⋅x"
      ]
     },
     "execution_count": 26,
     "metadata": {},
     "output_type": "execute_result"
    }
   ],
   "source": [
    "expr = Integral(log(x)**2, x)\n",
    "expr\n",
    "expr.doit()"
   ]
  },
  {
   "cell_type": "markdown",
   "id": "7ad5ab73-9b01-4883-bfb4-5a2c58b199af",
   "metadata": {},
   "source": [
    "``integrate()`` uses powerful algorithms that are always improving to compute both definite and indefinite integrals, including heuristic pattern matching type algorithms, a partial implementation of the Risch algorithm, and an algorithm using Meijer G-functions that is useful for computing integrals in terms of special functions, especially definite integrals. Here is a sampling of some of the power of ``integrate()``."
   ]
  },
  {
   "cell_type": "code",
   "execution_count": 28,
   "id": "98e55b1d-c144-42ce-9e62-63be99a6c5e4",
   "metadata": {},
   "outputs": [
    {
     "data": {
      "image/png": "[encoded data removed]",
      "text/latex": [
       "$\\displaystyle \\int \\frac{\\left(x^{4} + x^{2} e^{x} - x^{2} - 2 x e^{x} - 2 x - e^{x}\\right) e^{x}}{\\left(x - 1\\right)^{2} \\left(x + 1\\right)^{2} \\left(e^{x} + 1\\right)}\\, dx$"
      ],
      "text/plain": [
       "⌠                                            \n",
       "⎮ ⎛ 4    2  x    2        x          x⎞  x   \n",
       "⎮ ⎝x  + x ⋅ℯ  - x  - 2⋅x⋅ℯ  - 2⋅x - ℯ ⎠⋅ℯ    \n",
       "⎮ ──────────────────────────────────────── dx\n",
       "⎮               2        2 ⎛ x    ⎞          \n",
       "⎮        (x - 1) ⋅(x + 1) ⋅⎝ℯ  + 1⎠          \n",
       "⌡                                            "
      ]
     },
     "execution_count": 28,
     "metadata": {},
     "output_type": "execute_result"
    }
   ],
   "source": [
    "integ = Integral((x**4 + x**2*exp(x) - x**2 - 2*x*exp(x) - 2*x -\n",
    "    exp(x))*exp(x)/((x - 1)**2*(x + 1)**2*(exp(x) + 1)), x)\n",
    "integ"
   ]
  },
  {
   "cell_type": "code",
   "execution_count": 29,
   "id": "27adc00d-987f-4d4d-8692-e1617f628a05",
   "metadata": {},
   "outputs": [
    {
     "data": {
      "image/png": "[encoded data removed]",
      "text/latex": [
       "$\\displaystyle \\log{\\left(e^{x} + 1 \\right)} + \\frac{e^{x}}{x^{2} - 1}$"
      ],
      "text/plain": [
       "                 x  \n",
       "   ⎛ x    ⎞     ℯ   \n",
       "log⎝ℯ  + 1⎠ + ──────\n",
       "               2    \n",
       "              x  - 1"
      ]
     },
     "execution_count": 29,
     "metadata": {},
     "output_type": "execute_result"
    }
   ],
   "source": [
    "integ.doit()"
   ]
  },
  {
   "cell_type": "code",
   "execution_count": 30,
   "id": "f427bd98-06f5-430e-909a-d6c6a0e61365",
   "metadata": {},
   "outputs": [
    {
     "data": {
      "image/png": "[encoded data removed]",
      "text/latex": [
       "$\\displaystyle \\int \\sin{\\left(x^{2} \\right)}\\, dx$"
      ],
      "text/plain": [
       "⌠           \n",
       "⎮    ⎛ 2⎞   \n",
       "⎮ sin⎝x ⎠ dx\n",
       "⌡           "
      ]
     },
     "execution_count": 30,
     "metadata": {},
     "output_type": "execute_result"
    }
   ],
   "source": [
    "integ = Integral(sin(x**2), x)\n",
    "integ"
   ]
  },
  {
   "cell_type": "code",
   "execution_count": 31,
   "id": "2af51e47-465b-4e20-9aa3-9cbdd86698e9",
   "metadata": {},
   "outputs": [
    {
     "data": {
      "image/png": "[encoded data removed]",
      "text/latex": [
       "$\\displaystyle \\frac{3 \\sqrt{2} \\sqrt{\\pi} S\\left(\\frac{\\sqrt{2} x}{\\sqrt{\\pi}}\\right) \\Gamma\\left(\\frac{3}{4}\\right)}{8 \\Gamma\\left(\\frac{7}{4}\\right)}$"
      ],
      "text/plain": [
       "         ⎛√2⋅x⎞       \n",
       "3⋅√2⋅√π⋅S⎜────⎟⋅Γ(3/4)\n",
       "         ⎝ √π ⎠       \n",
       "──────────────────────\n",
       "       8⋅Γ(7/4)       "
      ]
     },
     "execution_count": 31,
     "metadata": {},
     "output_type": "execute_result"
    }
   ],
   "source": [
    "integ.doit()"
   ]
  },
  {
   "cell_type": "code",
   "execution_count": 32,
   "id": "99b29fa0-690b-400f-a3cf-df35dc0a4cb8",
   "metadata": {},
   "outputs": [
    {
     "data": {
      "image/png": "[encoded data removed]",
      "text/latex": [
       "$\\displaystyle \\int\\limits_{0}^{\\infty} x^{y} e^{- x}\\, dx$"
      ],
      "text/plain": [
       "∞          \n",
       "⌠          \n",
       "⎮  y  -x   \n",
       "⎮ x ⋅ℯ   dx\n",
       "⌡          \n",
       "0          "
      ]
     },
     "execution_count": 32,
     "metadata": {},
     "output_type": "execute_result"
    }
   ],
   "source": [
    "integ = Integral(x**y*exp(-x), (x, 0, oo))\n",
    "integ"
   ]
  },
  {
   "cell_type": "code",
   "execution_count": 34,
   "id": "69b88a5c-c313-4a10-8066-2ad4b66b50a1",
   "metadata": {},
   "outputs": [
    {
     "data": {
      "image/png": "[encoded data removed]",
      "text/latex": [
       "$\\displaystyle \\begin{cases} \\Gamma\\left(y + 1\\right) & \\text{for}\\: \\operatorname{re}{\\left(y\\right)} > -1 \\\\\\int\\limits_{0}^{\\infty} x^{y} e^{- x}\\, dx & \\text{otherwise} \\end{cases}$"
      ],
      "text/plain": [
       "⎧ Γ(y + 1)    for re(y) > -1\n",
       "⎪                           \n",
       "⎪∞                          \n",
       "⎪⌠                          \n",
       "⎨⎮  y  -x                   \n",
       "⎪⎮ x ⋅ℯ   dx    otherwise   \n",
       "⎪⌡                          \n",
       "⎪0                          \n",
       "⎩                           "
      ]
     },
     "execution_count": 34,
     "metadata": {},
     "output_type": "execute_result"
    }
   ],
   "source": [
    "integ.doit()"
   ]
  },
  {
   "cell_type": "markdown",
   "id": "0135744f-7545-48eb-961d-daf69ddef404",
   "metadata": {},
   "source": [
    "This last example returned a Piecewise expression because the integral does not converge unless $\\mathcal{R}(y) > -1$"
   ]
  },
  {
   "cell_type": "markdown",
   "id": "0d7850c2-7495-4217-8e33-51b903578258",
   "metadata": {},
   "source": [
    "# Numeric Integration\n",
    "Numeric integration is a method employed in mathematical analysis to estimate the definite integral of a function across a simplified range. SymPy not only facilitates symbolic integration but also provides support for numeric integration. It leverages the precision capabilities of the mpmath library to enhance the accuracy of numeric integration calculations."
   ]
  },
  {
   "cell_type": "code",
   "execution_count": 36,
   "id": "8e6a0372-6fe2-4954-8f5a-f480622a4e27",
   "metadata": {},
   "outputs": [
    {
     "data": {
      "image/png": "[encoded data removed]",
      "text/latex": [
       "$\\displaystyle \\int\\limits_{0}^{1} \\sqrt{2} x\\, dx$"
      ],
      "text/plain": [
       "1        \n",
       "⌠        \n",
       "⎮ √2⋅x dx\n",
       "⌡        \n",
       "0        "
      ]
     },
     "execution_count": 36,
     "metadata": {},
     "output_type": "execute_result"
    }
   ],
   "source": [
    "from sympy import Integral, Symbol, sqrt\n",
    "x = Symbol('x')\n",
    "integral = Integral(sqrt(2)*x, (x, 0, 1))\n",
    "integral"
   ]
  },
  {
   "cell_type": "code",
   "execution_count": 38,
   "id": "600fa179-9ca9-4f97-bd09-af49a41953e6",
   "metadata": {},
   "outputs": [
    {
     "data": {
      "image/png": "[encoded data removed]",
      "text/latex": [
       "$\\displaystyle 0.707106781186548$"
      ],
      "text/plain": [
       "0.707106781186548"
      ]
     },
     "execution_count": 38,
     "metadata": {},
     "output_type": "execute_result"
    }
   ],
   "source": [
    "integral.evalf()"
   ]
  },
  {
   "cell_type": "markdown",
   "id": "9c56d618-9994-4a43-b29b-48329b61f657",
   "metadata": {},
   "source": [
    "To compute the integral with a specified precision:"
   ]
  },
  {
   "cell_type": "code",
   "execution_count": 39,
   "id": "ea9efc87-e393-4d5c-ab5d-330f52110b5a",
   "metadata": {},
   "outputs": [
    {
     "data": {
      "image/png": "[encoded data removed]",
      "text/latex": [
       "$\\displaystyle 0.70710678118654752440084436210484903928483593768847$"
      ],
      "text/plain": [
       "0.70710678118654752440084436210484903928483593768847"
      ]
     },
     "execution_count": 39,
     "metadata": {},
     "output_type": "execute_result"
    }
   ],
   "source": [
    "integral.evalf(50)"
   ]
  },
  {
   "cell_type": "markdown",
   "id": "4afe1696-6be3-4c44-8178-b296abbb4df0",
   "metadata": {},
   "source": [
    "Numeric integration becomes a viable approach in situations where symbolic integration is impractical or impossible. This method allows for the computation of integrals through numerical techniques, even when dealing with infinite intervals or integrands:"
   ]
  },
  {
   "cell_type": "code",
   "execution_count": 40,
   "id": "aba4eb30-24c8-49af-8e5a-7e6f0fad1a18",
   "metadata": {},
   "outputs": [
    {
     "data": {
      "image/png": "[encoded data removed]",
      "text/latex": [
       "$\\displaystyle 1.77245385090552$"
      ],
      "text/plain": [
       "1.77245385090552"
      ]
     },
     "execution_count": 40,
     "metadata": {},
     "output_type": "execute_result"
    }
   ],
   "source": [
    "Integral(exp(-(x ** 2)), (x, -oo, oo)).evalf()"
   ]
  },
  {
   "cell_type": "code",
   "execution_count": 41,
   "id": "d14d544b-3f70-48bd-ad2e-ee5baf555a9f",
   "metadata": {},
   "outputs": [
    {
     "data": {
      "image/png": "[encoded data removed]",
      "text/latex": [
       "$\\displaystyle 2.0$"
      ],
      "text/plain": [
       "2.00000000000000"
      ]
     },
     "execution_count": 41,
     "metadata": {},
     "output_type": "execute_result"
    }
   ],
   "source": [
    "Integral(1 / sqrt(x), (x, 0, 1)).evalf()"
   ]
  },
  {
   "cell_type": "markdown",
   "id": "f3a2a9c6-562a-426b-983e-45b8cb031dfd",
   "metadata": {},
   "source": [
    "# Limits\n",
    "\n",
    "SymPy can compute symbolic limits with the limit() function. The syntax to compute\n",
    "$$\n",
    "\\lim_{x \\to x_0 } f(x)\n",
    "$$\n",
    "is ``limit(f(x), x, x0)``."
   ]
  },
  {
   "cell_type": "code",
   "execution_count": 42,
   "id": "a1d48538-803a-40b7-9e48-52613f2d8a55",
   "metadata": {},
   "outputs": [
    {
     "data": {
      "image/png": "[encoded data removed]",
      "text/latex": [
       "$\\displaystyle 1$"
      ],
      "text/plain": [
       "1"
      ]
     },
     "execution_count": 42,
     "metadata": {},
     "output_type": "execute_result"
    }
   ],
   "source": [
    "limit(sin(x)/x, x, 0)"
   ]
  },
  {
   "cell_type": "markdown",
   "id": "69bf70c2-72e0-4803-92ba-68ae8861fc39",
   "metadata": {},
   "source": [
    "``limit()`` should be used instead of ``subs()`` whenever the point of evaluation is a singularity. Even though $\\texttt{SymPy}$ has objects to represent, using them for evaluation is not reliable because they do not keep track of things like rate of growth. Also, things like and return (not-a-number). For example"
   ]
  },
  {
   "cell_type": "code",
   "execution_count": 43,
   "id": "597f02b9-8201-467d-be5c-9c40ac4028d2",
   "metadata": {},
   "outputs": [
    {
     "data": {
      "image/png": "[encoded data removed]",
      "text/latex": [
       "$\\displaystyle 0$"
      ],
      "text/plain": [
       "0"
      ]
     },
     "execution_count": 43,
     "metadata": {},
     "output_type": "execute_result"
    }
   ],
   "source": [
    "expr = x**2/exp(x)\n",
    "expr.subs(x, oo)\n",
    "limit(expr, x, oo)"
   ]
  },
  {
   "cell_type": "markdown",
   "id": "f0b53b9d-7f1c-4743-937f-99e71868071b",
   "metadata": {},
   "source": [
    "Like Derivative and Integral, ``limit()`` has an unevaluated counterpart, ``Limit``. To evaluate it, use ``doit()``."
   ]
  },
  {
   "cell_type": "code",
   "execution_count": 45,
   "id": "5000b538-996a-4272-8f20-1250b6844f0b",
   "metadata": {},
   "outputs": [
    {
     "data": {
      "image/png": "[encoded data removed]",
      "text/latex": [
       "$\\displaystyle \\lim_{x \\to 0^+}\\left(\\frac{\\cos{\\left(x \\right)} - 1}{x}\\right)$"
      ],
      "text/plain": [
       "     ⎛cos(x) - 1⎞\n",
       " lim ⎜──────────⎟\n",
       "x─→0⁺⎝    x     ⎠"
      ]
     },
     "execution_count": 45,
     "metadata": {},
     "output_type": "execute_result"
    }
   ],
   "source": [
    "expr = Limit((cos(x) - 1)/x, x, 0)\n",
    "expr"
   ]
  },
  {
   "cell_type": "code",
   "execution_count": 46,
   "id": "2ac864e2-68bb-4a1e-9441-fb84c45a454a",
   "metadata": {},
   "outputs": [
    {
     "data": {
      "image/png": "[encoded data removed]",
      "text/latex": [
       "$\\displaystyle 0$"
      ],
      "text/plain": [
       "0"
      ]
     },
     "execution_count": 46,
     "metadata": {},
     "output_type": "execute_result"
    }
   ],
   "source": [
    "expr.doit()"
   ]
  },
  {
   "cell_type": "markdown",
   "id": "09c1a5e1-77fb-48ce-a09e-2820be22d134",
   "metadata": {},
   "source": [
    "To evaluate a limit at one side only, pass '+' or '-' as a fourth argument to ``limit()``. For example, to compute\n",
    "\n",
    "$$\n",
    "\\lim_{x \\to 0^+ } \\frac{1}{x}\n",
    "$$\n",
    "do "
   ]
  },
  {
   "cell_type": "code",
   "execution_count": 47,
   "id": "3c3ba19b-013d-4bbd-b70c-cca86bc5af47",
   "metadata": {},
   "outputs": [
    {
     "data": {
      "image/png": "[encoded data removed]",
      "text/latex": [
       "$\\displaystyle \\infty$"
      ],
      "text/plain": [
       "∞"
      ]
     },
     "execution_count": 47,
     "metadata": {},
     "output_type": "execute_result"
    }
   ],
   "source": [
    "limit(1/x, x, 0, '+')"
   ]
  },
  {
   "cell_type": "code",
   "execution_count": 48,
   "id": "fab02d68-83a1-40b3-9c8c-1e9f95ff89e4",
   "metadata": {},
   "outputs": [
    {
     "data": {
      "image/png": "[encoded data removed]",
      "text/latex": [
       "$\\displaystyle -\\infty$"
      ],
      "text/plain": [
       "-∞"
      ]
     },
     "execution_count": 48,
     "metadata": {},
     "output_type": "execute_result"
    }
   ],
   "source": [
    "limit(1/x, x, 0, '-')"
   ]
  },
  {
   "cell_type": "markdown",
   "id": "e3fde4fa-0493-4211-85c2-11d94c717eb6",
   "metadata": {},
   "source": [
    "$\\texttt{SymPy}$ can compute asymptotic series expansions of functions around a point. To compute the expansion of $f(x)$ around the point $x=x_0$ terms of order $x^n$, use ``f(x).series(x, x0, n)``. $x_0$ and n can be omitted, in which case the defaults ``x0=0`` and ``n=6`` will be used"
   ]
  },
  {
   "cell_type": "code",
   "execution_count": 49,
   "id": "0e24737d-a452-4a2f-91b5-cf72ecb1aab5",
   "metadata": {},
   "outputs": [
    {
     "data": {
      "image/png": "[encoded data removed]",
      "text/latex": [
       "$\\displaystyle 1 + x + \\frac{x^{2}}{2} + O\\left(x^{4}\\right)$"
      ],
      "text/plain": [
       "         2        \n",
       "        x     ⎛ 4⎞\n",
       "1 + x + ── + O⎝x ⎠\n",
       "        2         "
      ]
     },
     "execution_count": 49,
     "metadata": {},
     "output_type": "execute_result"
    }
   ],
   "source": [
    "expr = exp(sin(x))\n",
    "expr.series(x, 0, 4)"
   ]
  },
  {
   "cell_type": "markdown",
   "id": "b89bf301-6b05-4619-b1ac-05932371aaf7",
   "metadata": {},
   "source": [
    "The term $O(x^4)$ at the end represents the Landau order term at $x=0$ (not to be confused with big $O$ notation used in computer science, which generally represents the Landau order term at $x$ where $x \\to \\infty$ ). It means that all $x$ terms with power greater than or equal to $x^4$ are omitted. Order terms can be created and manipulated outside of ``series``. They automatically absorb higher order terms."
   ]
  },
  {
   "cell_type": "code",
   "execution_count": 51,
   "id": "ec7de1f7-1214-4277-ae8b-b6c941baeab4",
   "metadata": {},
   "outputs": [
    {
     "data": {
      "image/png": "[encoded data removed]",
      "text/latex": [
       "$\\displaystyle x + x^{3} + O\\left(x^{4}\\right)$"
      ],
      "text/plain": [
       "     3    ⎛ 4⎞\n",
       "x + x  + O⎝x ⎠"
      ]
     },
     "execution_count": 51,
     "metadata": {},
     "output_type": "execute_result"
    }
   ],
   "source": [
    "x + x**3 + x**6 + O(x**4)\n"
   ]
  },
  {
   "cell_type": "code",
   "execution_count": 52,
   "id": "5466ccb4-712e-4cbb-998e-cfb86b9082f7",
   "metadata": {},
   "outputs": [
    {
     "data": {
      "image/png": "[encoded data removed]",
      "text/latex": [
       "$\\displaystyle O\\left(x\\right)$"
      ],
      "text/plain": [
       "O(x)"
      ]
     },
     "execution_count": 52,
     "metadata": {},
     "output_type": "execute_result"
    }
   ],
   "source": [
    "x*O(1)"
   ]
  },
  {
   "cell_type": "markdown",
   "id": "b59668b8-85f2-4396-b8a5-ecd32f91c5a8",
   "metadata": {},
   "source": [
    "If you do not want the order term, use the ``removeO()`` method."
   ]
  },
  {
   "cell_type": "code",
   "execution_count": 53,
   "id": "c5d61e50-0a2a-4820-a988-b3913ba8ac27",
   "metadata": {},
   "outputs": [
    {
     "data": {
      "image/png": "[encoded data removed]",
      "text/latex": [
       "$\\displaystyle \\frac{x^{2}}{2} + x + 1$"
      ],
      "text/plain": [
       " 2        \n",
       "x         \n",
       "── + x + 1\n",
       "2         "
      ]
     },
     "execution_count": 53,
     "metadata": {},
     "output_type": "execute_result"
    }
   ],
   "source": [
    "expr.series(x, 0, 4).removeO()"
   ]
  },
  {
   "cell_type": "markdown",
   "id": "1607300d-bdb9-4e7d-b94e-5809a4d7e62d",
   "metadata": {},
   "source": [
    "The ``O`` notation supports arbitrary limit points (other than 0):"
   ]
  },
  {
   "cell_type": "code",
   "execution_count": 54,
   "id": "326d4b29-2045-456e-98b5-ef08a8b97534",
   "metadata": {},
   "outputs": [
    {
     "data": {
      "image/png": "[encoded data removed]",
      "text/latex": [
       "$\\displaystyle -5 + \\frac{\\left(x - 6\\right)^{2}}{2} + \\frac{\\left(x - 6\\right)^{3}}{6} + \\frac{\\left(x - 6\\right)^{4}}{24} + \\frac{\\left(x - 6\\right)^{5}}{120} + x + O\\left(\\left(x - 6\\right)^{6}; x\\rightarrow 6\\right)$"
      ],
      "text/plain": [
       "            2          3          4          5                         \n",
       "     (x - 6)    (x - 6)    (x - 6)    (x - 6)         ⎛       6       ⎞\n",
       "-5 + ──────── + ──────── + ──────── + ──────── + x + O⎝(x - 6) ; x → 6⎠\n",
       "        2          6          24        120                            "
      ]
     },
     "execution_count": 54,
     "metadata": {},
     "output_type": "execute_result"
    }
   ],
   "source": [
    "exp(x - 6).series(x, x0=6)"
   ]
  },
  {
   "cell_type": "markdown",
   "id": "766d41dc-2024-4cb0-9c15-e75c6379fbca",
   "metadata": {},
   "source": [
    "! Fin"
   ]
  },
  {
   "cell_type": "code",
   "execution_count": null,
   "id": "81bd1dd4-185c-4d85-bb3f-9ac7b8cb8572",
   "metadata": {},
   "outputs": [],
   "source": []
  }
 ],
 "metadata": {
  "kernelspec": {
   "display_name": "sage",
   "language": "python",
   "name": "sage"
  },
  "language_info": {
   "codemirror_mode": {
    "name": "ipython",
    "version": 3
   },
   "file_extension": ".py",
   "mimetype": "text/x-python",
   "name": "python",
   "nbconvert_exporter": "python",
   "pygments_lexer": "ipython3",
   "version": "3.11.13"
  }
 },
 "nbformat": 4,
 "nbformat_minor": 5
}
